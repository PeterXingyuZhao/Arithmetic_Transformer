{
 "cells": [
  {
   "cell_type": "markdown",
   "metadata": {
    "id": "XiJlazZQgeT9"
   },
   "source": []
  },
  {
   "cell_type": "code",
   "execution_count": 2,
   "metadata": {
    "colab": {
     "base_uri": "https://localhost:8080/"
    },
    "executionInfo": {
     "elapsed": 18638,
     "status": "ok",
     "timestamp": 1749760178157,
     "user": {
      "displayName": "XINGYU ZHAO",
      "userId": "04643349183146398189"
     },
     "user_tz": 300
    },
    "id": "l93EtEMl7d6_",
    "outputId": "1a46c6b1-bf4a-42c7-be5f-0888c3c5f779"
   },
   "outputs": [
    {
     "name": "stdout",
     "output_type": "stream",
     "text": [
      "Mounted at /content/drive\n",
      "/content/drive/MyDrive/addition\n",
      "2_operands_0_to_999_balanced_digit\n",
      "2_operands_addition.txt\n",
      "3_operands_addition.txt\n",
      "4_operands_0_to_999_addition_not_reversed\n",
      "4_operands_0_to_999_addition_not_reversed_NoPE\n",
      "4_operands_0_to_999_addition_reversed\n",
      "4_operands_3_digits_addition_not_reversed_1M_additional_metric\n",
      "4_operands_3_digits_addition_not_reversed_1M_lr_adjusted\n",
      "4_operands_3_digits_addition_reversed_1M\n",
      "4_operands_4_digits_addition_reversed\n",
      "4_operands_addition_3_digit.txt\n",
      "4_operands_addition_not_reversed.txt\n",
      "4_operands_addition_reversed.txt\n",
      "5_operands_addition.txt\n",
      "6_operands_addition.txt\n",
      "7_operands_addition.txt\n",
      "ckpt_iter_145100_acc.pt\n",
      "configurator.py\n",
      "data\n",
      "eight_operand_examples.txt\n",
      "evaluation.py\n",
      "generate_addition_data.py\n",
      "main_utilities.py\n",
      "model.py\n",
      "myStart_New.ipynb\n",
      "original.txt\n",
      "__pycache__\n",
      "README.md\n",
      "reverse_4_addition_2000\n",
      "reversed_new.txt\n",
      "reversed.txt\n",
      "simple_test.ipynb\n",
      "test_checkpoint.ipynb\n",
      "train_NoPE.py\n",
      "train.py\n",
      "train_zero_padding_NoPE.py\n",
      "train_zero_padding.py\n",
      "triple_operand_examples.txt\n"
     ]
    }
   ],
   "source": [
    "from google.colab import drive\n",
    "drive.mount('/content/drive')\n",
    "\n",
    "# Change directory to your code\n",
    "%cd /content/drive/MyDrive/addition\n",
    "%pwd   # verify you’re in the right place\n",
    "!ls    # should show train.py, 4_operands_addition.txt, etc."
   ]
  },
  {
   "cell_type": "code",
   "execution_count": 3,
   "metadata": {
    "colab": {
     "base_uri": "https://localhost:8080/"
    },
    "executionInfo": {
     "elapsed": 114,
     "status": "ok",
     "timestamp": 1749760182107,
     "user": {
      "displayName": "XINGYU ZHAO",
      "userId": "04643349183146398189"
     },
     "user_tz": 300
    },
    "id": "ab6bYUOk7yPP",
    "outputId": "6f902b3a-c6c6-488a-c3ff-a9227266104f"
   },
   "outputs": [
    {
     "name": "stdout",
     "output_type": "stream",
     "text": [
      "/content/drive/MyDrive/addition/data\n",
      "addition_2_operands_0_to_999_balanced_digit  create_data.py\n",
      "addition_4_operands_0_to_999\t\t     data_generation.ipynb\n",
      "addition_4_operands_1_digit\t\t     data_utilities.py\n",
      "addition_4_operands_3_digit\t\t     generate_0_to_999.py\n",
      "addition_4_operands_4_digit\t\t     reverse_results.py\n",
      "create_data_multiple_operators.py\t     sample_and_strip.py\n"
     ]
    }
   ],
   "source": [
    "%cd /content/drive/MyDrive/addition/data\n",
    "%pwd   # verify you’re in the right place\n",
    "!ls    # should show train.py, 4_operands_addition.txt, etc."
   ]
  },
  {
   "cell_type": "code",
   "execution_count": null,
   "metadata": {
    "colab": {
     "base_uri": "https://localhost:8080/"
    },
    "executionInfo": {
     "elapsed": 506,
     "status": "ok",
     "timestamp": 1749442572712,
     "user": {
      "displayName": "XINGYU ZHAO",
      "userId": "04643349183146398189"
     },
     "user_tz": 300
    },
    "id": "TsfjCHSh77_G",
    "outputId": "281edc95-89e4-4593-d831-43d8749e51e3"
   },
   "outputs": [
    {
     "name": "stdout",
     "output_type": "stream",
     "text": [
      "Processed './4_operands_0_to_999_10K_val.txt' and wrote results to './4_operands_0_to_999_10K_val_reversed.txt'.\n"
     ]
    }
   ],
   "source": [
    "!python reverse_results.py"
   ]
  },
  {
   "cell_type": "markdown",
   "metadata": {
    "id": "KoW5EXHimk89"
   },
   "source": [
    "## Generate 4 Operand 4 Digit Data"
   ]
  },
  {
   "cell_type": "markdown",
   "metadata": {
    "id": "HV3FT-cErhrU"
   },
   "source": [
    "Create training, valuation and testing data."
   ]
  },
  {
   "cell_type": "code",
   "execution_count": null,
   "metadata": {
    "id": "BkaC9vyYmogK"
   },
   "outputs": [],
   "source": [
    "import random\n",
    "from pathlib import Path\n",
    "\n",
    "def generate_dataset(num_samples: int,\n",
    "                     output_path: Path,\n",
    "                     include_answer: bool = True,\n",
    "                     append_dollar: bool = False):\n",
    "    \"\"\"\n",
    "    Generates lines of the form:\n",
    "      a+b+c+d=SUM$\n",
    "    or\n",
    "      a+b+c+d=\\n\n",
    "    where a, b, c, d are random 4-digit integers.\n",
    "\n",
    "    Parameters:\n",
    "    - num_samples: Number of lines to generate.\n",
    "    - output_path: Path to save the generated file.\n",
    "    - include_answer: If True, include the sum after '='.\n",
    "    - append_dollar: If True, append a dollar sign after the sum.\n",
    "    \"\"\"\n",
    "    lines = []\n",
    "    for _ in range(num_samples):\n",
    "        # keep sampling until we get a 5-digit sum\n",
    "        while True:\n",
    "            ops = [random.randint(1000, 9999) for _ in range(4)]\n",
    "            total = sum(ops)\n",
    "            if 10000 <= total <= 99999:\n",
    "                break\n",
    "\n",
    "        expr = \"+\".join(map(str, ops)) + \"=\"\n",
    "        if include_answer:\n",
    "            expr += str(total)\n",
    "            if append_dollar:\n",
    "                expr += \"$\"\n",
    "        lines.append(expr + \"\\n\")\n",
    "\n",
    "\n",
    "    # Make sure the directory exists\n",
    "    output_path.parent.mkdir(parents=True, exist_ok=True)\n",
    "    # Write all lines at once\n",
    "    output_path.write_text(\"\".join(lines))\n",
    "\n",
    "\n",
    "if __name__ == \"__main__\":\n",
    "    # 1 million training examples, with sums and a trailing '$'\n",
    "    generate_dataset(\n",
    "        num_samples=1_000_000,\n",
    "        output_path=Path(\"/content/drive/MyDrive/addition/data/4_operands_4_digits_1M_train.txt\"),\n",
    "        include_answer=True,\n",
    "        append_dollar=True\n",
    "    )\n",
    "\n",
    "    # 10 000 validation examples, with sums and a trailing '$'\n",
    "    generate_dataset(\n",
    "        num_samples=10_000,\n",
    "        output_path=Path(\"/content/drive/MyDrive/addition/data/4_operands_4_digits_10K_val.txt\"),\n",
    "        include_answer=True,\n",
    "        append_dollar=True\n",
    "    )\n",
    "\n",
    "    # 10 000 test examples, without the sums (just the '=')\n",
    "    generate_dataset(\n",
    "        num_samples=10_000,\n",
    "        output_path=Path(\"/content/drive/MyDrive/addition/data/4_operands_4_digits_10K_test.txt\"),\n",
    "        include_answer=False\n",
    "    )\n"
   ]
  },
  {
   "cell_type": "markdown",
   "metadata": {
    "id": "f9tqu3IkrgBP"
   },
   "source": [
    "Create training evaluation data. (Randomly sample 10K from training data and strip the result)"
   ]
  },
  {
   "cell_type": "code",
   "execution_count": null,
   "metadata": {
    "colab": {
     "base_uri": "https://localhost:8080/"
    },
    "executionInfo": {
     "elapsed": 660,
     "status": "ok",
     "timestamp": 1749422191314,
     "user": {
      "displayName": "XINGYU ZHAO",
      "userId": "04643349183146398189"
     },
     "user_tz": 300
    },
    "id": "KcvU956xrwkl",
    "outputId": "1f6ea501-80b4-48a1-c72f-03bfecf8337d"
   },
   "outputs": [
    {
     "name": "stdout",
     "output_type": "stream",
     "text": [
      "Total lines in input file: 1000000\n",
      "Wrote 10000 sampled lines to './addition_4_operands_4_digit/4_operands_4_digits_10K_train_eval.txt'.\n"
     ]
    }
   ],
   "source": [
    "!python sample_and_strip.py \\\n",
    "    --input ./addition_4_operands_4_digit/4_operands_4_digits_1M_train.txt \\\n",
    "    --output ./addition_4_operands_4_digit/4_operands_4_digits_10K_train_eval.txt \\\n",
    "    --sample-size 10000"
   ]
  },
  {
   "cell_type": "code",
   "execution_count": null,
   "metadata": {
    "id": "XcbRgs_zX7e4",
    "outputId": "07ec5b54-2666-43ce-c68c-c231b51d69c6"
   },
   "outputs": [
    {
     "data": {
      "text/plain": [
       "'/Users/perfectpeter/Library/CloudStorage/GoogleDrive-xzhao468@wisc.edu/My Drive/addition/data'"
      ]
     },
     "execution_count": 1,
     "metadata": {},
     "output_type": "execute_result"
    }
   ],
   "source": [
    "%pwd"
   ]
  },
  {
   "cell_type": "code",
   "execution_count": null,
   "metadata": {
    "colab": {
     "base_uri": "https://localhost:8080/",
     "height": 643
    },
    "executionInfo": {
     "elapsed": 3673,
     "status": "ok",
     "timestamp": 1749428538685,
     "user": {
      "displayName": "XINGYU ZHAO",
      "userId": "04643349183146398189"
     },
     "user_tz": 300
    },
    "id": "P4OJivDOEHrx",
    "outputId": "f8939d66-035e-43e6-9e8f-c3814eebfc0d"
   },
   "outputs": [
    {
     "name": "stderr",
     "output_type": "stream",
     "text": [
      "/var/folders/dp/6r_hlpr50lqcd7cw4178845m0000gn/T/ipykernel_53140/3235429647.py:14: DtypeWarning: Columns (36,38,57,59,62,64,65,66,67,68,69,71,72,73,78,81,83,86,89,90,93,97,98,99,101) have mixed types. Specify dtype option on import or set low_memory=False.\n",
      "  df = pd.read_csv(CSV_PATH)\n"
     ]
    },
    {
     "data": {
      "image/png": "[encoded data removed]",
      "text/plain": [
       "<Figure size 1000x600 with 1 Axes>"
      ]
     },
     "metadata": {},
     "output_type": "display_data"
    }
   ],
   "source": [
    "import pandas as pd\n",
    "from pathlib import Path\n",
    "import re\n",
    "import matplotlib.pyplot as plt\n",
    "\n",
    "# ─────────────────────── CONSTANTS ───────────────────────\n",
    "CSV_PATH   = Path(\"/Users/perfectpeter/Library/CloudStorage/GoogleDrive-xzhao468@wisc.edu/My Drive/addition/4_operands_4_digits_addition_reversed/out/4_operands_4_digits_addition_reversed/4_operands_4_digits_10K_test_results.csv\")   # <-- your single big file\n",
    "STEP_SIZE  = 100\n",
    "OFFSET     = 100                       # ← new: first iteration to plot\n",
    "ACTUAL_COL = \"actual\"\n",
    "PRED_REGEX = r\"pred_iter_(\\d+)\"\n",
    "# ─────────────────────────────────────────────────────────────\n",
    "\n",
    "df = pd.read_csv(CSV_PATH)\n",
    "\n",
    "# find all pred_iter_* columns whose step = OFFSET + n*STEP_SIZE\n",
    "pred_cols = []\n",
    "for col in df.columns:\n",
    "    m = re.fullmatch(PRED_REGEX, col)\n",
    "    if not m:\n",
    "        continue\n",
    "    step = int(m.group(1))\n",
    "    if step >= OFFSET and (step - OFFSET) % STEP_SIZE == 0:\n",
    "        pred_cols.append((step, col))\n",
    "pred_cols.sort(key=lambda x: x[0])\n",
    "# ─────────────────────────────────────────────────────────────\n",
    "\n",
    "def digit_error_tally(actual, pred) -> dict[str, int]:\n",
    "    \"\"\"Return dict with counts of errors by decimal place (units … thousands).\"\"\"\n",
    "    counts = {\"units\": 0, \"tens\": 0, \"hundreds\": 0, \"thousands\": 0, \"ten_thousands\": 0}\n",
    "    for gold, guess in zip(actual, pred):\n",
    "        # defensive parsing – treat blanks / non-ints as all-digit errors\n",
    "        try:\n",
    "            g = str(int(gold)).zfill(5)\n",
    "            p = str(int(guess)).zfill(5)\n",
    "        except ValueError:\n",
    "            g = str(int(gold)).zfill(5)\n",
    "            p = \"00000\"\n",
    "        if g[-1] != p[-1]:\n",
    "            counts[\"units\"] += 1\n",
    "        if g[-2] != p[-2]:\n",
    "            counts[\"tens\"] += 1\n",
    "        if g[-3] != p[-3]:\n",
    "            counts[\"hundreds\"] += 1\n",
    "        if g[-4] != p[-4]:\n",
    "            counts[\"thousands\"] += 1\n",
    "        if g[-5] != p[-5]:\n",
    "            counts[\"ten_thousands\"] += 1\n",
    "    return counts\n",
    "\n",
    "\n",
    "# ──────────────────── GATHER ERROR COUNTS ────────────────────\n",
    "iterations, units, tens, hundreds, thousands, ten_thousands = [], [], [], [], [], []\n",
    "\n",
    "for step, col in pred_cols:\n",
    "    stats = digit_error_tally(df[ACTUAL_COL], df[col])\n",
    "    iterations.append(step)\n",
    "    units.append(stats[\"units\"])\n",
    "    tens.append(stats[\"tens\"])\n",
    "    hundreds.append(stats[\"hundreds\"])\n",
    "    thousands.append(stats[\"thousands\"])\n",
    "    ten_thousands.append(stats[\"ten_thousands\"])\n",
    "\n",
    "# ──────────────────── PLOT ────────────────────\n",
    "plt.figure(figsize=(10, 6))\n",
    "plt.plot(iterations, units,     label=\"Units-place errors\")\n",
    "plt.plot(iterations, tens,      label=\"Tens-place errors\")\n",
    "plt.plot(iterations, hundreds,  label=\"Hundreds-place errors\")\n",
    "plt.plot(iterations, thousands, label=\"Thousands-place errors\")\n",
    "plt.plot(iterations, ten_thousands, label=\"Ten-thousands-place errors\")\n",
    "\n",
    "plt.title(\"Digit-wise error count vs. training iteration\")\n",
    "plt.xlabel(\"Training iteration\")\n",
    "plt.ylabel(\"# rows with an error at that digit\")\n",
    "plt.grid(True, linestyle=\"--\", linewidth=0.5)\n",
    "plt.legend()\n",
    "plt.tight_layout()\n",
    "plt.show()"
   ]
  },
  {
   "cell_type": "markdown",
   "metadata": {
    "id": "2S0gOjd42Ipz"
   },
   "source": [
    "## Generate Flexible 3 Digit Data (0-999)"
   ]
  },
  {
   "cell_type": "code",
   "execution_count": null,
   "metadata": {
    "id": "1Cy4-WDB2QQv"
   },
   "outputs": [],
   "source": [
    "import random\n",
    "from pathlib import Path\n",
    "\n",
    "def generate_dataset(num_samples: int,\n",
    "                     output_path: Path,\n",
    "                     include_answer: bool = True,\n",
    "                     append_dollar: bool = False):\n",
    "    \"\"\"\n",
    "    Generates lines of the form:\n",
    "      a+b+c+d=SUM$\n",
    "    or\n",
    "      a+b+c+d=\\n\n",
    "    where a, b, c, d are random 3-digit integers, ranging from 0 to 999.\n",
    "\n",
    "    Parameters:\n",
    "    - num_samples: Number of lines to generate.\n",
    "    - output_path: Path to save the generated file.\n",
    "    - include_answer: If True, include the sum after '='.\n",
    "    - append_dollar: If True, append a dollar sign after the sum.\n",
    "    \"\"\"\n",
    "    lines = []\n",
    "    for _ in range(num_samples):\n",
    "        ops = [random.randint(0, 999) for _ in range(4)]\n",
    "        total = sum(ops)\n",
    "\n",
    "\n",
    "        expr = \"+\".join(map(str, ops)) + \"=\"\n",
    "        if include_answer:\n",
    "            expr += str(total)\n",
    "            if append_dollar:\n",
    "                expr += \"$\"\n",
    "        lines.append(expr + \"\\n\")\n",
    "\n",
    "\n",
    "    # Make sure the directory exists\n",
    "    output_path.parent.mkdir(parents=True, exist_ok=True)\n",
    "    # Write all lines at once\n",
    "    output_path.write_text(\"\".join(lines))\n",
    "\n",
    "\n",
    "if __name__ == \"__main__\":\n",
    "    # 1 million training examples, with sums and a trailing '$'\n",
    "    generate_dataset(\n",
    "        num_samples=1_000_000,\n",
    "        output_path=Path(\"/content/drive/MyDrive/addition/data/4_operands_0_to_999_1M_train.txt\"),\n",
    "        include_answer=True,\n",
    "        append_dollar=True\n",
    "    )\n",
    "\n",
    "    # 10 000 validation examples, with sums and a trailing '$'\n",
    "    generate_dataset(\n",
    "        num_samples=10_000,\n",
    "        output_path=Path(\"/content/drive/MyDrive/addition/data/4_operands_0_to_999_10K_val.txt\"),\n",
    "        include_answer=True,\n",
    "        append_dollar=True\n",
    "    )\n",
    "\n",
    "    # 10 000 test examples, without the sums (just the '=')\n",
    "    generate_dataset(\n",
    "        num_samples=10_000,\n",
    "        output_path=Path(\"/content/drive/MyDrive/addition/data/4_operands_0_to_999_10K_test.txt\"),\n",
    "        include_answer=False\n",
    "    )\n"
   ]
  },
  {
   "cell_type": "code",
   "execution_count": null,
   "metadata": {
    "colab": {
     "base_uri": "https://localhost:8080/"
    },
    "executionInfo": {
     "elapsed": 345,
     "status": "ok",
     "timestamp": 1749442696083,
     "user": {
      "displayName": "XINGYU ZHAO",
      "userId": "04643349183146398189"
     },
     "user_tz": 300
    },
    "id": "KbqcQ7h_6DWQ",
    "outputId": "186c3ea9-b4bc-43b4-e88c-f4aff666a8fc"
   },
   "outputs": [
    {
     "name": "stdout",
     "output_type": "stream",
     "text": [
      "Total lines in input file: 1000000\n",
      "Wrote 10000 sampled lines to './4_operands_0_to_999_1M_train_eval.txt'.\n"
     ]
    }
   ],
   "source": [
    "!python sample_and_strip.py \\\n",
    "    --input ./4_operands_0_to_999_1M_train.txt \\\n",
    "    --output ./4_operands_0_to_999_1M_train_eval.txt \\\n",
    "    --sample-size 10000"
   ]
  },
  {
   "cell_type": "code",
   "execution_count": 24,
   "metadata": {
    "id": "8xd6_5--thYD",
    "outputId": "be3c929c-14de-4a13-9da3-bb8f9b87662c"
   },
   "outputs": [
    {
     "name": "stdout",
     "output_type": "stream",
     "text": [
      "[(0, 'pred_iter_0'), (250, 'pred_iter_250'), (500, 'pred_iter_500'), (750, 'pred_iter_750'), (1000, 'pred_iter_1000'), (1250, 'pred_iter_1250'), (1500, 'pred_iter_1500'), (1750, 'pred_iter_1750'), (2000, 'pred_iter_2000'), (2250, 'pred_iter_2250'), (2500, 'pred_iter_2500'), (2750, 'pred_iter_2750'), (3000, 'pred_iter_3000'), (3250, 'pred_iter_3250'), (3500, 'pred_iter_3500'), (3750, 'pred_iter_3750'), (4000, 'pred_iter_4000'), (4250, 'pred_iter_4250'), (4500, 'pred_iter_4500'), (4750, 'pred_iter_4750'), (5000, 'pred_iter_5000')]\n"
     ]
    },
    {
     "data": {
      "image/png": "[encoded data removed]",
      "text/plain": [
       "<Figure size 1000x600 with 1 Axes>"
      ]
     },
     "metadata": {},
     "output_type": "display_data"
    }
   ],
   "source": [
    "import pandas as pd\n",
    "from pathlib import Path\n",
    "import re\n",
    "import matplotlib.pyplot as plt\n",
    "\n",
    "# ─────────────────────── CONSTANTS ───────────────────────\n",
    "CSV_PATH   = Path('/Users/perfectpeter/Library/CloudStorage/GoogleDrive-llmfunexperiment@gmail.com/My Drive/teaching_arithmetic/out2/multiplication_reverse/teaching_multiplication_reverse_1/main_test_file_results.csv')   # <-- your single big file\n",
    "STEP_SIZE  = 25\n",
    "OFFSET     = 0                       # ← new: first iteration to plot\n",
    "MAX_STEPS  = 5000\n",
    "ACTUAL_COL = \"actual\"\n",
    "PRED_REGEX = r\"pred_iter_(\\d+)\"\n",
    "# ─────────────────────────────────────────────────────────────\n",
    "\n",
    "df = pd.read_csv(CSV_PATH)\n",
    "\n",
    "# find all pred_iter_* columns whose step = OFFSET + n*STEP_SIZE\n",
    "pred_cols = []\n",
    "for col in df.columns:\n",
    "    m = re.fullmatch(PRED_REGEX, col)\n",
    "    if not m:\n",
    "        continue\n",
    "    step = int(m.group(1))\n",
    "    if step >= OFFSET and (step - OFFSET) % STEP_SIZE == 0 and step <= MAX_STEPS:\n",
    "        pred_cols.append((step, col))\n",
    "pred_cols.sort(key=lambda x: x[0])\n",
    "# ─────────────────────────────────────────────────────────────\n",
    "\n",
    "def digit_error_tally(actuals, preds) -> dict[str,int]:\n",
    "    \"\"\"\n",
    "    Count digit‑wise mismatches between two sequences of numbers (or numeric strings).\n",
    "    actuals, preds: pandas Series or other iterables of numeric or string values.\n",
    "    Returns a dict mapping place names (units, tens, …) to error counts.\n",
    "    \"\"\"\n",
    "    # 1) Convert actuals/preds to *strings* (defensive: blank on failure)\n",
    "    str_actuals = []\n",
    "    str_preds   = []\n",
    "    for a, p in zip(actuals, preds):\n",
    "        # actual\n",
    "        try:\n",
    "            str_actuals.append(str(int(a)))\n",
    "        except Exception:\n",
    "            str_actuals.append(\"\")\n",
    "        # prediction\n",
    "        try:\n",
    "            str_preds.append(str(int(p)))\n",
    "        except Exception:\n",
    "            str_preds.append(\"\")\n",
    "\n",
    "    # 2) Determine the widest number (so we know how many digit-places to check)\n",
    "    max_width = max(max(len(s) for s in str_actuals),\n",
    "                    max(len(s) for s in str_preds))\n",
    "\n",
    "    # 3) Dynamically generate place names up to that width\n",
    "    base_places = [\"units\", \"tens\", \"hundreds\", \"thousands\",\n",
    "                   \"ten-thousands\", \"hundred-thousands\",\n",
    "                   \"millions\", \"ten-millions\", \"hundred-millions\"]\n",
    "    \n",
    "    max_width = min(max_width, len(base_places))\n",
    "\n",
    "    place_names = base_places[:max_width]\n",
    "\n",
    "    # 4) Initialize counters\n",
    "    counts = {place: 0 for place in place_names}\n",
    "\n",
    "    # 5) Zero‑pad both sides and compare each digit\n",
    "    for a_str, p_str in zip(str_actuals, str_preds):\n",
    "        a_pad = a_str.zfill(max_width)\n",
    "        p_pad = p_str.zfill(max_width)\n",
    "        for i in range(max_width):\n",
    "            if a_pad[i] != p_pad[i]:\n",
    "                # position from the *right*\n",
    "                place_idx = max_width - 1 - i\n",
    "                counts[place_names[place_idx]] += 1\n",
    "\n",
    "    return counts\n",
    "\n",
    "\n",
    "\n",
    "# def digit_error_tally(actual, pred) -> dict[str, int]:\n",
    "#     \"\"\"Return dict with counts of errors by decimal place (units … thousands).\"\"\"\n",
    "#     counts = {\"units\": 0, \"tens\": 0, \"hundreds\": 0, \"thousands\": 0}\n",
    "#     for gold, guess in zip(actual, pred):\n",
    "#         # defensive parsing – treat blanks / non-ints as all-digit errors\n",
    "#         try:\n",
    "#             g = str(int(gold)).zfill(4)\n",
    "#             p = str(int(guess)).zfill(4)\n",
    "#         except ValueError:\n",
    "#             g = str(int(gold)).zfill(4)\n",
    "#             p = \"0000\"\n",
    "#         if g[-1] != p[-1]:\n",
    "#             counts[\"units\"] += 1\n",
    "#         if g[-2] != p[-2]:\n",
    "#             counts[\"tens\"] += 1\n",
    "#         if g[-3] != p[-3]:\n",
    "#             counts[\"hundreds\"] += 1\n",
    "#         if g[-4] != p[-4]:\n",
    "#             counts[\"thousands\"] += 1\n",
    "\n",
    "#     return counts\n",
    "\n",
    "\n",
    "# ──────────────────── GATHER ERROR COUNTS ────────────────────\n",
    "\n",
    "print(pred_cols)\n",
    "\n",
    "iterations, units, tens, hundreds, thousands, ten_thousands = [], [], [], [], [], []\n",
    "\n",
    "for step, col in pred_cols:\n",
    "    stats = digit_error_tally(df[ACTUAL_COL], df[col])\n",
    "    iterations.append(step)\n",
    "    units.append(stats[\"units\"])\n",
    "    tens.append(stats[\"tens\"])\n",
    "    hundreds.append(stats[\"hundreds\"])\n",
    "    thousands.append(stats[\"thousands\"])\n",
    "    # ten_thousands.append(stats[\"ten_thousands\"])\n",
    "\n",
    "# ──────────────────── PLOT ────────────────────\n",
    "plt.figure(figsize=(10, 6))\n",
    "plt.plot(iterations, units,     label=\"Units-place errors\")\n",
    "plt.plot(iterations, tens,      label=\"Tens-place errors\")\n",
    "plt.plot(iterations, hundreds,  label=\"Hundreds-place errors\")\n",
    "plt.plot(iterations, thousands, label=\"Thousands-place errors\")\n",
    "# plt.plot(iterations, ten_thousands, label=\"Ten-thousands-place errors\")\n",
    "\n",
    "plt.title(\"Digit-wise error count vs. training iteration\")\n",
    "plt.xlabel(\"Training iteration\")\n",
    "plt.ylabel(\"# rows with an error at that digit\")\n",
    "plt.grid(True, linestyle=\"--\", linewidth=0.5)\n",
    "plt.legend()\n",
    "plt.tight_layout()\n",
    "plt.show()"
   ]
  },
  {
   "cell_type": "code",
   "execution_count": 29,
   "metadata": {},
   "outputs": [
    {
     "name": "stdout",
     "output_type": "stream",
     "text": [
      "[(0, 'pred_iter_0'), (25, 'pred_iter_25'), (50, 'pred_iter_50'), (75, 'pred_iter_75'), (100, 'pred_iter_100'), (125, 'pred_iter_125'), (150, 'pred_iter_150'), (175, 'pred_iter_175'), (200, 'pred_iter_200'), (225, 'pred_iter_225'), (250, 'pred_iter_250'), (275, 'pred_iter_275'), (300, 'pred_iter_300'), (325, 'pred_iter_325'), (350, 'pred_iter_350'), (375, 'pred_iter_375'), (400, 'pred_iter_400'), (425, 'pred_iter_425'), (450, 'pred_iter_450'), (475, 'pred_iter_475'), (500, 'pred_iter_500'), (525, 'pred_iter_525'), (550, 'pred_iter_550'), (575, 'pred_iter_575'), (600, 'pred_iter_600'), (625, 'pred_iter_625'), (650, 'pred_iter_650'), (675, 'pred_iter_675'), (700, 'pred_iter_700'), (725, 'pred_iter_725'), (750, 'pred_iter_750'), (775, 'pred_iter_775'), (800, 'pred_iter_800'), (825, 'pred_iter_825'), (850, 'pred_iter_850'), (875, 'pred_iter_875'), (900, 'pred_iter_900'), (925, 'pred_iter_925'), (950, 'pred_iter_950'), (975, 'pred_iter_975'), (1000, 'pred_iter_1000'), (1250, 'pred_iter_1250'), (1500, 'pred_iter_1500'), (1750, 'pred_iter_1750'), (2000, 'pred_iter_2000'), (2250, 'pred_iter_2250'), (2500, 'pred_iter_2500'), (2750, 'pred_iter_2750'), (3000, 'pred_iter_3000'), (3250, 'pred_iter_3250'), (3500, 'pred_iter_3500'), (3750, 'pred_iter_3750'), (4000, 'pred_iter_4000'), (4250, 'pred_iter_4250'), (4500, 'pred_iter_4500'), (4750, 'pred_iter_4750'), (5000, 'pred_iter_5000')]\n"
     ]
    },
    {
     "data": {
      "image/png": "[encoded data removed]",
      "text/plain": [
       "<Figure size 1000x600 with 1 Axes>"
      ]
     },
     "metadata": {},
     "output_type": "display_data"
    }
   ],
   "source": [
    "import pandas as pd\n",
    "from pathlib import Path\n",
    "import re\n",
    "import matplotlib.pyplot as plt\n",
    "\n",
    "# ─────────────────────── CONSTANTS ───────────────────────\n",
    "CSV_PATH   = Path('/Users/perfectpeter/Library/CloudStorage/GoogleDrive-llmfunexperiment@gmail.com/My Drive/teaching_arithmetic/out2/multiplication_reverse_0_to_999_times_1_digit_bal/reverse_0_to_999_times_1_digit_bal/main_test_file_results.csv')   # <-- your single big file\n",
    "STEP_SIZE  = 25\n",
    "OFFSET     = 0                       # ← new: first iteration to plot\n",
    "MAX_STEPS  = 5000\n",
    "ACTUAL_COL = \"actual\"\n",
    "PRED_REGEX = r\"pred_iter_(\\d+)\"\n",
    "# ─────────────────────────────────────────────────────────────\n",
    "\n",
    "df = pd.read_csv(CSV_PATH)\n",
    "\n",
    "# find all pred_iter_* columns whose step = OFFSET + n*STEP_SIZE\n",
    "pred_cols = []\n",
    "for col in df.columns:\n",
    "    m = re.fullmatch(PRED_REGEX, col)\n",
    "    if not m:\n",
    "        continue\n",
    "    step = int(m.group(1))\n",
    "    if step >= OFFSET and (step - OFFSET) % STEP_SIZE == 0 and step <= MAX_STEPS:\n",
    "        pred_cols.append((step, col))\n",
    "pred_cols.sort(key=lambda x: x[0])\n",
    "# ─────────────────────────────────────────────────────────────\n",
    "\n",
    "def digit_error_tally(actuals, preds) -> dict[str,int]:\n",
    "    \"\"\"\n",
    "    Count digit‑wise mismatches between two sequences of numbers (or numeric strings).\n",
    "    actuals, preds: pandas Series or other iterables of numeric or string values.\n",
    "    Returns a dict mapping place names (units, tens, …) to error counts.\n",
    "    \"\"\"\n",
    "    # 1) Convert actuals/preds to *strings* (defensive: blank on failure)\n",
    "    str_actuals = []\n",
    "    str_preds   = []\n",
    "    for a, p in zip(actuals, preds):\n",
    "        # actual\n",
    "        try:\n",
    "            str_actuals.append(str(int(a)))\n",
    "        except Exception:\n",
    "            str_actuals.append(\"\")\n",
    "        # prediction\n",
    "        try:\n",
    "            str_preds.append(str(int(p)))\n",
    "        except Exception:\n",
    "            str_preds.append(\"\")\n",
    "\n",
    "    # 2) Determine the widest number (so we know how many digit-places to check)\n",
    "    max_width = max(max(len(s) for s in str_actuals),\n",
    "                    max(len(s) for s in str_preds))\n",
    "\n",
    "    # 3) Dynamically generate place names up to that width\n",
    "    base_places = [\"units\", \"tens\", \"hundreds\", \"thousands\",\n",
    "                   \"ten-thousands\", \"hundred-thousands\",\n",
    "                   \"millions\", \"ten-millions\", \"hundred-millions\"]\n",
    "    \n",
    "    max_width = min(max_width, len(base_places))\n",
    "\n",
    "    place_names = base_places[:max_width]\n",
    "\n",
    "    # 4) Initialize counters\n",
    "    counts = {place: 0 for place in place_names}\n",
    "\n",
    "    # 5) Zero‑pad both sides and compare each digit\n",
    "    for a_str, p_str in zip(str_actuals, str_preds):\n",
    "        a_pad = a_str.zfill(max_width)\n",
    "        p_pad = p_str.zfill(max_width)\n",
    "        for i in range(max_width):\n",
    "            if a_pad[i] != p_pad[i]:\n",
    "                # position from the *right*\n",
    "                place_idx = max_width - 1 - i\n",
    "                counts[place_names[place_idx]] += 1\n",
    "\n",
    "    return counts\n",
    "\n",
    "\n",
    "\n",
    "# def digit_error_tally(actual, pred) -> dict[str, int]:\n",
    "#     \"\"\"Return dict with counts of errors by decimal place (units … thousands).\"\"\"\n",
    "#     counts = {\"units\": 0, \"tens\": 0, \"hundreds\": 0, \"thousands\": 0}\n",
    "#     for gold, guess in zip(actual, pred):\n",
    "#         # defensive parsing – treat blanks / non-ints as all-digit errors\n",
    "#         try:\n",
    "#             g = str(int(gold)).zfill(4)\n",
    "#             p = str(int(guess)).zfill(4)\n",
    "#         except ValueError:\n",
    "#             g = str(int(gold)).zfill(4)\n",
    "#             p = \"0000\"\n",
    "#         if g[-1] != p[-1]:\n",
    "#             counts[\"units\"] += 1\n",
    "#         if g[-2] != p[-2]:\n",
    "#             counts[\"tens\"] += 1\n",
    "#         if g[-3] != p[-3]:\n",
    "#             counts[\"hundreds\"] += 1\n",
    "#         if g[-4] != p[-4]:\n",
    "#             counts[\"thousands\"] += 1\n",
    "\n",
    "#     return counts\n",
    "\n",
    "\n",
    "# ──────────────────── GATHER ERROR COUNTS ────────────────────\n",
    "\n",
    "print(pred_cols)\n",
    "\n",
    "iterations, units, tens, hundreds, thousands, ten_thousands = [], [], [], [], [], []\n",
    "\n",
    "for step, col in pred_cols:\n",
    "    stats = digit_error_tally(df[ACTUAL_COL], df[col])\n",
    "    iterations.append(step)\n",
    "    units.append(stats[\"units\"])\n",
    "    tens.append(stats[\"tens\"])\n",
    "    hundreds.append(stats[\"hundreds\"])\n",
    "    thousands.append(stats[\"thousands\"])\n",
    "    # ten_thousands.append(stats[\"ten_thousands\"])\n",
    "\n",
    "# ──────────────────── PLOT ────────────────────\n",
    "plt.figure(figsize=(10, 6))\n",
    "plt.plot(iterations, units,     label=\"Units-place errors\")\n",
    "plt.plot(iterations, tens,      label=\"Tens-place errors\")\n",
    "plt.plot(iterations, hundreds,  label=\"Hundreds-place errors\")\n",
    "plt.plot(iterations, thousands, label=\"Thousands-place errors\")\n",
    "# plt.plot(iterations, ten_thousands, label=\"Ten-thousands-place errors\")\n",
    "\n",
    "plt.title(\"Digit-wise error count vs. training iteration\")\n",
    "plt.xlabel(\"Training iteration\")\n",
    "plt.ylabel(\"# rows with an error at that digit\")\n",
    "plt.grid(True, linestyle=\"--\", linewidth=0.5)\n",
    "plt.legend()\n",
    "plt.tight_layout()\n",
    "plt.show()"
   ]
  },
  {
   "cell_type": "markdown",
   "metadata": {
    "id": "aqteubSdthYE"
   },
   "source": [
    "## Reproduce 2 Operands Addition from the paper \"Teaching Arithmetic to Small Transformers\""
   ]
  },
  {
   "cell_type": "markdown",
   "metadata": {
    "id": "kR85ksncthYF"
   },
   "source": [
    "### Generate Data\n",
    "10K Training: 100 1-digit, 900 2-digit, 9000 3-digit\n",
    "\n",
    "10K Validation: disjoint from training data, randomly sampled\n",
    "\n",
    "10K Testing: disjoint from training data, randomly sampled"
   ]
  },
  {
   "cell_type": "code",
   "execution_count": 2,
   "metadata": {},
   "outputs": [
    {
     "name": "stdout",
     "output_type": "stream",
     "text": [
      "\u001b[34maddition_2_operands_0_to_999_balanced_digit\u001b[m\u001b[m/\n",
      "\u001b[34maddition_4_operands_0_to_999\u001b[m\u001b[m/\n",
      "\u001b[34maddition_4_operands_1_digit\u001b[m\u001b[m/\n",
      "\u001b[34maddition_4_operands_3_digit\u001b[m\u001b[m/\n",
      "\u001b[34maddition_4_operands_4_digit\u001b[m\u001b[m/\n",
      "create_data.py\n",
      "create_data_multiple_operators.py\n",
      "data_generation.ipynb\n",
      "data_utilities.py\n",
      "generate_0_to_999.py\n",
      "reverse_results.py\n",
      "sample_and_strip.py\n"
     ]
    }
   ],
   "source": [
    "%ls"
   ]
  },
  {
   "cell_type": "code",
   "execution_count": 3,
   "metadata": {
    "id": "AGGajMc7thYF",
    "outputId": "c811f53f-00fd-46d8-f639-1f417e06d15b"
   },
   "outputs": [
    {
     "name": "stdout",
     "output_type": "stream",
     "text": [
      "Generated train.txt, val.txt, test.txt [10000 examples each]\n"
     ]
    }
   ],
   "source": [
    "import itertools\n",
    "import random\n",
    "\n",
    "def format_with_answer(a, b):\n",
    "    return f\"{a}+{b}={a+b}$\"\n",
    "\n",
    "def format_without_answer(a, b):\n",
    "    return f\"{a}+{b}=\"\n",
    "\n",
    "def sample_pairs(pairs, k, seed):\n",
    "    \"\"\"Randomly sample k distinct pairs from iterable pairs.\"\"\"\n",
    "    return random.Random(seed).sample(pairs, k)\n",
    "\n",
    "def main():\n",
    "    random_seed = 42\n",
    "    random.seed(random_seed)\n",
    "\n",
    "    # 1) Build training set:\n",
    "    # 1.1 all 100 1-digit + 1-digit\n",
    "    ones = list(itertools.product(range(10), repeat=2))\n",
    "\n",
    "    # 1.2 all 1-digit ↔ 2-digit combos\n",
    "    one_two = list(itertools.product(range(10), range(10, 100)))\n",
    "    two_one = [(b, a) for (a, b) in one_two]\n",
    "    two_two = list(itertools.product(range(10, 100), repeat=2))\n",
    "    twos = one_two + two_one + two_two\n",
    "\n",
    "    # 1.3 all 3-digit + 3-digit combos\n",
    "    # three_three = list(itertools.product(range(100, 1000), repeat=2))\n",
    "    full_universe = list(itertools.product(range(1000), repeat=2))\n",
    "    one_and_two = ones + twos\n",
    "    threes = [p for p in full_universe if p not in one_and_two]\n",
    "\n",
    "    # sample 900 from mixed_1_2, 9000 from three_three\n",
    "    sample_1_2 = sample_pairs(twos, 900, seed=random_seed + 1)\n",
    "    sample_3_3 = sample_pairs(threes, 9000, seed=random_seed + 2)\n",
    "\n",
    "    train_pairs = ones + sample_1_2 + sample_3_3\n",
    "    assert len(train_pairs) == 100 + 900 + 9000 == 10000\n",
    "\n",
    "    # format and shuffle\n",
    "    train_lines = [format_with_answer(a, b) for (a, b) in train_pairs]\n",
    "    random.shuffle(train_lines)\n",
    "\n",
    "    # 2) Build val + test: sample from full universe minus train\n",
    "    full_universe = list(itertools.product(range(1000), repeat=2))\n",
    "    train_set = set(train_pairs)\n",
    "\n",
    "    rest = [p for p in full_universe if p not in train_set]\n",
    "    # sample without overlap\n",
    "    val_pairs = sample_pairs(rest, 10000, seed=random_seed + 3)\n",
    "    rest2 = [p for p in rest if p not in set(val_pairs)]\n",
    "    test_pairs = sample_pairs(rest2, 10000, seed=random_seed + 4)\n",
    "\n",
    "    val_lines = [format_with_answer(a, b) for (a, b) in val_pairs]\n",
    "    random.shuffle(val_lines)\n",
    "    test_lines = [format_without_answer(a, b) for (a, b) in test_pairs]\n",
    "    random.shuffle(test_lines)\n",
    "\n",
    "    # 3) Write out\n",
    "    with open(\"train.txt\", \"w\") as f:\n",
    "        f.write(\"\\n\".join(train_lines))\n",
    "    with open(\"val.txt\", \"w\") as f:\n",
    "        f.write(\"\\n\".join(val_lines))\n",
    "    with open(\"test.txt\", \"w\") as f:\n",
    "        f.write(\"\\n\".join(test_lines))\n",
    "\n",
    "    print(\"Generated train.txt, val.txt, test.txt [{} examples each]\".format(\n",
    "        len(train_lines), len(val_lines), len(test_lines)\n",
    "    ))\n",
    "\n",
    "if __name__ == \"__main__\":\n",
    "    main()\n"
   ]
  },
  {
   "cell_type": "markdown",
   "metadata": {
    "id": "ZtHkVWIM09dV"
   },
   "source": [
    "Prepare training valuation data"
   ]
  },
  {
   "cell_type": "code",
   "execution_count": 5,
   "metadata": {
    "colab": {
     "base_uri": "https://localhost:8080/"
    },
    "executionInfo": {
     "elapsed": 1632,
     "status": "ok",
     "timestamp": 1749760200812,
     "user": {
      "displayName": "XINGYU ZHAO",
      "userId": "04643349183146398189"
     },
     "user_tz": 300
    },
    "id": "lxdKLB8608oo",
    "outputId": "83b75a78-7d2c-4953-ccaa-b67780a4c4a8"
   },
   "outputs": [
    {
     "name": "stdout",
     "output_type": "stream",
     "text": [
      "Total lines in input file: 10000\n",
      "Wrote 10000 sampled lines to './train_eval.txt'.\n"
     ]
    }
   ],
   "source": [
    "!python sample_and_strip.py \\\n",
    "    --input ./train.txt \\\n",
    "    --output ./train_eval.txt \\\n",
    "    --sample-size 10000"
   ]
  },
  {
   "cell_type": "code",
   "execution_count": 7,
   "metadata": {
    "colab": {
     "base_uri": "https://localhost:8080/"
    },
    "executionInfo": {
     "elapsed": 821,
     "status": "ok",
     "timestamp": 1749760453673,
     "user": {
      "displayName": "XINGYU ZHAO",
      "userId": "04643349183146398189"
     },
     "user_tz": 300
    },
    "id": "3LjSS-mM1ot0",
    "outputId": "490a5a7b-075a-416e-8023-3aefc77c305f"
   },
   "outputs": [
    {
     "name": "stdout",
     "output_type": "stream",
     "text": [
      "Processed './train.txt' and wrote results to './train_reversed.txt'.\n"
     ]
    }
   ],
   "source": [
    "\n",
    "import os\n",
    "\n",
    "INPUT_FILENAME = \"./train.txt\"\n",
    "OUTPUT_FILENAME = \"./train_reversed.txt\"\n",
    "\n",
    "def reverse_results(input_path: str, output_path: str) -> None:\n",
    "    \"\"\"\n",
    "    Read each line from `input_path`, reverse the two‐digit result before the '$',\n",
    "    and write the modified line to `output_path`.\n",
    "    \"\"\"\n",
    "    if not os.path.isfile(input_path):\n",
    "        print(f\"Error: '{input_path}' does not exist.\")\n",
    "        return\n",
    "\n",
    "    with open(input_path, \"r\") as infile, open(output_path, \"w\") as outfile:\n",
    "        for raw_line in infile:\n",
    "            line = raw_line.rstrip(\"\\n\")\n",
    "            # Skip empty lines\n",
    "            if not line.strip():\n",
    "                continue\n",
    "\n",
    "            # Expect format: <expression>=<two_digits>$\n",
    "            if \"=\" in line and line.endswith(\"$\"):\n",
    "                left, right = line.split(\"=\", 1)\n",
    "                # right is like \"42$\" or \"02$\"\n",
    "                digits = right[:-1]  # drop the trailing '$'\n",
    "                # Reverse the digit string (e.g., \"42\" -> \"24\", \"02\" -> \"20\")\n",
    "                reversed_digits = digits[::-1]\n",
    "                new_line = f\"{left}={reversed_digits}$\"\n",
    "            else:\n",
    "                # If line doesn't match expected pattern, leave it unchanged\n",
    "                new_line = line\n",
    "\n",
    "            outfile.write(new_line + \"\\n\")\n",
    "\n",
    "    print(f\"Processed '{input_path}' and wrote results to '{output_path}'.\")\n",
    "\n",
    "\n",
    "if __name__ == \"__main__\":\n",
    "    reverse_results(INPUT_FILENAME, OUTPUT_FILENAME)"
   ]
  },
  {
   "cell_type": "code",
   "execution_count": 30,
   "metadata": {},
   "outputs": [
    {
     "name": "stdout",
     "output_type": "stream",
     "text": [
      "Total lines in input file: 1000000\n",
      "Wrote 10000 sampled lines to './train_eval.txt'.\n"
     ]
    }
   ],
   "source": [
    "!python sample_and_strip.py \\\n",
    "    --input ./train.txt \\\n",
    "    --output ./train_eval.txt \\\n",
    "    --sample-size 10000"
   ]
  },
  {
   "cell_type": "markdown",
   "metadata": {},
   "source": [
    "## 4 Operands 0-999 Addition Balanced Digit (1,2,3 digit, each 1/3 chance)"
   ]
  },
  {
   "cell_type": "code",
   "execution_count": 25,
   "metadata": {},
   "outputs": [],
   "source": [
    "import random\n",
    "from pathlib import Path\n",
    "\n",
    "def sample_operand():\n",
    "    \"\"\"\n",
    "    Returns one integer:\n",
    "      – with probability 1/3 in [0, 9]    (1-digit)\n",
    "      – with probability 1/3 in [10, 99] (2-digit)\n",
    "      – with probability 1/3 in [100, 999] (3-digit)\n",
    "    \"\"\"\n",
    "    r = random.random()\n",
    "    if r < 1/3:\n",
    "        lo, hi = 0, 9\n",
    "    elif r < 2/3:\n",
    "        lo, hi = 10, 99\n",
    "    else:\n",
    "        lo, hi = 100, 999\n",
    "    return random.randint(lo, hi)\n",
    "\n",
    "seen = set()\n",
    "\n",
    "def generate_dataset(num_samples: int,\n",
    "                     output_path: Path,\n",
    "                     include_answer: bool = True,\n",
    "                     append_dollar: bool = False):\n",
    "    lines = []\n",
    "\n",
    "    while len(lines) < num_samples:\n",
    "        ops = [sample_operand() for _ in range(4)]\n",
    "        base = \"+\".join(map(str, ops)) + \"=\"\n",
    "        if base not in seen:\n",
    "            seen.add(base)\n",
    "            line = base\n",
    "            if include_answer:\n",
    "                line += str(sum(ops))\n",
    "                if append_dollar:\n",
    "                    line += \"$\"\n",
    "            lines.append(line + \"\\n\")\n",
    "\n",
    "\n",
    "    output_path.parent.mkdir(parents=True, exist_ok=True)\n",
    "    output_path.write_text(\"\".join(lines))\n",
    "\n",
    "if __name__ == \"__main__\":\n",
    "    generate_dataset(\n",
    "        num_samples=1_000_000,\n",
    "        output_path=Path('/Users/perfectpeter/Library/CloudStorage/GoogleDrive-xzhao468@wisc.edu/My Drive/addition/data/train.txt'),\n",
    "        include_answer=True,\n",
    "        append_dollar=True\n",
    "    )\n",
    "    generate_dataset(\n",
    "        num_samples=10_000,\n",
    "        output_path=Path('/Users/perfectpeter/Library/CloudStorage/GoogleDrive-xzhao468@wisc.edu/My Drive/addition/data/val.txt'),\n",
    "        include_answer=True,\n",
    "        append_dollar=True\n",
    "    )\n",
    "    generate_dataset(\n",
    "        num_samples=10_000,\n",
    "        output_path=Path('/Users/perfectpeter/Library/CloudStorage/GoogleDrive-xzhao468@wisc.edu/My Drive/addition/data/test.txt'),\n",
    "        include_answer=False\n",
    "    )\n"
   ]
  },
  {
   "cell_type": "code",
   "execution_count": 32,
   "metadata": {},
   "outputs": [
    {
     "name": "stdout",
     "output_type": "stream",
     "text": [
      "Processed './val.txt' and wrote results to './val_reversed.txt'.\n"
     ]
    }
   ],
   "source": [
    "import os\n",
    "\n",
    "INPUT_FILENAME = \"./val.txt\"\n",
    "OUTPUT_FILENAME = \"./val_reversed.txt\"\n",
    "\n",
    "def reverse_results(input_path: str, output_path: str) -> None:\n",
    "    \"\"\"\n",
    "    Read each line from `input_path`, reverse the two‐digit result before the '$',\n",
    "    and write the modified line to `output_path`.\n",
    "    \"\"\"\n",
    "    if not os.path.isfile(input_path):\n",
    "        print(f\"Error: '{input_path}' does not exist.\")\n",
    "        return\n",
    "\n",
    "    with open(input_path, \"r\") as infile, open(output_path, \"w\") as outfile:\n",
    "        for raw_line in infile:\n",
    "            line = raw_line.rstrip(\"\\n\")\n",
    "            # Skip empty lines\n",
    "            if not line.strip():\n",
    "                continue\n",
    "\n",
    "            # Expect format: <expression>=<two_digits>$\n",
    "            if \"=\" in line and line.endswith(\"$\"):\n",
    "                left, right = line.split(\"=\", 1)\n",
    "                # right is like \"42$\" or \"02$\"\n",
    "                digits = right[:-1]  # drop the trailing '$'\n",
    "                # Reverse the digit string (e.g., \"42\" -> \"24\", \"02\" -> \"20\")\n",
    "                reversed_digits = digits[::-1]\n",
    "                new_line = f\"{left}={reversed_digits}$\"\n",
    "            else:\n",
    "                # If line doesn't match expected pattern, leave it unchanged\n",
    "                new_line = line\n",
    "\n",
    "            outfile.write(new_line + \"\\n\")\n",
    "\n",
    "    print(f\"Processed '{input_path}' and wrote results to '{output_path}'.\")\n",
    "\n",
    "\n",
    "if __name__ == \"__main__\":\n",
    "    reverse_results(INPUT_FILENAME, OUTPUT_FILENAME)"
   ]
  },
  {
   "cell_type": "code",
   "execution_count": 38,
   "metadata": {},
   "outputs": [
    {
     "name": "stdout",
     "output_type": "stream",
     "text": [
      "Total lines in input file: 10000\n",
      "Wrote 10000 sampled lines to './train_3digit_10000_dollar_eval.txt'.\n"
     ]
    }
   ],
   "source": [
    "!python sample_and_strip.py \\\n",
    "    --input ./train_3digit_10000_dollar.txt \\\n",
    "    --output ./train_3digit_10000_dollar_eval.txt \\\n",
    "    --sample-size 10000"
   ]
  },
  {
   "cell_type": "markdown",
   "metadata": {},
   "source": [
    "## 6 Operands 0-999 Addition Balanced Digit (1,2,3 digit, each 1/3 chance)"
   ]
  },
  {
   "cell_type": "code",
   "execution_count": 29,
   "metadata": {},
   "outputs": [],
   "source": [
    "import random\n",
    "from pathlib import Path\n",
    "\n",
    "def sample_operand():\n",
    "    \"\"\"\n",
    "    Returns one integer:\n",
    "      – with probability 1/3 in [0, 9]    (1-digit)\n",
    "      – with probability 1/3 in [10, 99] (2-digit)\n",
    "      – with probability 1/3 in [100, 999] (3-digit)\n",
    "    \"\"\"\n",
    "    r = random.random()\n",
    "    if r < 1/3:\n",
    "        lo, hi = 0, 9\n",
    "    elif r < 2/3:\n",
    "        lo, hi = 10, 99\n",
    "    else:\n",
    "        lo, hi = 100, 999\n",
    "    return random.randint(lo, hi)\n",
    "\n",
    "seen = set()\n",
    "\n",
    "def generate_dataset(num_samples: int,\n",
    "                     output_path: Path,\n",
    "                     include_answer: bool = True,\n",
    "                     append_dollar: bool = False):\n",
    "    lines = []\n",
    "\n",
    "    while len(lines) < num_samples:\n",
    "        ops = [sample_operand() for _ in range(6)]\n",
    "        base = \"+\".join(map(str, ops)) + \"=\"\n",
    "        if base not in seen:\n",
    "            seen.add(base)\n",
    "            line = base\n",
    "            if include_answer:\n",
    "                line += str(sum(ops))\n",
    "                if append_dollar:\n",
    "                    line += \"$\"\n",
    "            lines.append(line + \"\\n\")\n",
    "\n",
    "\n",
    "    output_path.parent.mkdir(parents=True, exist_ok=True)\n",
    "    output_path.write_text(\"\".join(lines))\n",
    "\n",
    "if __name__ == \"__main__\":\n",
    "    generate_dataset(\n",
    "        num_samples=1_000_000,\n",
    "        output_path=Path('/Users/perfectpeter/Library/CloudStorage/GoogleDrive-xzhao468@wisc.edu/My Drive/addition/data/train.txt'),\n",
    "        include_answer=True,\n",
    "        append_dollar=True\n",
    "    )\n",
    "    generate_dataset(\n",
    "        num_samples=10_000,\n",
    "        output_path=Path('/Users/perfectpeter/Library/CloudStorage/GoogleDrive-xzhao468@wisc.edu/My Drive/addition/data/val.txt'),\n",
    "        include_answer=True,\n",
    "        append_dollar=True\n",
    "    )\n",
    "    generate_dataset(\n",
    "        num_samples=10_000,\n",
    "        output_path=Path('/Users/perfectpeter/Library/CloudStorage/GoogleDrive-xzhao468@wisc.edu/My Drive/addition/data/test.txt'),\n",
    "        include_answer=False\n",
    "    )\n"
   ]
  },
  {
   "cell_type": "markdown",
   "metadata": {},
   "source": [
    "## Replicate the Paper Using Their Generated Data"
   ]
  },
  {
   "cell_type": "markdown",
   "metadata": {},
   "source": [
    "Add a '$' sign at the end of each lien"
   ]
  },
  {
   "cell_type": "code",
   "execution_count": 36,
   "metadata": {},
   "outputs": [
    {
     "name": "stdout",
     "output_type": "stream",
     "text": [
      "Processed ./train_3digit_10000.txt → ./train_3digit_10000_dollar.txt\n"
     ]
    }
   ],
   "source": [
    "#!/usr/bin/env python3\n",
    "\n",
    "def add_dollar_to_lines(in_path, out_path):\n",
    "    with open(in_path, 'r') as fin, open(out_path, 'w') as fout:\n",
    "        for line in fin:\n",
    "            line = line.rstrip('\\n')      # remove any trailing newline\n",
    "            if line:                      # skip empty lines (optional)\n",
    "                fout.write(f\"{line}$\\n\")\n",
    "\n",
    "if __name__ == \"__main__\":\n",
    "    # ←── edit these two lines:\n",
    "    in_file  = './train_3digit_10000.txt'\n",
    "    out_file = './train_3digit_10000_dollar.txt'\n",
    "\n",
    "    add_dollar_to_lines(in_file, out_file)\n",
    "    print(f\"Processed {in_file} → {out_file}\")\n"
   ]
  },
  {
   "cell_type": "code",
   "execution_count": 37,
   "metadata": {},
   "outputs": [
    {
     "name": "stdout",
     "output_type": "stream",
     "text": [
      "Processed './train_3digit_10000_dollar.txt' and wrote results to './train_3digit_10000_dollar_reversed.txt'.\n"
     ]
    }
   ],
   "source": [
    "import os\n",
    "\n",
    "INPUT_FILENAME = \"./train_3digit_10000_dollar.txt\"\n",
    "OUTPUT_FILENAME = \"./train_3digit_10000_dollar_reversed.txt\"\n",
    "\n",
    "def reverse_results(input_path: str, output_path: str) -> None:\n",
    "    \"\"\"\n",
    "    Read each line from `input_path`, reverse the two‐digit result before the '$',\n",
    "    and write the modified line to `output_path`.\n",
    "    \"\"\"\n",
    "    if not os.path.isfile(input_path):\n",
    "        print(f\"Error: '{input_path}' does not exist.\")\n",
    "        return\n",
    "\n",
    "    with open(input_path, \"r\") as infile, open(output_path, \"w\") as outfile:\n",
    "        for raw_line in infile:\n",
    "            line = raw_line.rstrip(\"\\n\")\n",
    "            # Skip empty lines\n",
    "            if not line.strip():\n",
    "                continue\n",
    "\n",
    "            # Expect format: <expression>=<two_digits>$\n",
    "            if \"=\" in line and line.endswith(\"$\"):\n",
    "                left, right = line.split(\"=\", 1)\n",
    "                # right is like \"42$\" or \"02$\"\n",
    "                digits = right[:-1]  # drop the trailing '$'\n",
    "                # Reverse the digit string (e.g., \"42\" -> \"24\", \"02\" -> \"20\")\n",
    "                reversed_digits = digits[::-1]\n",
    "                new_line = f\"{left}={reversed_digits}$\"\n",
    "            else:\n",
    "                # If line doesn't match expected pattern, leave it unchanged\n",
    "                new_line = line\n",
    "\n",
    "            outfile.write(new_line + \"\\n\")\n",
    "\n",
    "    print(f\"Processed '{input_path}' and wrote results to '{output_path}'.\")\n",
    "\n",
    "\n",
    "if __name__ == \"__main__\":\n",
    "    reverse_results(INPUT_FILENAME, OUTPUT_FILENAME)"
   ]
  },
  {
   "cell_type": "code",
   "execution_count": 1,
   "metadata": {},
   "outputs": [
    {
     "name": "stdout",
     "output_type": "stream",
     "text": [
      "Stripped results in ./test_10000.txt → ./test_10000_stripped.txt\n"
     ]
    }
   ],
   "source": [
    "#!/usr/bin/env python3\n",
    "\n",
    "def strip_results(in_path, out_path):\n",
    "    \"\"\"\n",
    "    Reads each line of in_path, drops everything after the first '='\n",
    "    (inclusive), and writes back \"<left-side>=\" on its own line.\n",
    "    \"\"\"\n",
    "    with open(in_path, 'r') as fin, open(out_path, 'w') as fout:\n",
    "        for line in fin:\n",
    "            line = line.strip()\n",
    "            if not line:\n",
    "                continue\n",
    "            # split once on \"=\", keep the left side\n",
    "            left, _ = line.split('=', 1)\n",
    "            fout.write(f\"{left}=\\n\")\n",
    "\n",
    "if __name__ == \"__main__\":\n",
    "    # ←── edit these:\n",
    "    input_file  = './test_10000.txt'\n",
    "    output_file = './test_10000_stripped.txt'\n",
    "\n",
    "    strip_results(input_file, output_file)\n",
    "    print(f\"Stripped results in {input_file} → {output_file}\")\n",
    "\n"
   ]
  },
  {
   "cell_type": "markdown",
   "metadata": {},
   "source": [
    "## Generate (0 to 99,999) times 1-digit multiplication"
   ]
  },
  {
   "cell_type": "code",
   "execution_count": null,
   "metadata": {},
   "outputs": [
    {
     "name": "stdout",
     "output_type": "stream",
     "text": [
      "Wrote 10000 shuffled lines (with answers) to '0_to_99,999_times_1_digit_bal_train.txt'\n",
      "Wrote 10000 shuffled lines (no answers) to '0_to_99,999_times_1_digit_bal_test.txt'\n",
      "Wrote 10000 shuffled lines (with answers) to 'validation.txt'\n"
     ]
    }
   ],
   "source": [
    "import random\n",
    "\n",
    "def make_dataset(\n",
    "    train_size=(100, 300, 600, 1000, 8000), # total: 10,000\n",
    "    test_size=10000,\n",
    "    validation_size=10000,\n",
    "    seed=42,\n",
    "    train_path=\"training.txt\",\n",
    "    test_path=\"testing.txt\",\n",
    "    validation_path=\"validation.txt\"\n",
    "):\n",
    "    random.seed(seed)\n",
    "    # 1) Generate all (a,b) pairs with a∈[0,999], b∈[0,9]\n",
    "    all_pairs = [(a, b) for a in range(100000) for b in range(10)]\n",
    "    \n",
    "    # 2) Split by digit‑length of 'a'\n",
    "    ones   = [(a, b) for a, b in all_pairs if a < 10]\n",
    "    twos   = [(a, b) for a, b in all_pairs if 10 <= a < 100]\n",
    "    threes = [(a, b) for a, b in all_pairs if 100 <= a < 1000]\n",
    "    four = [(a, b) for a, b in all_pairs if 1000 <= a < 10000]\n",
    "    five = [(a, b) for a, b in all_pairs if 10000 <= a < 100000]\n",
    "    \n",
    "    # 3) Assemble training subsets\n",
    "    train_ones   = ones[:]  # all 1‑digit × 1‑digit (100)\n",
    "    train_twos   = random.sample(twos, train_size[1])    # 300 of 2‑digit × 1‑digit\n",
    "    train_threes = random.sample(threes, train_size[2])  # 600 of 3‑digit × 1‑digit\n",
    "    train_fours  = random.sample(four, train_size[3])    # 1000 of 4‑digit × 1‑digit\n",
    "    train_fives  = random.sample(five, train_size[4])    # 8000 of 5‑digit × 1‑digit\n",
    "    \n",
    "    training = list(set(train_ones + train_twos + train_threes + train_fours + train_fives))\n",
    "    assert len(training) == sum(train_size), \"Training size mismatch!\"\n",
    "    \n",
    "    # 4) Remaining pool for testing\n",
    "    remaining = list(set(all_pairs) - set(training))\n",
    "    testing   = random.sample(remaining, test_size)\n",
    "    remaining_for_validation = list(set(remaining) - set(testing))\n",
    "    validation = random.sample(remaining_for_validation, validation_size)\n",
    "    \n",
    "    # 5) Shuffle before writing\n",
    "    random.shuffle(training)\n",
    "    random.shuffle(testing)\n",
    "    \n",
    "    # 6) Write out to the given paths\n",
    "    with open(train_path, \"w\") as f_tr:\n",
    "        for a, b in training:\n",
    "            f_tr.write(f\"{a}*{b}={a*b}$\\n\")\n",
    "    \n",
    "    with open(test_path, \"w\") as f_te:\n",
    "        for a, b in testing:\n",
    "            f_te.write(f\"{a}*{b}=\\n\")\n",
    "\n",
    "    with open(\"validation.txt\", \"w\") as f_val:\n",
    "        for a, b in validation:\n",
    "            f_val.write(f\"{a}*{b}={a*b}$\\n\")\n",
    "    \n",
    "    print(f\"Wrote {len(training)} shuffled lines (with answers) to '{train_path}'\")\n",
    "    print(f\"Wrote {len(testing)} shuffled lines (no answers) to '{test_path}'\")\n",
    "    print(f\"Wrote {len(validation)} shuffled lines (with answers) to '{validation_path}.txt'\")\n",
    "\n",
    "if __name__ == \"__main__\":\n",
    "    # Example with custom filenames\n",
    "    make_dataset(\n",
    "        seed=42,\n",
    "        train_path=\"0_to_99,999_times_1_digit_bal_train.txt\",\n",
    "        test_path=\"0_to_99,999_times_1_digit_bal_test.txt\",\n",
    "        validation_path=\"0_to_99,999_times_1_digit_bal_validation.txt\"\n",
    "    )\n"
   ]
  },
  {
   "cell_type": "code",
   "execution_count": 3,
   "metadata": {},
   "outputs": [
    {
     "name": "stdout",
     "output_type": "stream",
     "text": [
      "Processed '/Users/perfectpeter/Library/CloudStorage/GoogleDrive-llmfunexperiment@gmail.com/My Drive/addition/data/0_to_99,999_times_1_digit/0_to_99,999_times_1_digit_bal_train.txt' and wrote results to '/Users/perfectpeter/Library/CloudStorage/GoogleDrive-llmfunexperiment@gmail.com/My Drive/addition/data/0_to_99,999_times_1_digit/0_to_99,999_times_1_digit_bal_train_reversed.txt'.\n"
     ]
    }
   ],
   "source": [
    "import os\n",
    "\n",
    "INPUT_FILENAME = '/Users/perfectpeter/Library/CloudStorage/GoogleDrive-llmfunexperiment@gmail.com/My Drive/addition/data/0_to_99,999_times_1_digit/0_to_99,999_times_1_digit_bal_train.txt'\n",
    "OUTPUT_FILENAME = '/Users/perfectpeter/Library/CloudStorage/GoogleDrive-llmfunexperiment@gmail.com/My Drive/addition/data/0_to_99,999_times_1_digit/0_to_99,999_times_1_digit_bal_train_reversed.txt'\n",
    "\n",
    "def reverse_results(input_path: str, output_path: str) -> None:\n",
    "    \"\"\"\n",
    "    Read each line from `input_path`, reverse the two‐digit result before the '$',\n",
    "    and write the modified line to `output_path`.\n",
    "    \"\"\"\n",
    "    if not os.path.isfile(input_path):\n",
    "        print(f\"Error: '{input_path}' does not exist.\")\n",
    "        return\n",
    "\n",
    "    with open(input_path, \"r\") as infile, open(output_path, \"w\") as outfile:\n",
    "        for raw_line in infile:\n",
    "            line = raw_line.rstrip(\"\\n\")\n",
    "            # Skip empty lines\n",
    "            if not line.strip():\n",
    "                continue\n",
    "\n",
    "            # Expect format: <expression>=<two_digits>$\n",
    "            if \"=\" in line and line.endswith(\"$\"):\n",
    "                left, right = line.split(\"=\", 1)\n",
    "                # right is like \"42$\" or \"02$\"\n",
    "                digits = right[:-1]  # drop the trailing '$'\n",
    "                # Reverse the digit string (e.g., \"42\" -> \"24\", \"02\" -> \"20\")\n",
    "                reversed_digits = digits[::-1]\n",
    "                new_line = f\"{left}={reversed_digits}$\"\n",
    "            else:\n",
    "                # If line doesn't match expected pattern, leave it unchanged\n",
    "                new_line = line\n",
    "\n",
    "            outfile.write(new_line + \"\\n\")\n",
    "\n",
    "    print(f\"Processed '{input_path}' and wrote results to '{output_path}'.\")\n",
    "\n",
    "\n",
    "if __name__ == \"__main__\":\n",
    "    reverse_results(INPUT_FILENAME, OUTPUT_FILENAME)"
   ]
  },
  {
   "cell_type": "code",
   "execution_count": 4,
   "metadata": {},
   "outputs": [
    {
     "name": "stdout",
     "output_type": "stream",
     "text": [
      "Total lines in input file: 10000\n",
      "Wrote 10000 sampled lines to './0_to_99999_times_1_digit/0_to_99999_times_1_digit_bal_train_eval.txt'.\n"
     ]
    }
   ],
   "source": [
    "!python sample_and_strip.py \\\n",
    "    --input ./0_to_99999_times_1_digit/0_to_99999_times_1_digit_bal_train.txt \\\n",
    "    --output ./0_to_99999_times_1_digit/0_to_99999_times_1_digit_bal_train_eval.txt \\\n",
    "    --sample-size 10000"
   ]
  },
  {
   "cell_type": "markdown",
   "metadata": {},
   "source": [
    "## Generate (0 to 999,999) times 1-digit multiplication"
   ]
  },
  {
   "cell_type": "code",
   "execution_count": null,
   "metadata": {},
   "outputs": [
    {
     "name": "stdout",
     "output_type": "stream",
     "text": [
      "Wrote 10000 shuffled lines (with answers) to '0_to_six_digit_times_1_digit_bal_train.txt'\n",
      "Wrote 3000 shuffled lines (no answers) to '0_to_six_digit_times_1_digit_bal_test.txt'\n",
      "Wrote 3000 shuffled lines (with answers) to '0_to_six_digit_times_1_digit_bal_validation.txt.txt'\n"
     ]
    }
   ],
   "source": [
    "import random\n",
    "\n",
    "def make_dataset(\n",
    "    train_size=(100, 200, 400, 800, 1500, 7000), # total: 10,000\n",
    "    test_size=3000,\n",
    "    validation_size=3000,\n",
    "    seed=42,\n",
    "    train_path=\"training.txt\",\n",
    "    test_path=\"testing.txt\",\n",
    "    validation_path=\"validation.txt\"\n",
    "):\n",
    "    random.seed(seed)\n",
    "    # 1) Generate all (a,b) pairs with a∈[0,999], b∈[0,9]\n",
    "    all_pairs = [(a, b) for a in range(1000000) for b in range(10)]\n",
    "    \n",
    "    # 2) Split by digit‑length of 'a'\n",
    "    ones   = [(a, b) for a, b in all_pairs if a < 10]\n",
    "    twos   = [(a, b) for a, b in all_pairs if 10 <= a < 100]\n",
    "    threes = [(a, b) for a, b in all_pairs if 100 <= a < 1000]\n",
    "    four = [(a, b) for a, b in all_pairs if 1000 <= a < 10000]\n",
    "    five = [(a, b) for a, b in all_pairs if 10000 <= a < 100000]\n",
    "    six = [(a, b) for a, b in all_pairs if 100000 <= a < 1000000]\n",
    "    \n",
    "    # 3) Assemble training subsets\n",
    "    train_ones   = ones[:]  # all 1‑digit × 1‑digit (100)\n",
    "    train_twos   = random.sample(twos, train_size[1])    # 300 of 2‑digit × 1‑digit\n",
    "    train_threes = random.sample(threes, train_size[2])  # 600 of 3‑digit × 1‑digit\n",
    "    train_fours  = random.sample(four, train_size[3])    # 1000 of 4‑digit × 1‑digit\n",
    "    train_fives  = random.sample(five, train_size[4])    # 8000 of 5‑digit × 1‑digit\n",
    "    train_sixes  = random.sample(six, train_size[5])      # 1500 of 6‑digit × 1‑digit\n",
    "    \n",
    "    training = list(set(train_ones + train_twos + train_threes + train_fours + train_fives + train_sixes))\n",
    "    assert len(training) == sum(train_size), \"Training size mismatch!\"\n",
    "    \n",
    "    # 4) Remaining pool for testing\n",
    "    remaining = list(set(all_pairs) - set(training))\n",
    "    testing   = random.sample(remaining, test_size)\n",
    "    remaining_for_validation = list(set(remaining) - set(testing))\n",
    "    validation = random.sample(remaining_for_validation, validation_size)\n",
    "    \n",
    "    # 5) Shuffle before writing\n",
    "    random.shuffle(training)\n",
    "    random.shuffle(testing)\n",
    "    \n",
    "    # 6) Write out to the given paths\n",
    "    with open(train_path, \"w\") as f_tr:\n",
    "        for a, b in training:\n",
    "            f_tr.write(f\"{a}*{b}={a*b}$\\n\")\n",
    "    \n",
    "    with open(test_path, \"w\") as f_te:\n",
    "        for a, b in testing:\n",
    "            f_te.write(f\"{a}*{b}=\\n\")\n",
    "\n",
    "    with open(validation_path, \"w\") as f_val:\n",
    "        for a, b in validation:\n",
    "            f_val.write(f\"{a}*{b}={a*b}$\\n\")\n",
    "    \n",
    "    print(f\"Wrote {len(training)} shuffled lines (with answers) to '{train_path}'\")\n",
    "    print(f\"Wrote {len(testing)} shuffled lines (no answers) to '{test_path}'\")\n",
    "    print(f\"Wrote {len(validation)} shuffled lines (with answers) to '{validation_path}.txt'\")\n",
    "\n",
    "if __name__ == \"__main__\":\n",
    "    # Example with custom filenames\n",
    "    make_dataset(\n",
    "        seed=42,\n",
    "        train_path=\"0_to_six_digit_times_1_digit_bal_train.txt\",\n",
    "        test_path=\"0_to_six_digit_times_1_digit_bal_test.txt\",\n",
    "        validation_path=\"0_to_six_digit_times_1_digit_bal_validation.txt\"\n",
    "    )\n"
   ]
  },
  {
   "cell_type": "code",
   "execution_count": 10,
   "metadata": {},
   "outputs": [
    {
     "name": "stdout",
     "output_type": "stream",
     "text": [
      "Processed './0_to_six_digit_times_1_digit_bal_validation.txt' and wrote results to './0_to_six_digit_times_1_digit_bal_validation_reverse.txt'.\n"
     ]
    }
   ],
   "source": [
    "import os\n",
    "\n",
    "INPUT_FILENAME = './0_to_six_digit_times_1_digit_bal_validation.txt'\n",
    "OUTPUT_FILENAME = './0_to_six_digit_times_1_digit_bal_validation_reverse.txt'\n",
    "\n",
    "def reverse_results(input_path: str, output_path: str) -> None:\n",
    "    \"\"\"\n",
    "    Read each line from `input_path`, reverse the two‐digit result before the '$',\n",
    "    and write the modified line to `output_path`.\n",
    "    \"\"\"\n",
    "    if not os.path.isfile(input_path):\n",
    "        print(f\"Error: '{input_path}' does not exist.\")\n",
    "        return\n",
    "\n",
    "    with open(input_path, \"r\") as infile, open(output_path, \"w\") as outfile:\n",
    "        for raw_line in infile:\n",
    "            line = raw_line.rstrip(\"\\n\")\n",
    "            # Skip empty lines\n",
    "            if not line.strip():\n",
    "                continue\n",
    "\n",
    "            # Expect format: <expression>=<two_digits>$\n",
    "            if \"=\" in line and line.endswith(\"$\"):\n",
    "                left, right = line.split(\"=\", 1)\n",
    "                # right is like \"42$\" or \"02$\"\n",
    "                digits = right[:-1]  # drop the trailing '$'\n",
    "                # Reverse the digit string (e.g., \"42\" -> \"24\", \"02\" -> \"20\")\n",
    "                reversed_digits = digits[::-1]\n",
    "                new_line = f\"{left}={reversed_digits}$\"\n",
    "            else:\n",
    "                # If line doesn't match expected pattern, leave it unchanged\n",
    "                new_line = line\n",
    "\n",
    "            outfile.write(new_line + \"\\n\")\n",
    "\n",
    "    print(f\"Processed '{input_path}' and wrote results to '{output_path}'.\")\n",
    "\n",
    "\n",
    "if __name__ == \"__main__\":\n",
    "    reverse_results(INPUT_FILENAME, OUTPUT_FILENAME)"
   ]
  },
  {
   "cell_type": "code",
   "execution_count": 11,
   "metadata": {},
   "outputs": [
    {
     "name": "stdout",
     "output_type": "stream",
     "text": [
      "Total lines in input file: 10000\n",
      "Wrote 10000 sampled lines to './0_to_six_digit_times_1_digit_bal_train_eval.txt'.\n"
     ]
    }
   ],
   "source": [
    "!python sample_and_strip.py \\\n",
    "    --input ./0_to_six_digit_times_1_digit_bal_train.txt \\\n",
    "    --output ./0_to_six_digit_times_1_digit_bal_train_eval.txt \\\n",
    "    --sample-size 10000"
   ]
  },
  {
   "cell_type": "markdown",
   "metadata": {},
   "source": [
    "## Generate 2 Operands 0-999 Uniformly Sampled & Unique Data"
   ]
  },
  {
   "cell_type": "markdown",
   "metadata": {},
   "source": [
    "### Zero Padding to Both Input & Output"
   ]
  },
  {
   "cell_type": "code",
   "execution_count": null,
   "metadata": {},
   "outputs": [
    {
     "name": "stdout",
     "output_type": "stream",
     "text": [
      "Wrote 10000 train, 3000 test, 3000 val examples.\n"
     ]
    }
   ],
   "source": [
    "import random\n",
    "\n",
    "\n",
    "def format_train_val(a: int, b: int) -> str:\n",
    "    \"\"\"\n",
    "    Format for training/validation: '229+594=823$'\n",
    "    \"\"\"\n",
    "    return f\"{a:03d}+{b:03d}={a + b:04d}$\"\n",
    "\n",
    "\n",
    "def format_test(a: int, b: int) -> str:\n",
    "    \"\"\"\n",
    "    Format for testing: '252+699='\n",
    "    \"\"\"\n",
    "    return f\"{a:03d}+{b:03d}=\"\n",
    "\n",
    "\n",
    "def main(\n",
    "    train_size=10000,\n",
    "    test_size=3000,\n",
    "    val_size=3000,\n",
    "    seed=42,\n",
    "    train_file=\"train.txt\",\n",
    "    test_file=\"test.txt\",\n",
    "    val_file=\"val.txt\"\n",
    "):\n",
    "    # 1. Build all (a,b) pairs\n",
    "    all_pairs = [(a, b) for a in range(1000) for b in range(1000)]\n",
    "\n",
    "    # 2. Shuffle\n",
    "    random.seed(seed)\n",
    "    random.shuffle(all_pairs)\n",
    "\n",
    "    # 3. Slice\n",
    "    train_pairs = all_pairs[:train_size]\n",
    "    test_pairs  = all_pairs[train_size:train_size + test_size]\n",
    "    val_pairs   = all_pairs[train_size + test_size:train_size + test_size + val_size]\n",
    "\n",
    "    # 4. Write files with different formats\n",
    "    with open(train_file, \"w\") as f_train, \\\n",
    "         open(test_file,  \"w\") as f_test, \\\n",
    "         open(val_file,   \"w\") as f_val:\n",
    "\n",
    "        for a, b in train_pairs:\n",
    "            f_train.write(format_train_val(a, b) + \"\\n\")\n",
    "\n",
    "        for a, b in test_pairs:\n",
    "            f_test.write(format_test(a, b) + \"\\n\")\n",
    "\n",
    "        for a, b in val_pairs:\n",
    "            f_val.write(format_train_val(a, b) + \"\\n\")\n",
    "\n",
    "    print(f\"Wrote {train_size} train, {test_size} test, {val_size} val examples.\")\n",
    "\n",
    "\n",
    "if __name__ == \"__main__\":\n",
    "    main()\n"
   ]
  },
  {
   "cell_type": "markdown",
   "metadata": {},
   "source": [
    "### Without Zero Padding"
   ]
  },
  {
   "cell_type": "code",
   "execution_count": 32,
   "metadata": {},
   "outputs": [
    {
     "name": "stdout",
     "output_type": "stream",
     "text": [
      "Wrote 10000 train, 3000 test, 3000 val examples.\n"
     ]
    }
   ],
   "source": [
    "import random\n",
    "\n",
    "\n",
    "def format_train_val(a: int, b: int) -> str:\n",
    "    \"\"\"\n",
    "    Format for training/validation: '229+594=823$'\n",
    "    \"\"\"\n",
    "    return f\"{a}+{b}={a + b}$\"\n",
    "\n",
    "\n",
    "def format_test(a: int, b: int) -> str:\n",
    "    \"\"\"\n",
    "    Format for testing: '252+699='\n",
    "    \"\"\"\n",
    "    return f\"{a}+{b}={a + b}$\"\n",
    "\n",
    "\n",
    "def main(\n",
    "    train_size=10000,\n",
    "    test_size=3000,\n",
    "    val_size=3000,\n",
    "    seed=42,\n",
    "    train_file=\"train.txt\",\n",
    "    test_file=\"test.txt\",\n",
    "    val_file=\"val.txt\"\n",
    "):\n",
    "    # 1. Build all (a,b) pairs\n",
    "    all_pairs = [(a, b) for a in range(1000) for b in range(1000)]\n",
    "\n",
    "    # 2. Shuffle\n",
    "    random.seed(seed)\n",
    "    random.shuffle(all_pairs)\n",
    "\n",
    "    # 3. Slice\n",
    "    train_pairs = all_pairs[:train_size]\n",
    "    test_pairs  = all_pairs[train_size:train_size + test_size]\n",
    "    val_pairs   = all_pairs[train_size + test_size:train_size + test_size + val_size]\n",
    "\n",
    "    # 4. Write files with different formats\n",
    "    with open(train_file, \"w\") as f_train, \\\n",
    "         open(test_file,  \"w\") as f_test, \\\n",
    "         open(val_file,   \"w\") as f_val:\n",
    "\n",
    "        for a, b in train_pairs:\n",
    "            f_train.write(format_train_val(a, b) + \"\\n\")\n",
    "\n",
    "        for a, b in test_pairs:\n",
    "            f_test.write(format_test(a, b) + \"\\n\")\n",
    "\n",
    "        for a, b in val_pairs:\n",
    "            f_val.write(format_train_val(a, b) + \"\\n\")\n",
    "\n",
    "    print(f\"Wrote {train_size} train, {test_size} test, {val_size} val examples.\")\n",
    "\n",
    "\n",
    "if __name__ == \"__main__\":\n",
    "    main()\n"
   ]
  },
  {
   "cell_type": "code",
   "execution_count": 33,
   "metadata": {},
   "outputs": [
    {
     "name": "stdout",
     "output_type": "stream",
     "text": [
      "Total lines in input file: 10000\n",
      "Wrote 3000 sampled lines to './train_eval.txt'.\n"
     ]
    }
   ],
   "source": [
    "!python sample.py \\\n",
    "    --input ./train.txt \\\n",
    "    --output ./train_eval.txt \\\n",
    "    --sample-size 3000"
   ]
  },
  {
   "cell_type": "code",
   "execution_count": 34,
   "metadata": {},
   "outputs": [
    {
     "name": "stdout",
     "output_type": "stream",
     "text": [
      "Processed './train.txt' and wrote results to './train_reverse.txt'.\n",
      "Processed './train_eval.txt' and wrote results to './train_eval_reverse.txt'.\n",
      "Processed './test.txt' and wrote results to './test_reverse.txt'.\n",
      "Processed './val.txt' and wrote results to './val_reverse.txt'.\n"
     ]
    }
   ],
   "source": [
    "import os\n",
    "\n",
    "INPUT_FILENAMES = [\n",
    "    './train.txt',\n",
    "    './train_eval.txt',\n",
    "    './test.txt',\n",
    "    './val.txt'\n",
    "]\n",
    "\n",
    "OUTPUT_FILENAMES = [\n",
    "    './train_reverse.txt',\n",
    "    './train_eval_reverse.txt',\n",
    "    './test_reverse.txt',\n",
    "    './val_reverse.txt'\n",
    "]\n",
    "\n",
    "def reverse_results(input_path: str, output_path: str) -> None:\n",
    "    \"\"\"\n",
    "    Read each line from `input_path`, reverse the two‐digit result before the '$',\n",
    "    and write the modified line to `output_path`.\n",
    "    \"\"\"\n",
    "    if not os.path.isfile(input_path):\n",
    "        print(f\"Error: '{input_path}' does not exist.\")\n",
    "        return\n",
    "\n",
    "    with open(input_path, \"r\") as infile, open(output_path, \"w\") as outfile:\n",
    "        for raw_line in infile:\n",
    "            line = raw_line.rstrip(\"\\n\")\n",
    "            # Skip empty lines\n",
    "            if not line.strip():\n",
    "                continue\n",
    "\n",
    "            # Expect format: <expression>=<two_digits>$\n",
    "            if \"=\" in line and line.endswith(\"$\"):\n",
    "                left, right = line.split(\"=\", 1)\n",
    "                # right is like \"42$\" or \"02$\"\n",
    "                digits = right[:-1]  # drop the trailing '$'\n",
    "                # Reverse the digit string (e.g., \"42\" -> \"24\", \"02\" -> \"20\")\n",
    "                reversed_digits = digits[::-1]\n",
    "                new_line = f\"{left}={reversed_digits}$\"\n",
    "            else:\n",
    "                # If line doesn't match expected pattern, leave it unchanged\n",
    "                new_line = line\n",
    "\n",
    "            outfile.write(new_line + \"\\n\")\n",
    "\n",
    "    print(f\"Processed '{input_path}' and wrote results to '{output_path}'.\")\n",
    "\n",
    "\n",
    "if __name__ == \"__main__\":\n",
    "    for input_file, output_file in zip(INPUT_FILENAMES, OUTPUT_FILENAMES):\n",
    "        reverse_results(input_file, output_file)"
   ]
  },
  {
   "cell_type": "code",
   "execution_count": null,
   "metadata": {},
   "outputs": [
    {
     "name": "stdout",
     "output_type": "stream",
     "text": [
      "Error: './test_eval.txt' does not exist.\n"
     ]
    }
   ],
   "source": [
    "import os\n",
    "\n",
    "INPUT_FILENAME = './train_eval.txt'\n",
    "OUTPUT_FILENAME = './train_eval_reverse.txt'\n",
    "\n",
    "def reverse_results(input_path: str, output_path: str) -> None:\n",
    "    \"\"\"\n",
    "    Read each line from `input_path`, reverse the two‐digit result before the '$',\n",
    "    and write the modified line to `output_path`.\n",
    "    \"\"\"\n",
    "    if not os.path.isfile(input_path):\n",
    "        print(f\"Error: '{input_path}' does not exist.\")\n",
    "        return\n",
    "\n",
    "    with open(input_path, \"r\") as infile, open(output_path, \"w\") as outfile:\n",
    "        for raw_line in infile:\n",
    "            line = raw_line.rstrip(\"\\n\")\n",
    "            # Skip empty lines\n",
    "            if not line.strip():\n",
    "                continue\n",
    "\n",
    "            # Expect format: <expression>=<two_digits>$\n",
    "            if \"=\" in line and line.endswith(\"$\"):\n",
    "                left, right = line.split(\"=\", 1)\n",
    "                # right is like \"42$\" or \"02$\"\n",
    "                digits = right[:-1]  # drop the trailing '$'\n",
    "                # Reverse the digit string (e.g., \"42\" -> \"24\", \"02\" -> \"20\")\n",
    "                reversed_digits = digits[::-1]\n",
    "                new_line = f\"{left}={reversed_digits}$\"\n",
    "            else:\n",
    "                # If line doesn't match expected pattern, leave it unchanged\n",
    "                new_line = line\n",
    "\n",
    "            outfile.write(new_line + \"\\n\")\n",
    "\n",
    "    print(f\"Processed '{input_path}' and wrote results to '{output_path}'.\")\n",
    "\n",
    "\n",
    "if __name__ == \"__main__\":\n",
    "    reverse_results(INPUT_FILENAME, OUTPUT_FILENAME)"
   ]
  },
  {
   "cell_type": "code",
   "execution_count": 30,
   "metadata": {},
   "outputs": [
    {
     "name": "stdout",
     "output_type": "stream",
     "text": [
      "Total lines in input file: 10000\n",
      "Wrote 3000 sampled lines to './train_eval.txt'.\n"
     ]
    }
   ],
   "source": [
    "!python sample_and_strip.py \\\n",
    "    --input ./train.txt \\\n",
    "    --output ./train_eval.txt \\\n",
    "    --sample-size 3000"
   ]
  },
  {
   "cell_type": "markdown",
   "metadata": {},
   "source": [
    "### Output is 200--1998, padding 0 if < 1000"
   ]
  },
  {
   "cell_type": "code",
   "execution_count": 17,
   "metadata": {},
   "outputs": [
    {
     "name": "stdout",
     "output_type": "stream",
     "text": [
      "Wrote 10000 train, 3000 test, 3000 val examples.\n"
     ]
    }
   ],
   "source": [
    "import random\n",
    "\n",
    "\n",
    "def format_train_val(a: int, b: int) -> str:\n",
    "    \"\"\"\n",
    "    Format for training/validation: '229+594=823$'\n",
    "    \"\"\"\n",
    "    return f\"{a:03d}+{b:03d}={a + b:04d}$\"\n",
    "\n",
    "\n",
    "def format_test(a: int, b: int) -> str:\n",
    "    \"\"\"\n",
    "    Format for testing: '252+699='\n",
    "    \"\"\"\n",
    "    return f\"{a:03d}+{b:03d}=\"\n",
    "\n",
    "\n",
    "def main(\n",
    "    train_size=10000,\n",
    "    test_size=3000,\n",
    "    val_size=3000,\n",
    "    seed=42,\n",
    "    train_file=\"train.txt\",\n",
    "    test_file=\"test.txt\",\n",
    "    val_file=\"val.txt\"\n",
    "):\n",
    "    # 1. Build all (a,b) pairs\n",
    "    all_pairs = [(a, b) for a in range(100,1000) for b in range(100,1000)]\n",
    "\n",
    "    # 2. Shuffle\n",
    "    random.seed(seed)\n",
    "    random.shuffle(all_pairs)\n",
    "\n",
    "    # 3. Slice\n",
    "    train_pairs = all_pairs[:train_size]\n",
    "    test_pairs  = all_pairs[train_size:train_size + test_size]\n",
    "    val_pairs   = all_pairs[train_size + test_size:train_size + test_size + val_size]\n",
    "\n",
    "    # 4. Write files with different formats\n",
    "    with open(train_file, \"w\") as f_train, \\\n",
    "         open(test_file,  \"w\") as f_test, \\\n",
    "         open(val_file,   \"w\") as f_val:\n",
    "\n",
    "        for a, b in train_pairs:\n",
    "            f_train.write(format_train_val(a, b) + \"\\n\")\n",
    "\n",
    "        for a, b in test_pairs:\n",
    "            f_test.write(format_test(a, b) + \"\\n\")\n",
    "\n",
    "        for a, b in val_pairs:\n",
    "            f_val.write(format_train_val(a, b) + \"\\n\")\n",
    "\n",
    "    print(f\"Wrote {train_size} train, {test_size} test, {val_size} val examples.\")\n",
    "\n",
    "\n",
    "if __name__ == \"__main__\":\n",
    "    main()\n"
   ]
  },
  {
   "cell_type": "code",
   "execution_count": 24,
   "metadata": {},
   "outputs": [
    {
     "name": "stdout",
     "output_type": "stream",
     "text": [
      "Processed './val.txt' and wrote results to './val_reverse.txt'.\n"
     ]
    }
   ],
   "source": [
    "import os\n",
    "\n",
    "INPUT_FILENAME = './val.txt'\n",
    "OUTPUT_FILENAME = './val_reverse.txt'\n",
    "\n",
    "def reverse_results(input_path: str, output_path: str) -> None:\n",
    "    \"\"\"\n",
    "    Read each line from `input_path`, reverse the two‐digit result before the '$',\n",
    "    and write the modified line to `output_path`.\n",
    "    \"\"\"\n",
    "    if not os.path.isfile(input_path):\n",
    "        print(f\"Error: '{input_path}' does not exist.\")\n",
    "        return\n",
    "\n",
    "    with open(input_path, \"r\") as infile, open(output_path, \"w\") as outfile:\n",
    "        for raw_line in infile:\n",
    "            line = raw_line.rstrip(\"\\n\")\n",
    "            # Skip empty lines\n",
    "            if not line.strip():\n",
    "                continue\n",
    "\n",
    "            # Expect format: <expression>=<two_digits>$\n",
    "            if \"=\" in line and line.endswith(\"$\"):\n",
    "                left, right = line.split(\"=\", 1)\n",
    "                # right is like \"42$\" or \"02$\"\n",
    "                digits = right[:-1]  # drop the trailing '$'\n",
    "                # Reverse the digit string (e.g., \"42\" -> \"24\", \"02\" -> \"20\")\n",
    "                reversed_digits = digits[::-1]\n",
    "                new_line = f\"{left}={reversed_digits}$\"\n",
    "            else:\n",
    "                # If line doesn't match expected pattern, leave it unchanged\n",
    "                new_line = line\n",
    "\n",
    "            outfile.write(new_line + \"\\n\")\n",
    "\n",
    "    print(f\"Processed '{input_path}' and wrote results to '{output_path}'.\")\n",
    "\n",
    "\n",
    "if __name__ == \"__main__\":\n",
    "    reverse_results(INPUT_FILENAME, OUTPUT_FILENAME)"
   ]
  },
  {
   "cell_type": "code",
   "execution_count": 25,
   "metadata": {},
   "outputs": [
    {
     "name": "stdout",
     "output_type": "stream",
     "text": [
      "Total lines in input file: 10000\n",
      "Wrote 3000 sampled lines to './train_eval.txt'.\n"
     ]
    }
   ],
   "source": [
    "!python sample_and_strip.py \\\n",
    "    --input ./train.txt \\\n",
    "    --output ./train_eval.txt \\\n",
    "    --sample-size 3000"
   ]
  },
  {
   "cell_type": "markdown",
   "metadata": {},
   "source": [
    "### Output is >= 1000"
   ]
  },
  {
   "cell_type": "code",
   "execution_count": null,
   "metadata": {},
   "outputs": [
    {
     "name": "stdout",
     "output_type": "stream",
     "text": [
      "Wrote 10000 train, 3000 test, 3000 val examples.\n"
     ]
    }
   ],
   "source": [
    "import random\n",
    "\n",
    "\n",
    "def format_train_val(a: int, b: int) -> str:\n",
    "    \"\"\"\n",
    "    Format for training/validation: '229+594=823$'\n",
    "    \"\"\"\n",
    "    return f\"{a:03d}+{b:03d}={a + b:04d}$\"\n",
    "\n",
    "\n",
    "def format_test(a: int, b: int) -> str:\n",
    "    \"\"\"\n",
    "    Format for testing: '252+699='\n",
    "    \"\"\"\n",
    "    return f\"{a:03d}+{b:03d}=\"\n",
    "\n",
    "\n",
    "def main(\n",
    "    train_size=10000,\n",
    "    test_size=3000,\n",
    "    val_size=3000,\n",
    "    seed=42,\n",
    "    train_file=\"train.txt\",\n",
    "    test_file=\"test.txt\",\n",
    "    val_file=\"val.txt\"\n",
    "):\n",
    "    # 1. Build all (a,b) pairs\n",
    "    all_pairs = [(a, b) for a in range(100,1000) for b in range(100,1000) if a + b >= 1000]\n",
    "\n",
    "    # 2. Shuffle\n",
    "    random.seed(seed)\n",
    "    random.shuffle(all_pairs)\n",
    "\n",
    "    # 3. Slice\n",
    "    train_pairs = all_pairs[:train_size]\n",
    "    test_pairs  = all_pairs[train_size:train_size + test_size]\n",
    "    val_pairs   = all_pairs[train_size + test_size:train_size + test_size + val_size]\n",
    "\n",
    "    # 4. Write files with different formats\n",
    "    with open(train_file, \"w\") as f_train, \\\n",
    "         open(test_file,  \"w\") as f_test, \\\n",
    "         open(val_file,   \"w\") as f_val:\n",
    "\n",
    "        for a, b in train_pairs:\n",
    "            f_train.write(format_train_val(a, b) + \"\\n\")\n",
    "\n",
    "        for a, b in test_pairs:\n",
    "            f_test.write(format_test(a, b) + \"\\n\")\n",
    "\n",
    "        for a, b in val_pairs:\n",
    "            f_val.write(format_train_val(a, b) + \"\\n\")\n",
    "\n",
    "    print(f\"Wrote {train_size} train, {test_size} test, {val_size} val examples.\")\n",
    "\n",
    "\n",
    "if __name__ == \"__main__\":\n",
    "    main()\n"
   ]
  },
  {
   "cell_type": "markdown",
   "metadata": {},
   "source": [
    "## Generate leading digit dropped output data "
   ]
  },
  {
   "cell_type": "code",
   "execution_count": 35,
   "metadata": {},
   "outputs": [
    {
     "name": "stdout",
     "output_type": "stream",
     "text": [
      "Wrote 10000 train, 3000 test, 3000 val examples.\n"
     ]
    }
   ],
   "source": [
    "import random\n",
    "\n",
    "\n",
    "def format_train_val(a: int, b: int) -> str:\n",
    "    \"\"\"\n",
    "    Format for training/validation: '229+594=234$'  # note: we drop the leading digit of the sum\n",
    "    \"\"\"\n",
    "    full = f\"{a + b:04d}\" # full sum with leading digit\n",
    "    truncated = full[1:]  # drop the leading digit\n",
    "    return f\"{a:03d}+{b:03d}={truncated}$\"\n",
    "\n",
    "\n",
    "def format_test(a: int, b: int) -> str:\n",
    "    \"\"\"\n",
    "    Format for testing: '252+699='\n",
    "    \"\"\"\n",
    "    full = f\"{a + b:04d}\" # full sum with leading digit\n",
    "    truncated = full[1:]  # drop the leading digit\n",
    "    return f\"{a:03d}+{b:03d}={truncated}$\"\n",
    "\n",
    "\n",
    "def main(\n",
    "    train_size=10000,\n",
    "    test_size=3000,\n",
    "    val_size=3000,\n",
    "    seed=42,\n",
    "    train_file=\"train.txt\",\n",
    "    test_file=\"test.txt\",\n",
    "    val_file=\"val.txt\"\n",
    "):\n",
    "    # 1. Build all (a,b) pairs\n",
    "    all_pairs = [(a, b) for a in range(1000) for b in range(1000)]\n",
    "\n",
    "    # 2. Shuffle\n",
    "    random.seed(seed)\n",
    "    random.shuffle(all_pairs)\n",
    "\n",
    "    # 3. Slice\n",
    "    train_pairs = all_pairs[:train_size]\n",
    "    test_pairs  = all_pairs[train_size:train_size + test_size]\n",
    "    val_pairs   = all_pairs[train_size + test_size:train_size + test_size + val_size]\n",
    "\n",
    "    # 4. Write files with different formats\n",
    "    with open(train_file, \"w\") as f_train, \\\n",
    "         open(test_file,  \"w\") as f_test, \\\n",
    "         open(val_file,   \"w\") as f_val:\n",
    "\n",
    "        for a, b in train_pairs:\n",
    "            f_train.write(format_train_val(a, b) + \"\\n\")\n",
    "\n",
    "        for a, b in test_pairs:\n",
    "            f_test.write(format_test(a, b) + \"\\n\")\n",
    "\n",
    "        for a, b in val_pairs:\n",
    "            f_val.write(format_train_val(a, b) + \"\\n\")\n",
    "\n",
    "    print(f\"Wrote {train_size} train, {test_size} test, {val_size} val examples.\")\n",
    "\n",
    "\n",
    "if __name__ == \"__main__\":\n",
    "    main()\n"
   ]
  },
  {
   "cell_type": "code",
   "execution_count": 2,
   "metadata": {},
   "outputs": [
    {
     "name": "stdout",
     "output_type": "stream",
     "text": [
      "Processed './4_operand_addition_stats_measurement_data_plain.txt' and wrote results to './4_operand_addition_stats_measurement_data_reversed.txt'.\n"
     ]
    }
   ],
   "source": [
    "import os\n",
    "\n",
    "INPUT_FILENAME = './4_operand_addition_stats_measurement_data_plain.txt'\n",
    "OUTPUT_FILENAME = './4_operand_addition_stats_measurement_data_reversed.txt'\n",
    "\n",
    "def reverse_results(input_path: str, output_path: str) -> None:\n",
    "    \"\"\"\n",
    "    Read each line from `input_path`, reverse the two‐digit result before the '$',\n",
    "    and write the modified line to `output_path`.\n",
    "    \"\"\"\n",
    "    if not os.path.isfile(input_path):\n",
    "        print(f\"Error: '{input_path}' does not exist.\")\n",
    "        return\n",
    "\n",
    "    with open(input_path, \"r\") as infile, open(output_path, \"w\") as outfile:\n",
    "        for raw_line in infile:\n",
    "            line = raw_line.rstrip(\"\\n\")\n",
    "            # Skip empty lines\n",
    "            if not line.strip():\n",
    "                continue\n",
    "\n",
    "            # Expect format: <expression>=<two_digits>$\n",
    "            if \"=\" in line and line.endswith(\"$\"):\n",
    "                left, right = line.split(\"=\", 1)\n",
    "                # right is like \"42$\" or \"02$\"\n",
    "                digits = right[:-1]  # drop the trailing '$'\n",
    "                # Reverse the digit string (e.g., \"42\" -> \"24\", \"02\" -> \"20\")\n",
    "                reversed_digits = digits[::-1]\n",
    "                new_line = f\"{left}={reversed_digits}$\"\n",
    "            else:\n",
    "                # If line doesn't match expected pattern, leave it unchanged\n",
    "                new_line = line\n",
    "\n",
    "            outfile.write(new_line + \"\\n\")\n",
    "\n",
    "    print(f\"Processed '{input_path}' and wrote results to '{output_path}'.\")\n",
    "\n",
    "\n",
    "if __name__ == \"__main__\":\n",
    "    reverse_results(INPUT_FILENAME, OUTPUT_FILENAME)"
   ]
  },
  {
   "cell_type": "code",
   "execution_count": 42,
   "metadata": {},
   "outputs": [
    {
     "name": "stdout",
     "output_type": "stream",
     "text": [
      "Total lines in input file: 10000\n",
      "Wrote 3000 sampled lines to './train_eval.txt'.\n"
     ]
    }
   ],
   "source": [
    "!python sample.py \\\n",
    "    --input ./train.txt \\\n",
    "    --output ./train_eval.txt \\\n",
    "    --sample-size 3000"
   ]
  },
  {
   "cell_type": "markdown",
   "metadata": {},
   "source": [
    "## Generate 4 Operands 0-to-999, Zero Padding to Both Input and Output"
   ]
  },
  {
   "cell_type": "code",
   "execution_count": 1,
   "metadata": {},
   "outputs": [
    {
     "name": "stdout",
     "output_type": "stream",
     "text": [
      "Wrote 1000000 train, 10000 test, 10000 val examples.\n"
     ]
    }
   ],
   "source": [
    "import random\n",
    "\n",
    "TRAIN_SIZE = 1_000_000\n",
    "TEST_SIZE  = 10_000\n",
    "VAL_SIZE   = 10_000\n",
    "SEED       = 42\n",
    "\n",
    "def decode_idx(idx: int):\n",
    "    \"\"\"Turn an integer 0 <= idx < 1000**4 into four 3‑digit numbers.\"\"\"\n",
    "    d = idx % 1000\n",
    "    idx //= 1000\n",
    "    c = idx % 1000\n",
    "    idx //= 1000\n",
    "    b = idx % 1000\n",
    "    idx //= 1000\n",
    "    a = idx  # now in [0,999]\n",
    "    return a, b, c, d\n",
    "\n",
    "def fmt(a, b, c, d):\n",
    "    return f\"{a:03d}+{b:03d}+{c:03d}+{d:03d}={a+b+c+d:04d}$\"\n",
    "\n",
    "def main():\n",
    "    random.seed(SEED)\n",
    "\n",
    "    total_needed = TRAIN_SIZE + TEST_SIZE + VAL_SIZE\n",
    "    # Sample unique indices in [0, 10**12):\n",
    "    sampled = random.sample(range(1000**4), total_needed)\n",
    "\n",
    "    train_idx = sampled[:TRAIN_SIZE]\n",
    "    test_idx  = sampled[TRAIN_SIZE:TRAIN_SIZE+TEST_SIZE]\n",
    "    val_idx   = sampled[TRAIN_SIZE+TEST_SIZE:]\n",
    "\n",
    "    with open(\"train.txt\", \"w\") as f_train, \\\n",
    "         open(\"test.txt\",  \"w\") as f_test, \\\n",
    "         open(\"val.txt\",   \"w\") as f_val:\n",
    "\n",
    "        for idx in train_idx:\n",
    "            f_train.write(fmt(*decode_idx(idx)) + \"\\n\")\n",
    "\n",
    "        for idx in test_idx:\n",
    "            f_test.write(fmt(*decode_idx(idx)) + \"\\n\")\n",
    "\n",
    "        for idx in val_idx:\n",
    "            f_val.write(fmt(*decode_idx(idx)) + \"\\n\")\n",
    "\n",
    "    print(f\"Wrote {TRAIN_SIZE} train, {TEST_SIZE} test, {VAL_SIZE} val examples.\")\n",
    "\n",
    "if __name__ == \"__main__\":\n",
    "    main()\n"
   ]
  },
  {
   "cell_type": "code",
   "execution_count": 2,
   "metadata": {},
   "outputs": [
    {
     "name": "stdout",
     "output_type": "stream",
     "text": [
      "Total lines in input file: 1000000\n",
      "Wrote 10000 sampled lines to './train_eval.txt'.\n"
     ]
    }
   ],
   "source": [
    "!python sample.py \\\n",
    "    --input ./train.txt \\\n",
    "    --output ./train_eval.txt \\\n",
    "    --sample-size 10000"
   ]
  },
  {
   "cell_type": "code",
   "execution_count": 31,
   "metadata": {},
   "outputs": [
    {
     "name": "stdout",
     "output_type": "stream",
     "text": [
      "Processed './train.txt' and wrote results to './train_reverse.txt'.\n",
      "Processed './train_eval.txt' and wrote results to './train_eval_reverse.txt'.\n",
      "Processed './test.txt' and wrote results to './test_reverse.txt'.\n",
      "Processed './val.txt' and wrote results to './val_reverse.txt'.\n"
     ]
    }
   ],
   "source": [
    "import os\n",
    "\n",
    "INPUT_FILENAMES = [\n",
    "    './train.txt',\n",
    "    './train_eval.txt',\n",
    "    './test.txt',\n",
    "    './val.txt'\n",
    "]\n",
    "\n",
    "OUTPUT_FILENAMES = [\n",
    "    './train_reverse.txt',\n",
    "    './train_eval_reverse.txt',\n",
    "    './test_reverse.txt',\n",
    "    './val_reverse.txt'\n",
    "]\n",
    "\n",
    "def reverse_results(input_path: str, output_path: str) -> None:\n",
    "    \"\"\"\n",
    "    Read each line from `input_path`, reverse the two‐digit result before the '$',\n",
    "    and write the modified line to `output_path`.\n",
    "    \"\"\"\n",
    "    if not os.path.isfile(input_path):\n",
    "        print(f\"Error: '{input_path}' does not exist.\")\n",
    "        return\n",
    "\n",
    "    with open(input_path, \"r\") as infile, open(output_path, \"w\") as outfile:\n",
    "        for raw_line in infile:\n",
    "            line = raw_line.rstrip(\"\\n\")\n",
    "            # Skip empty lines\n",
    "            if not line.strip():\n",
    "                continue\n",
    "\n",
    "            # Expect format: <expression>=<two_digits>$\n",
    "            if \"=\" in line and line.endswith(\"$\"):\n",
    "                left, right = line.split(\"=\", 1)\n",
    "                # right is like \"42$\" or \"02$\"\n",
    "                digits = right[:-1]  # drop the trailing '$'\n",
    "                # Reverse the digit string (e.g., \"42\" -> \"24\", \"02\" -> \"20\")\n",
    "                reversed_digits = digits[::-1]\n",
    "                new_line = f\"{left}={reversed_digits}$\"\n",
    "            else:\n",
    "                # If line doesn't match expected pattern, leave it unchanged\n",
    "                new_line = line\n",
    "\n",
    "            outfile.write(new_line + \"\\n\")\n",
    "\n",
    "    print(f\"Processed '{input_path}' and wrote results to '{output_path}'.\")\n",
    "\n",
    "\n",
    "if __name__ == \"__main__\":\n",
    "    for input_file, output_file in zip(INPUT_FILENAMES, OUTPUT_FILENAMES):\n",
    "        reverse_results(input_file, output_file)"
   ]
  },
  {
   "cell_type": "markdown",
   "metadata": {},
   "source": [
    "## Generate 4 Operands, input 100-999, output 400-3996, zero padding to output if < 1000"
   ]
  },
  {
   "cell_type": "code",
   "execution_count": null,
   "metadata": {},
   "outputs": [
    {
     "name": "stdout",
     "output_type": "stream",
     "text": [
      "Wrote 1000000 train, 10000 test, 10000 val examples.\n"
     ]
    }
   ],
   "source": [
    "import random\n",
    "\n",
    "# Configuration\n",
    "TRAIN_SIZE = 1_000_000\n",
    "TEST_SIZE = 10_000\n",
    "VAL_SIZE = 10_000\n",
    "SEED = 42\n",
    "\n",
    "# Value range for each summand (100 to 999 inclusive)\n",
    "MIN_VAL = 100\n",
    "MAX_VAL = 999\n",
    "SPAN = MAX_VAL - MIN_VAL + 1  # 900\n",
    "\n",
    "\n",
    "def decode_idx(idx: int):\n",
    "    \"\"\"\n",
    "    Turn an integer 0 <= idx < SPAN**4 into four values uniformly in [MIN_VAL, MAX_VAL].\n",
    "    \"\"\"\n",
    "    d = idx % SPAN\n",
    "    idx //= SPAN\n",
    "    c = idx % SPAN\n",
    "    idx //= SPAN\n",
    "    b = idx % SPAN\n",
    "    idx //= SPAN\n",
    "    a = idx  # now in [0, SPAN-1]\n",
    "    return a + MIN_VAL, b + MIN_VAL, c + MIN_VAL, d + MIN_VAL\n",
    "\n",
    "\n",
    "def fmt(a: int, b: int, c: int, d: int):\n",
    "    \"\"\"\n",
    "    Format string: 'aaa+bbb+ccc+ddd=ssss$' where ssss is zero-padded to width 4.\n",
    "    \"\"\"\n",
    "    total = a + b + c + d\n",
    "    return f\"{a:03d}+{b:03d}+{c:03d}+{d:03d}={total:04d}$\"\n",
    "\n",
    "\n",
    "def main():\n",
    "    random.seed(SEED)\n",
    "\n",
    "    total_needed = TRAIN_SIZE + TEST_SIZE + VAL_SIZE\n",
    "\n",
    "    # Sample unique indices in [0, SPAN**4)\n",
    "    sampled = random.sample(range(SPAN**4), total_needed)\n",
    "\n",
    "    # Split into disjoint datasets\n",
    "    train_idx = sampled[:TRAIN_SIZE]\n",
    "    test_idx = sampled[TRAIN_SIZE:TRAIN_SIZE + TEST_SIZE]\n",
    "    val_idx = sampled[TRAIN_SIZE + TEST_SIZE:]\n",
    "\n",
    "    # Write to files\n",
    "    with open(\"train.txt\", \"w\") as f_train, \\\n",
    "         open(\"test.txt\",  \"w\") as f_test, \\\n",
    "         open(\"val.txt\",   \"w\") as f_val:\n",
    "\n",
    "        for idx in train_idx:\n",
    "            f_train.write(fmt(*decode_idx(idx)) + \"\\n\")\n",
    "\n",
    "        for idx in test_idx:\n",
    "            f_test.write(fmt(*decode_idx(idx)) + \"\\n\")\n",
    "\n",
    "        for idx in val_idx:\n",
    "            f_val.write(fmt(*decode_idx(idx)) + \"\\n\")\n",
    "\n",
    "    print(f\"Wrote {TRAIN_SIZE} train, {TEST_SIZE} test, {VAL_SIZE} val examples.\")\n",
    "\n",
    "\n",
    "if __name__ == \"__main__\":\n",
    "    main()\n"
   ]
  },
  {
   "cell_type": "code",
   "execution_count": 28,
   "metadata": {},
   "outputs": [
    {
     "name": "stdout",
     "output_type": "stream",
     "text": [
      "Total lines in input file: 10000\n",
      "Wrote 10000 sampled lines to './train_eval.txt'.\n"
     ]
    }
   ],
   "source": [
    "!python sample.py \\\n",
    "    --input ./train.txt \\\n",
    "    --output ./train_eval.txt \\\n",
    "    --sample-size 10000"
   ]
  },
  {
   "cell_type": "code",
   "execution_count": 6,
   "metadata": {},
   "outputs": [
    {
     "name": "stdout",
     "output_type": "stream",
     "text": [
      "Processed './train.txt' and wrote results to './train_reverse.txt'.\n",
      "Processed './train_eval.txt' and wrote results to './train_eval_reverse.txt'.\n",
      "Processed './test.txt' and wrote results to './test_reverse.txt'.\n",
      "Processed './val.txt' and wrote results to './val_reverse.txt'.\n"
     ]
    }
   ],
   "source": [
    "import os\n",
    "\n",
    "INPUT_FILENAMES = [\n",
    "    './train.txt',\n",
    "    './train_eval.txt',\n",
    "    './test.txt',\n",
    "    './val.txt'\n",
    "]\n",
    "\n",
    "OUTPUT_FILENAMES = [\n",
    "    './train_reverse.txt',\n",
    "    './train_eval_reverse.txt',\n",
    "    './test_reverse.txt',\n",
    "    './val_reverse.txt'\n",
    "]\n",
    "\n",
    "def reverse_results(input_path: str, output_path: str) -> None:\n",
    "    \"\"\"\n",
    "    Read each line from `input_path`, reverse the two‐digit result before the '$',\n",
    "    and write the modified line to `output_path`.\n",
    "    \"\"\"\n",
    "    if not os.path.isfile(input_path):\n",
    "        print(f\"Error: '{input_path}' does not exist.\")\n",
    "        return\n",
    "\n",
    "    with open(input_path, \"r\") as infile, open(output_path, \"w\") as outfile:\n",
    "        for raw_line in infile:\n",
    "            line = raw_line.rstrip(\"\\n\")\n",
    "            # Skip empty lines\n",
    "            if not line.strip():\n",
    "                continue\n",
    "\n",
    "            # Expect format: <expression>=<two_digits>$\n",
    "            if \"=\" in line and line.endswith(\"$\"):\n",
    "                left, right = line.split(\"=\", 1)\n",
    "                # right is like \"42$\" or \"02$\"\n",
    "                digits = right[:-1]  # drop the trailing '$'\n",
    "                # Reverse the digit string (e.g., \"42\" -> \"24\", \"02\" -> \"20\")\n",
    "                reversed_digits = digits[::-1]\n",
    "                new_line = f\"{left}={reversed_digits}$\"\n",
    "            else:\n",
    "                # If line doesn't match expected pattern, leave it unchanged\n",
    "                new_line = line\n",
    "\n",
    "            outfile.write(new_line + \"\\n\")\n",
    "\n",
    "    print(f\"Processed '{input_path}' and wrote results to '{output_path}'.\")\n",
    "\n",
    "\n",
    "if __name__ == \"__main__\":\n",
    "    for input_file, output_file in zip(INPUT_FILENAMES, OUTPUT_FILENAMES):\n",
    "        reverse_results(input_file, output_file)"
   ]
  },
  {
   "cell_type": "code",
   "execution_count": 4,
   "metadata": {},
   "outputs": [
    {
     "name": "stdout",
     "output_type": "stream",
     "text": [
      "Total lines in input file: 1000000\n",
      "Wrote 10000 sampled lines to './train_eval.txt'.\n"
     ]
    }
   ],
   "source": [
    "!python sample.py \\\n",
    "    --input ./train.txt \\\n",
    "    --output ./train_eval.txt \\\n",
    "    --sample-size 10000"
   ]
  },
  {
   "cell_type": "code",
   "execution_count": 5,
   "metadata": {},
   "outputs": [
    {
     "name": "stdout",
     "output_type": "stream",
     "text": [
      "Processed './train.txt' and wrote results to './train_reverse.txt'.\n",
      "Processed './train_eval.txt' and wrote results to './train_eval_reverse.txt'.\n",
      "Processed './test.txt' and wrote results to './test_reverse.txt'.\n",
      "Processed './val.txt' and wrote results to './val_reverse.txt'.\n"
     ]
    }
   ],
   "source": [
    "import os\n",
    "\n",
    "INPUT_FILENAMES = [\n",
    "    './train.txt',\n",
    "    './train_eval.txt',\n",
    "    './test.txt',\n",
    "    './val.txt'\n",
    "]\n",
    "\n",
    "OUTPUT_FILENAMES = [\n",
    "    './train_reverse.txt',\n",
    "    './train_eval_reverse.txt',\n",
    "    './test_reverse.txt',\n",
    "    './val_reverse.txt'\n",
    "]\n",
    "\n",
    "def reverse_results(input_path: str, output_path: str) -> None:\n",
    "    \"\"\"\n",
    "    Read each line from `input_path`, reverse the two‐digit result before the '$',\n",
    "    and write the modified line to `output_path`.\n",
    "    \"\"\"\n",
    "    if not os.path.isfile(input_path):\n",
    "        print(f\"Error: '{input_path}' does not exist.\")\n",
    "        return\n",
    "\n",
    "    with open(input_path, \"r\") as infile, open(output_path, \"w\") as outfile:\n",
    "        for raw_line in infile:\n",
    "            line = raw_line.rstrip(\"\\n\")\n",
    "            # Skip empty lines\n",
    "            if not line.strip():\n",
    "                continue\n",
    "\n",
    "            # Expect format: <expression>=<two_digits>$\n",
    "            if \"=\" in line and line.endswith(\"$\"):\n",
    "                left, right = line.split(\"=\", 1)\n",
    "                # right is like \"42$\" or \"02$\"\n",
    "                digits = right[:-1]  # drop the trailing '$'\n",
    "                # Reverse the digit string (e.g., \"42\" -> \"24\", \"02\" -> \"20\")\n",
    "                reversed_digits = digits[::-1]\n",
    "                new_line = f\"{left}={reversed_digits}$\"\n",
    "            else:\n",
    "                # If line doesn't match expected pattern, leave it unchanged\n",
    "                new_line = line\n",
    "\n",
    "            outfile.write(new_line + \"\\n\")\n",
    "\n",
    "    print(f\"Processed '{input_path}' and wrote results to '{output_path}'.\")\n",
    "\n",
    "\n",
    "if __name__ == \"__main__\":\n",
    "    for input_file, output_file in zip(INPUT_FILENAMES, OUTPUT_FILENAMES):\n",
    "        reverse_results(input_file, output_file)"
   ]
  },
  {
   "cell_type": "markdown",
   "metadata": {},
   "source": [
    "## Generate 4 Operand 0-to-999 w/o Padding"
   ]
  },
  {
   "cell_type": "code",
   "execution_count": 7,
   "metadata": {},
   "outputs": [
    {
     "name": "stdout",
     "output_type": "stream",
     "text": [
      "Wrote 1000000 train, 10000 test, 10000 val examples.\n"
     ]
    }
   ],
   "source": [
    "import random\n",
    "\n",
    "TRAIN_SIZE = 1_000_000\n",
    "TEST_SIZE  = 10_000\n",
    "VAL_SIZE   = 10_000\n",
    "SEED       = 42\n",
    "\n",
    "def decode_idx(idx: int):\n",
    "    \"\"\"Turn an integer 0 <= idx < 1000**4 into four 3‑digit numbers.\"\"\"\n",
    "    d = idx % 1000\n",
    "    idx //= 1000\n",
    "    c = idx % 1000\n",
    "    idx //= 1000\n",
    "    b = idx % 1000\n",
    "    idx //= 1000\n",
    "    a = idx  # now in [0,999]\n",
    "    return a, b, c, d\n",
    "\n",
    "def fmt(a, b, c, d):\n",
    "    return f\"{a}+{b}+{c}+{d}={a+b+c+d}$\"\n",
    "\n",
    "def main():\n",
    "    random.seed(SEED)\n",
    "\n",
    "    total_needed = TRAIN_SIZE + TEST_SIZE + VAL_SIZE\n",
    "    # Sample unique indices in [0, 10**12):\n",
    "    sampled = random.sample(range(1000**4), total_needed)\n",
    "\n",
    "    train_idx = sampled[:TRAIN_SIZE]\n",
    "    test_idx  = sampled[TRAIN_SIZE:TRAIN_SIZE+TEST_SIZE]\n",
    "    val_idx   = sampled[TRAIN_SIZE+TEST_SIZE:]\n",
    "\n",
    "    with open(\"train.txt\", \"w\") as f_train, \\\n",
    "         open(\"test.txt\",  \"w\") as f_test, \\\n",
    "         open(\"val.txt\",   \"w\") as f_val:\n",
    "\n",
    "        for idx in train_idx:\n",
    "            f_train.write(fmt(*decode_idx(idx)) + \"\\n\")\n",
    "\n",
    "        for idx in test_idx:\n",
    "            f_test.write(fmt(*decode_idx(idx)) + \"\\n\")\n",
    "\n",
    "        for idx in val_idx:\n",
    "            f_val.write(fmt(*decode_idx(idx)) + \"\\n\")\n",
    "\n",
    "    print(f\"Wrote {TRAIN_SIZE} train, {TEST_SIZE} test, {VAL_SIZE} val examples.\")\n",
    "\n",
    "if __name__ == \"__main__\":\n",
    "    main()\n"
   ]
  },
  {
   "cell_type": "markdown",
   "metadata": {},
   "source": [
    "Output without leading digit"
   ]
  },
  {
   "cell_type": "code",
   "execution_count": 3,
   "metadata": {},
   "outputs": [
    {
     "name": "stdout",
     "output_type": "stream",
     "text": [
      "Wrote 1000000 train, 10000 test, 10000 val examples.\n"
     ]
    }
   ],
   "source": [
    "import random\n",
    "\n",
    "TRAIN_SIZE = 1_000_000\n",
    "TEST_SIZE  = 10_000\n",
    "VAL_SIZE   = 10_000\n",
    "SEED       = 42\n",
    "\n",
    "def decode_idx(idx: int):\n",
    "    \"\"\"Turn an integer 0 <= idx < 1000**4 into four 3‑digit numbers.\"\"\"\n",
    "    d = idx % 1000\n",
    "    idx //= 1000\n",
    "    c = idx % 1000\n",
    "    idx //= 1000\n",
    "    b = idx % 1000\n",
    "    idx //= 1000\n",
    "    a = idx  # now in [0,999]\n",
    "    return a, b, c, d\n",
    "\n",
    "def fmt(a, b, c, d):\n",
    "    # 1) pad inputs to 3 digits\n",
    "    a_s = f\"{a:03d}\"\n",
    "    b_s = f\"{b:03d}\"\n",
    "    c_s = f\"{c:03d}\"\n",
    "    d_s = f\"{d:03d}\"\n",
    "\n",
    "    # 2) compute sum and pad to 4 digits\n",
    "    total = a + b + c + d\n",
    "    total_s = f\"{total:04d}\"\n",
    "\n",
    "    # 3) drop leading digit to get a 3‑digit output\n",
    "    trimmed = total_s[1:]\n",
    "\n",
    "    return f\"{a_s}+{b_s}+{c_s}+{d_s}={trimmed}$\"\n",
    "\n",
    "def main():\n",
    "    random.seed(SEED)\n",
    "\n",
    "    total_needed = TRAIN_SIZE + TEST_SIZE + VAL_SIZE\n",
    "    sampled = random.sample(range(1000**4), total_needed)\n",
    "\n",
    "    train_idx = sampled[:TRAIN_SIZE]\n",
    "    test_idx  = sampled[TRAIN_SIZE:TRAIN_SIZE+TEST_SIZE]\n",
    "    val_idx   = sampled[TRAIN_SIZE+TEST_SIZE:]\n",
    "\n",
    "    for filename, indices in [(\"train.txt\", train_idx),\n",
    "                              (\"test.txt\",  test_idx),\n",
    "                              (\"val.txt\",   val_idx)]:\n",
    "        with open(filename, \"w\") as f:\n",
    "            for idx in indices:\n",
    "                f.write(fmt(*decode_idx(idx)) + \"\\n\")\n",
    "\n",
    "    print(f\"Wrote {TRAIN_SIZE} train, {TEST_SIZE} test, {VAL_SIZE} val examples.\")\n",
    "\n",
    "if __name__ == \"__main__\":\n",
    "    main()\n"
   ]
  },
  {
   "cell_type": "markdown",
   "metadata": {},
   "source": [
    "## Generate Data for Statistical Measurement (4 Operand) -- Input Drawn Uniformly from 100 to 999, Reject Output < 1000"
   ]
  },
  {
   "cell_type": "code",
   "execution_count": 1,
   "metadata": {},
   "outputs": [
    {
     "name": "stdout",
     "output_type": "stream",
     "text": [
      "Wrote 3000 examples to '4_operand_addition_stats_measurement_data_plain.txt'\n"
     ]
    }
   ],
   "source": [
    "import random\n",
    "\n",
    "def generate_examples(num_examples, low=100, high=999, min_sum=1000):\n",
    "    examples = []\n",
    "    while len(examples) < num_examples:\n",
    "        a = random.randint(low, high)\n",
    "        b = random.randint(low, high)\n",
    "        c = random.randint(low, high)\n",
    "        d = random.randint(low, high)\n",
    "        total = a + b + c + d\n",
    "        if total >= min_sum:\n",
    "            examples.append(f\"{a}+{b}+{c}+{d}={total}$\")\n",
    "    return examples\n",
    "\n",
    "def main():\n",
    "    num_examples = 3000\n",
    "    output_file = \"4_operand_addition_stats_measurement_data_plain.txt\"\n",
    "    examples = generate_examples(num_examples)\n",
    "    with open(output_file, \"w\", encoding=\"utf-8\") as f:\n",
    "        for line in examples:\n",
    "            f.write(line + \"\\n\")\n",
    "    print(f\"Wrote {num_examples} examples to '{output_file}'\")\n",
    "\n",
    "if __name__ == \"__main__\":\n",
    "    main()\n"
   ]
  },
  {
   "cell_type": "markdown",
   "metadata": {},
   "source": [
    "4 Operands Input Uniformly Drawn from 0 to 999\n",
    "\n",
    "Output w/o leading digit, Pad 0 to Both Input and Output"
   ]
  },
  {
   "cell_type": "code",
   "execution_count": 6,
   "metadata": {},
   "outputs": [
    {
     "name": "stdout",
     "output_type": "stream",
     "text": [
      "Wrote 3000 examples to '4_operand_addition_stats_measurement_data_plain.txt'\n"
     ]
    }
   ],
   "source": [
    "import random\n",
    "\n",
    "def generate_examples(num_examples, low=0, high=999, min_sum=0):\n",
    "    examples = []\n",
    "    while len(examples) < num_examples:\n",
    "        a = random.randint(low, high)\n",
    "        b = random.randint(low, high)\n",
    "        c = random.randint(low, high)\n",
    "        d = random.randint(low, high)\n",
    "        total = a + b + c + d\n",
    "        if total >= min_sum:\n",
    "            # pad each input to 3 digits\n",
    "            a_s = f\"{a:03d}\"\n",
    "            b_s = f\"{b:03d}\"\n",
    "            c_s = f\"{c:03d}\"\n",
    "            d_s = f\"{d:03d}\"\n",
    "\n",
    "            # pad sum to 4 digits then take the last 3\n",
    "            total_s_full = f\"{total:04d}\"\n",
    "            total_s = total_s_full[-3:]\n",
    "\n",
    "            examples.append(f\"{a_s}+{b_s}+{c_s}+{d_s}={total_s}$\")\n",
    "    return examples\n",
    "\n",
    "def main():\n",
    "    random.seed(42)\n",
    "    num_examples = 3000\n",
    "    output_file = \"4_operand_addition_stats_measurement_data_plain.txt\"\n",
    "    examples = generate_examples(num_examples)\n",
    "\n",
    "    with open(output_file, \"w\", encoding=\"utf-8\") as f:\n",
    "        for line in examples:\n",
    "            f.write(line + \"\\n\")\n",
    "\n",
    "    print(f\"Wrote {num_examples} examples to '{output_file}'\")\n",
    "\n",
    "if __name__ == \"__main__\":\n",
    "    main()\n"
   ]
  },
  {
   "cell_type": "code",
   "execution_count": 7,
   "metadata": {},
   "outputs": [
    {
     "name": "stdout",
     "output_type": "stream",
     "text": [
      "Processed './4_operand_addition_stats_measurement_data_plain.txt' and wrote results to './4_operand_addition_stats_measurement_data_reversed.txt'.\n"
     ]
    }
   ],
   "source": [
    "import os\n",
    "\n",
    "INPUT_FILENAMES = [\n",
    "    './4_operand_addition_stats_measurement_data_plain.txt'\n",
    "]\n",
    "\n",
    "OUTPUT_FILENAMES = [\n",
    "    './4_operand_addition_stats_measurement_data_reversed.txt'\n",
    "]\n",
    "\n",
    "def reverse_results(input_path: str, output_path: str) -> None:\n",
    "    \"\"\"\n",
    "    Read each line from `input_path`, reverse the two‐digit result before the '$',\n",
    "    and write the modified line to `output_path`.\n",
    "    \"\"\"\n",
    "    if not os.path.isfile(input_path):\n",
    "        print(f\"Error: '{input_path}' does not exist.\")\n",
    "        return\n",
    "\n",
    "    with open(input_path, \"r\") as infile, open(output_path, \"w\") as outfile:\n",
    "        for raw_line in infile:\n",
    "            line = raw_line.rstrip(\"\\n\")\n",
    "            # Skip empty lines\n",
    "            if not line.strip():\n",
    "                continue\n",
    "\n",
    "            # Expect format: <expression>=<two_digits>$\n",
    "            if \"=\" in line and line.endswith(\"$\"):\n",
    "                left, right = line.split(\"=\", 1)\n",
    "                # right is like \"42$\" or \"02$\"\n",
    "                digits = right[:-1]  # drop the trailing '$'\n",
    "                # Reverse the digit string (e.g., \"42\" -> \"24\", \"02\" -> \"20\")\n",
    "                reversed_digits = digits[::-1]\n",
    "                new_line = f\"{left}={reversed_digits}$\"\n",
    "            else:\n",
    "                # If line doesn't match expected pattern, leave it unchanged\n",
    "                new_line = line\n",
    "\n",
    "            outfile.write(new_line + \"\\n\")\n",
    "\n",
    "    print(f\"Processed '{input_path}' and wrote results to '{output_path}'.\")\n",
    "\n",
    "\n",
    "if __name__ == \"__main__\":\n",
    "    for input_file, output_file in zip(INPUT_FILENAMES, OUTPUT_FILENAMES):\n",
    "        reverse_results(input_file, output_file)"
   ]
  },
  {
   "cell_type": "markdown",
   "metadata": {},
   "source": [
    "## Generate Output Most Significant Digit Randomized 4 Operands 0-999 Data"
   ]
  },
  {
   "cell_type": "code",
   "execution_count": 12,
   "metadata": {},
   "outputs": [
    {
     "name": "stdout",
     "output_type": "stream",
     "text": [
      "Wrote 1000000 lines to ./train_reverse_output_highest_digit_rand.txt\n"
     ]
    }
   ],
   "source": [
    "import torch\n",
    "import copy\n",
    "from typing import List, Dict\n",
    "import re\n",
    "\n",
    "digits_per_num = 3  # Number of digits in each number\n",
    "base_data_file = \"./train_reverse.txt\"\n",
    "output_path = \"./train_reverse_output_highest_digit_rand.txt\"\n",
    "\n",
    "def create_meta_for_addition(data):\n",
    "    \"\"\"Create metadata for addition data.\"\"\"\n",
    "    # Define the vocabulary for addition problems\n",
    "    # This includes digits, operators, equals sign, and newline\n",
    "    chars = sorted(list(set(data)))\n",
    "    vocab_size = len(chars)\n",
    "    # Create encoder and decoder dictionaries\n",
    "    stoi = {ch: i for i, ch in enumerate(chars)}\n",
    "    itos = {i: ch for i, ch in enumerate(chars)}\n",
    "    \n",
    "    meta = {\n",
    "        'vocab_size': vocab_size,\n",
    "        'vocab': chars,\n",
    "        'stoi': stoi,\n",
    "        'itos': itos\n",
    "    }\n",
    "    return meta\n",
    "\n",
    "train_data_path = \"./train_reverse.txt\"\n",
    "\n",
    "with open(train_data_path, 'r') as f:\n",
    "    train_data = f.read()\n",
    "\n",
    "meta = create_meta_for_addition(train_data)\n",
    "\n",
    "def encode_addition(text, meta=meta):\n",
    "    \"\"\"Encode text to tensor using the metadata.\"\"\"\n",
    "    return torch.tensor([meta['stoi'][c] for c in text], dtype=torch.long)\n",
    "\n",
    "def decode_addition(tensor, meta=meta):\n",
    "    \"\"\"Decode tensor to text using the metadata.\"\"\"\n",
    "    if isinstance(tensor, torch.Tensor):\n",
    "        return ''.join([meta['itos'][i.item()] for i in tensor])\n",
    "    else:\n",
    "        return ''.join([meta['itos'][i] for i in tensor])\n",
    "\n",
    "\n",
    "\n",
    "with open(base_data_file, \"r\", encoding=\"utf-8\") as f:\n",
    "    lines = [line.rstrip() for line in f]\n",
    "\n",
    "# a simple way to parse test strings\n",
    "padded_lines = [] # add 0 padding, remove $; an example padded_lines[6] is '932+084+230+349=5951'\n",
    "for i in range(len(lines)):\n",
    "    numbers = re.split(r'[+=]', lines[i])\n",
    "    numbers[-1] = numbers[-1][:-1]\n",
    "    for k, number in enumerate(numbers[:-1]):\n",
    "        numbers[k] = '0' * (3-len(number)) + number\n",
    "    numbers[-1] = numbers[-1] + '0' * (4-len(numbers[-1]))\n",
    "    padded_lines.append(\"+\".join(numbers[:-1]) + \"=\" + numbers[-1])\n",
    "\n",
    "base_data = torch.cat([encode_addition(padded_lines[i]).unsqueeze(0) for i in range(len(padded_lines))], dim=0)\n",
    "\n",
    "\n",
    "\n",
    "def token_to_numeric(tensor, meta):\n",
    "    \"\"\"Convert tensor to numeric digits.\"\"\"\n",
    "    # Build lookup tensor\n",
    "    lookup_tensor = torch.empty(len(meta[\"vocab\"]), dtype=torch.long)\n",
    "    for i, s in enumerate(meta[\"vocab\"]):\n",
    "        if s.isdigit():\n",
    "            lookup_tensor[i] = int(s)\n",
    "    return lookup_tensor[tensor]  # Same shape as tensor\n",
    "\n",
    "\n",
    "def randomize_test_data(data: torch.Tensor, metadata, digits_per_num=3, randomize_digit_place=[0,1], seed=2025,\n",
    "                        randomize=\"input\", valid_carry=False, reverse_input=False, reverse_output=False) -> torch.Tensor:\n",
    "    \"\"\"\n",
    "    randomize_test_data randomizes a part of the test data by keeping some digits and randomizing the other digits\n",
    "    Arguments:\n",
    "        data is a 2-order tensor of shape (sample_size, seq_len), representing tokenized inputs (padded right to the same length) such as\n",
    "        '437+357+579+984=7532' and '932+084+230+349=5951' (reverse output)\n",
    "        digits_per_num is the number of digits in a number\n",
    "        randomize_digit_place is a list indicating which digits are to be randomized. [0, 1] means the least two digits are to be randomized\n",
    "        randomize: if \"input\" then the input numbers are randomized, if \"output\" then the output number is randomized\n",
    "        valid_carry is a boolean indicating whether randomization keeps carry valid (carry operation before randomization remains so)\n",
    "    \"\"\"\n",
    "    assert isinstance(randomize_digit_place, list)\n",
    "    L = len(randomize_digit_place)\n",
    "    n, T = data.shape\n",
    "    S = digits_per_num + 1\n",
    "    assert (T - S) % S == 0, \"data format not conform to expectation, e.g., '437+357+579+984=7532'. \"\n",
    "    assert randomize in [\"input\", \"output\"], \"randomize is either `input` or `output`.\"\n",
    "    num_op = (T - S) // S\n",
    "    torch.manual_seed(seed)\n",
    "\n",
    "    ids0 = [digits_per_num-1-id for id in randomize_digit_place] if not reverse_input else randomize_digit_place\n",
    "    ids1 = [digits_per_num-id for id in randomize_digit_place] if not reverse_output else randomize_digit_place\n",
    "    ids_rand_input = torch.cat([torch.arange(num_op).long() * S + j for j in ids0])\n",
    "    ids_rand_output = torch.tensor(ids1).long() + S*num_op\n",
    "    new_data = copy.deepcopy(data)\n",
    "    ids2 = []\n",
    "    if randomize == \"output\":\n",
    "        for col_id in ids_rand_output:\n",
    "            new_data[:,col_id] = data[torch.randperm(n),col_id]\n",
    "        return new_data\n",
    "    if valid_carry: # if control for valid carry\n",
    "        if 0 in randomize_digit_place: # if least significant digit is randomized\n",
    "            J = max(randomize_digit_place) if reverse_input else digits_per_num-1-max(randomize_digit_place) #\n",
    "            ids2 = torch.arange(num_op).long() * S + J\n",
    "            all_carry = token_to_numeric(data[:,ids2], meta=metadata).sum(dim=1) // 10\n",
    "            unique_carry = torch.unique(all_carry)\n",
    "            for carry in unique_carry:\n",
    "                ids_rand = (all_carry == carry)\n",
    "                n_rand = ids_rand.sum().item()\n",
    "                subset_ids = ids_rand.nonzero(as_tuple=True)[0]\n",
    "                subset_data = new_data[ids_rand, :][:, ids2]\n",
    "                subset_data = subset_data[torch.randperm(n_rand), :]\n",
    "                ii, jj = torch.meshgrid(subset_ids, ids2, indexing='ij')\n",
    "                new_data[ii, jj] = subset_data\n",
    "        # randomize other digits independently\n",
    "        for col_id in ids_rand_input:\n",
    "            if col_id not in ids2:\n",
    "                new_data[:,col_id] = data[torch.randperm(n),col_id]\n",
    "    else: # if disregard carry\n",
    "        for col_id in ids_rand_input:\n",
    "            new_data[:,col_id] = data[torch.randperm(n),col_id]\n",
    "    return new_data\n",
    "\n",
    "randomized_data = randomize_test_data(\n",
    "    data = base_data,\n",
    "    metadata = meta,\n",
    "    digits_per_num = digits_per_num,\n",
    "    randomize_digit_place = [digits_per_num],\n",
    "    seed = 2005,\n",
    "    randomize = \"output\",\n",
    "    valid_carry = False,\n",
    "    reverse_input = False,\n",
    "    reverse_output = True\n",
    ")\n",
    "\n",
    "def restore_original_format(decoded_line: str) -> str:\n",
    "    \"\"\"\n",
    "    Given something like '098+007+120=2250',\n",
    "    return '98+7+120=2250'.\n",
    "    \"\"\"\n",
    "    # strip off the ending '$' if you want to keep it separate\n",
    "    decoded_line = decoded_line.rstrip('$')\n",
    "    lhs, rhs = decoded_line.split('=')\n",
    "    nums = lhs.split('+')\n",
    "    # int(…) will drop ALL leading zeros, but '000' → '0'\n",
    "    nums = [str(int(n)) for n in nums]\n",
    "    rhs = str(int(rhs))\n",
    "    return '+'.join(nums) + '=' + rhs\n",
    "\n",
    "with open(output_path, \"w\", encoding=\"utf-8\") as out:\n",
    "    for i in range(randomized_data.size(0)):\n",
    "        decoded = decode_addition(randomized_data[i], meta)\n",
    "        restored = restore_original_format(decoded)\n",
    "        out.write(restored + \"$\\n\")\n",
    "\n",
    "print(f\"Wrote {randomized_data.size(0)} lines to {output_path}\")"
   ]
  },
  {
   "cell_type": "markdown",
   "metadata": {
    "id": "bnEi0N5o7znT"
   },
   "source": [
    "# Above is my code"
   ]
  },
  {
   "cell_type": "code",
   "execution_count": null,
   "metadata": {
    "id": "rU29aiKxgfN-"
   },
   "outputs": [],
   "source": [
    "import random\n",
    "from pathlib import Path\n",
    "import os"
   ]
  },
  {
   "cell_type": "code",
   "execution_count": null,
   "metadata": {
    "colab": {
     "base_uri": "https://localhost:8080/"
    },
    "id": "Jet_qF0ygCo0",
    "outputId": "1e3b4520-4c65-4139-bff5-d635c19244e2"
   },
   "outputs": [
    {
     "name": "stdout",
     "output_type": "stream",
     "text": [
      "Drive already mounted at /content/drive; to attempt to forcibly remount, call drive.mount(\"/content/drive\", force_remount=True).\n"
     ]
    }
   ],
   "source": [
    "from google.colab import drive\n",
    "drive.mount('/content/drive')"
   ]
  },
  {
   "cell_type": "code",
   "execution_count": null,
   "metadata": {
    "id": "8B0WBb51YIIx"
   },
   "outputs": [],
   "source": [
    "def generate_train_test_data(input_file,out_file, num_samples = 100):\n",
    "  with open(input_file, 'r') as f:\n",
    "    lines = f.readlines()\n",
    "  train_lines = lines[:num_samples]\n",
    "  final_lines = []\n",
    "  for line in train_lines:\n",
    "      line = line.split('=')[0]\n",
    "      line = line + '=\\n'\n",
    "      final_lines.append(line)\n",
    "  with open(out_file, 'w+') as f:\n",
    "    f.writelines(final_lines)\n"
   ]
  },
  {
   "cell_type": "code",
   "execution_count": null,
   "metadata": {
    "id": "F9Wuh4y01esZ"
   },
   "outputs": [],
   "source": [
    "generate_train_test_data('/content/drive/MyDrive/addition/addition_5_operands/5_addition_train_10000_2.txt', '/content/drive/MyDrive/addition/addition_5_operands/5_addition_train_test_100_2.txt')"
   ]
  },
  {
   "cell_type": "code",
   "execution_count": null,
   "metadata": {
    "id": "je6dArXuf5V6"
   },
   "outputs": [],
   "source": [
    "\n",
    "def generate_3_digit_samples(num_samples=5000):\n",
    "    \"\"\"\n",
    "    Generate 3-digit samples\n",
    "    \"\"\"\n",
    "    samples = []\n",
    "    strata = [\n",
    "            (100, 399), # Lower range\n",
    "            (400, 699), # Middle range\n",
    "            (700, 999)  # Upper range (including numbers close to 999)\n",
    "        ]\n",
    "\n",
    "        # Allocate equal number of samples to each stratum combination\n",
    "    samples_per_combo = num_samples // 3  # 9 combinations of strata\n",
    "    for a_stratum in strata:\n",
    "        for _ in range(samples_per_combo):\n",
    "            a = random.randint(a_stratum[0], a_stratum[1])\n",
    "            samples.append(a)\n",
    "    # Add remaining samples randomly to reach exact num_samples\n",
    "    remaining = num_samples - len(samples)\n",
    "    for _ in range(remaining):\n",
    "        a = random.randint(100, 999)\n",
    "        samples.append(a)\n",
    "    random.shuffle(samples)\n",
    "    return samples\n",
    "\n",
    "def generate_3_digit_addition_multiple(\n",
    "        num_samples: int = 5_000,\n",
    "        output_file_path: str = '/content/drive/MyDrive/addition/add_examples.txt',\n",
    "        pad: bool = True,\n",
    "        reverse: bool = False,\n",
    "        num_addition: int = 4,\n",
    "        num_addition_sample: int = 4,\n",
    "        test_case: bool = False,\n",
    "    ):\n",
    "    \"\"\"\n",
    "    Build lines like 000+123+543+985=1651\\n and write them to *output_file_path*.\n",
    "\n",
    "    * num_addition ........... how many addends each line must contain\n",
    "    * num_addition_sample .... how many real samples to draw for each line\n",
    "                               (≤ num_addition; if smaller, front‑pad with 000)\n",
    "    * reverse ................ if True, write each addend (and the sum) with\n",
    "                               its digits reversed – handy for the rev‑addition\n",
    "                               curriculum you used earlier.\n",
    "    * pad .................... if True, force every addend to 3 digits\n",
    "\n",
    "                           (sum is left un‑padded ‑– matches your example)\n",
    "    \"\"\"\n",
    "    if test_case == False:\n",
    "      file_name = f'train_reverse_{reverse}_additionOperations_{num_addition}_numOfChars_{num_addition_sample}_numOfSamples_{num_samples}.txt'\n",
    "    else:\n",
    "      file_name = f'test_reverse_{reverse}_additionOperations_{num_addition}_numOfChars_{num_addition_sample}_numOfSamples_{num_samples}.txt'\n",
    "    output_file_path = os.path.join(output_file_path, file_name)\n",
    "    path = Path(output_file_path)\n",
    "    path.parent.mkdir(parents=True, exist_ok=True)\n",
    "    if num_addition_sample > num_addition:\n",
    "        raise ValueError(\"num_addition_sample must be ≤ num_addition\")\n",
    "\n",
    "    # 1.  Collect independent sample streams, one per ‘real’ addend.\n",
    "    samples_list = [generate_3_digit_samples(num_samples)            # your helper\n",
    "                    for _ in range(num_addition_sample)]\n",
    "\n",
    "    zeros_to_prepend = num_addition - num_addition_sample\n",
    "    lines: list[str] = []\n",
    "\n",
    "    for i in range(num_samples):\n",
    "        addends_int: list[int] = [0] * zeros_to_prepend \\\n",
    "                               + [samples_list[k][i] for k in range(num_addition_sample)]\n",
    "\n",
    "        line_sum = sum(addends_int)\n",
    "\n",
    "        # 2.  Convert to strings (with optional 0‑padding)\n",
    "        if pad:\n",
    "            addends_str = [f\"{a:03}\" for a in addends_int]\n",
    "        else:\n",
    "            addends_str = [str(a) for a in addends_int]\n",
    "\n",
    "        if reverse:\n",
    "            line_sum = str(line_sum)[::-1]\n",
    "        if test_case:\n",
    "            expr = \"+\".join(addends_str) + f\"=\\n\"\n",
    "        else:\n",
    "            expr = \"+\".join(addends_str) + f\"={line_sum}\\n\"\n",
    "        lines.append(expr)\n",
    "\n",
    "    with open(output_file_path, \"w\") as f:\n",
    "        f.writelines(lines)\n",
    "\n",
    "    return lines"
   ]
  },
  {
   "cell_type": "code",
   "execution_count": null,
   "metadata": {
    "id": "p0SqrPlogCBR"
   },
   "outputs": [],
   "source": [
    "lines: list[str] = generate_3_digit_addition_multiple(num_samples=500000,output_file_path='/content/drive/MyDrive/addition/data/',pad=True,reverse=True,num_addition=4,num_addition_sample=4,test_case=False)"
   ]
  },
  {
   "cell_type": "code",
   "execution_count": null,
   "metadata": {
    "id": "C-ZIdKnUhUeo"
   },
   "outputs": [],
   "source": [
    "lines"
   ]
  },
  {
   "cell_type": "code",
   "execution_count": null,
   "metadata": {
    "colab": {
     "base_uri": "https://localhost:8080/"
    },
    "id": "P49O6nbg4cdQ",
    "outputId": "940373e9-12d5-4494-ebcc-b34541ed080d"
   },
   "outputs": [
    {
     "name": "stdout",
     "output_type": "stream",
     "text": [
      "Train size: 2000 (written to train.txt)\n",
      "Test size: 400 (written to test.txt)\n"
     ]
    }
   ],
   "source": [
    "import random\n",
    "import itertools\n",
    "from pathlib import Path\n",
    "\n",
    "def generate_all_problems(num_operands):\n",
    "    \"\"\"\n",
    "    Generate all unique addition problems with (num_operands + 1) operands\n",
    "    where the result is a two-digit number.\n",
    "    \"\"\"\n",
    "    combos = itertools.product(range(1, 10), repeat=num_operands + 1)\n",
    "    return [\n",
    "        f\"{'+'.join(map(str, combo))}={sum(combo)}\"\n",
    "        for combo in combos\n",
    "        if 10 <= sum(combo) <= 99\n",
    "    ]\n",
    "\n",
    "def split_dataset(num_operands, train_frac=0.8, seed=42):\n",
    "    \"\"\"\n",
    "    Generate, shuffle, and split the dataset into train and test sets.\n",
    "\n",
    "    Args:\n",
    "        num_operands (int): Number of operands minus one (so total numbers = num_operands + 1).\n",
    "        train_frac (float): Fraction of data to use for training.\n",
    "        seed (int): Random seed for reproducibility.\n",
    "\n",
    "    Writes:\n",
    "        train.txt, test.txt in the current directory.\n",
    "    \"\"\"\n",
    "    problems = generate_all_problems(num_operands)\n",
    "    random.Random(seed).shuffle(problems)\n",
    "\n",
    "    split_idx = int(2000)\n",
    "    train = problems[:split_idx]\n",
    "    val = problems[split_idx:split_idx+401]\n",
    "    test = problems[split_idx+401:split_idx+801]\n",
    "\n",
    "    # Ensure no overlap\n",
    "    assert set(train).isdisjoint(test), \"Train/Test overlap detected!\"\n",
    "\n",
    "    # Write to files\n",
    "    Path(\"train.txt\").write_text(\"\\n\".join(train) + \"\\n\")\n",
    "    Path(\"test.txt\").write_text(\"\\n\".join(test) + \"\\n\")\n",
    "    Path(\"val.txt\").write_text(\"\\n\".join(val) + \"\\n\")\n",
    "\n",
    "    print(f\"Train size: {len(train)} (written to train.txt)\")\n",
    "    print(f\"Test size: {len(test)} (written to test.txt)\")\n",
    "\n",
    "# Example usage for 3 operands (4 numbers):\n",
    "split_dataset(num_operands=3, train_frac=0.8, seed=42)\n"
   ]
  },
  {
   "cell_type": "code",
   "execution_count": null,
   "metadata": {
    "id": "IEvLhuaFQQ1Y"
   },
   "outputs": [],
   "source": [
    "def generate_addition_problem(num_operands):\n",
    "    \"\"\"Generate an addition problem with specified number of operands where result is 2 digits.\"\"\"\n",
    "    while True:\n",
    "        # Generate n+1 numbers (n operands plus one more to ensure we can get a 2-digit result)\n",
    "        numbers = [random.randint(1, 9) for _ in range(num_operands + 1)]\n",
    "        result = sum(numbers)\n",
    "        if 10 <= result <= 99:  # Ensure 2-digit result\n",
    "            # Format the numbers with + between them\n",
    "            problem = \"+\".join(map(str, numbers))\n",
    "            return f\"{problem}={result}\\n\""
   ]
  },
  {
   "cell_type": "code",
   "execution_count": null,
   "metadata": {
    "id": "3CefaDk5QSBs"
   },
   "outputs": [],
   "source": [
    "def generate_data(num_operands, num_samples, output_path):\n",
    "    \"\"\"Generate addition data and write to file.\"\"\"\n",
    "    output_path = Path(output_path)\n",
    "    output_path.parent.mkdir(parents=True, exist_ok=True)\n",
    "\n",
    "    with open(output_path, 'w') as f:\n",
    "        for _ in range(num_samples):\n",
    "            line = generate_addition_problem(num_operands)\n",
    "            f.write(line)"
   ]
  },
  {
   "cell_type": "code",
   "execution_count": null,
   "metadata": {
    "id": "IguICoY6QUQH"
   },
   "outputs": [],
   "source": [
    "def reverse_results(input_path, output_path):\n",
    "    \"\"\"Read the input file, reverse the results, and write to output file.\"\"\"\n",
    "    input_path = Path(input_path)\n",
    "    output_path = Path(output_path)\n",
    "    output_path.parent.mkdir(parents=True, exist_ok=True)\n",
    "\n",
    "    with open(input_path, 'r') as f_in, open(output_path, 'w') as f_out:\n",
    "        for line in f_in:\n",
    "            # Split the line into problem and result\n",
    "            problem, result = line.strip().split('=')\n",
    "            # Reverse the result\n",
    "            reversed_result = result[::-1]\n",
    "            # Write the new line with reversed result\n",
    "            f_out.write(f\"{problem}={reversed_result}\\n\")"
   ]
  },
  {
   "cell_type": "code",
   "execution_count": null,
   "metadata": {
    "id": "cFj9wGmniDfj"
   },
   "outputs": [],
   "source": [
    "reverse_results('/content/val.txt', '/content/drive/MyDrive/addition/addition_4_operands_1_digit/reverse_val.txt')"
   ]
  },
  {
   "cell_type": "code",
   "execution_count": null,
   "metadata": {
    "id": "3bALxlEmQXPD"
   },
   "outputs": [],
   "source": [
    "generate_data(6, 200, '/content/drive/MyDrive/addition/addition_7_operands/7_addition_val_200.txt')"
   ]
  },
  {
   "cell_type": "code",
   "execution_count": null,
   "metadata": {
    "id": "1-5exXMYSC8s"
   },
   "outputs": [],
   "source": [
    "generate_train_test_data('/content/test.txt', '/content/drive/MyDrive/addition/addition_4_operands_1_digit/reverse_test.txt', num_samples=400)"
   ]
  },
  {
   "cell_type": "code",
   "execution_count": null,
   "metadata": {
    "id": "bC-ShscnW5KS"
   },
   "outputs": [],
   "source": [
    "from pathlib import Path\n",
    "\n",
    "def add_padding_at_the_end(input_file, output_file):\n",
    "    output_path = Path(output_file)\n",
    "    output_path.parent.mkdir(parents=True, exist_ok=True)\n",
    "\n",
    "    with open(input_file, 'r') as f:\n",
    "        lines = f.readlines()\n",
    "\n",
    "    with open(output_file, 'w') as f:\n",
    "        for line in lines:\n",
    "            f.write(line.strip() + '$' + '\\n')"
   ]
  },
  {
   "cell_type": "code",
   "execution_count": null,
   "metadata": {
    "id": "Ww-blsBYyIk6"
   },
   "outputs": [],
   "source": [
    "add_padding_at_the_end('/content/drive/MyDrive/addition/addition_4_operands_1_digit/reverse_val.txt','/content/drive/MyDrive/addition/addition_4_operands_1_digit/reverse_val.txt')"
   ]
  },
  {
   "cell_type": "code",
   "execution_count": null,
   "metadata": {
    "id": "m9NZSETPv-v2"
   },
   "outputs": [],
   "source": [
    "def generate_addition_perturbations_test(pos, num_operands):\n",
    "    \"\"\"Generate an addition problem with specified number of operands where result is 2 digits.\"\"\"\n",
    "    while True:\n",
    "        # Generate n+1 numbers (n operands plus one more to ensure we can get a 2-digit result)\n",
    "        numbers = [random.randint(1, 9) for _ in range(num_operands+1)]\n",
    "        lines = []\n",
    "        for i in range(1,10):\n",
    "          numbers[pos] = i\n",
    "          result = sum(numbers)\n",
    "          if 10 <= result <= 99:  # Ensure 2-digit result\n",
    "            problem = \"+\".join(map(str, numbers))\n",
    "            lines.append(f\"{problem}=\\n\")\n",
    "        return lines"
   ]
  },
  {
   "cell_type": "code",
   "execution_count": null,
   "metadata": {
    "id": "NzDAQzjwYFyb"
   },
   "outputs": [],
   "source": [
    "def generate_perturbations_test_data(pos, num_operands, num_samples, output_path):\n",
    "    \"\"\"Generate addition data and write to file.\"\"\"\n",
    "    output_path = Path(output_path)\n",
    "    output_path.parent.mkdir(parents=True, exist_ok=True)\n",
    "\n",
    "    with open(output_path, 'w') as f:\n",
    "        count = 0\n",
    "        while True:\n",
    "            lines = generate_addition_perturbations_test(pos, num_operands)  # assumed to return a list of strings\n",
    "            for line in lines:\n",
    "                f.write(line)\n",
    "            count += len(lines)\n",
    "            if count >= num_samples:\n",
    "                break"
   ]
  },
  {
   "cell_type": "code",
   "execution_count": null,
   "metadata": {
    "id": "FFSZfEXH1izH"
   },
   "outputs": [],
   "source": [
    "generate_perturbations_test_data(4, 4, 100, '/content/drive/MyDrive/addition/addition_5_operands/pos_4_perturbations_test.txt')"
   ]
  },
  {
   "cell_type": "code",
   "execution_count": null,
   "metadata": {
    "id": "YYpdA63wzrgk"
   },
   "outputs": [],
   "source": [
    "def generate_test_data(input_file,out_file, num_samples = 100):\n",
    "  with open(input_file, 'r') as f:\n",
    "    lines = f.readlines()\n",
    "  final_lines = []\n",
    "  for line in lines:\n",
    "      line = line.split('=')[0]\n",
    "      line = line + '=\\n'\n",
    "      final_lines.append(line)\n",
    "  with open(out_file, 'w+') as f:\n",
    "    f.writelines(final_lines)"
   ]
  },
  {
   "cell_type": "code",
   "execution_count": null,
   "metadata": {
    "id": "iaUUTiKJ7wzQ"
   },
   "outputs": [],
   "source": [
    "def generate_addition_rotated_test(num_operands):\n",
    "    \"\"\"Generate an addition problem with specified number of operands where result is 2 digits.\"\"\"\n",
    "    while True:\n",
    "        # Generate n+1 numbers (n operands plus one more to ensure we can get a 2-digit result)\n",
    "        numbers = [random.randint(1, 9) for _ in range(num_operands+1)]\n",
    "        lines = []\n",
    "        for i in range(1,10):\n",
    "          result = sum(numbers)\n",
    "          if 10 <= result <= 99:  # Ensure 2-digit result\n",
    "            problem = \"+\".join(map(str, numbers))\n",
    "            lines.append(f\"{problem}=\\n\")\n",
    "        return lines"
   ]
  },
  {
   "cell_type": "code",
   "execution_count": null,
   "metadata": {
    "id": "kgv_2lI38Ixg"
   },
   "outputs": [],
   "source": [
    "import random\n",
    "import itertools\n",
    "def select_digits_with_two_digit_sum(num_operands):\n",
    "    \"\"\"Keep sampling until the sum of digits is in [10,99].\"\"\"\n",
    "    while True:\n",
    "        digits = [random.randint(1, 9) for _ in range(num_operands+1)]\n",
    "        if 10 <= sum(digits) <= 99:\n",
    "            return digits\n",
    "\n",
    "def write_perms_from_random_multiset(num_operands, output_path):\n",
    "    \"\"\"\n",
    "    1. Pick a random list of `num_operands` digits (1–9) summing to two digits.\n",
    "    2. Generate all *unique* orderings of that list.\n",
    "    3. Write each as \"a+b+c+...=\" to `output_path`.\n",
    "    \"\"\"\n",
    "    digits = select_digits_with_two_digit_sum(num_operands)\n",
    "    unique_perms = set(itertools.permutations(digits))\n",
    "\n",
    "    output_path = Path(output_path)\n",
    "    output_path.parent.mkdir(parents=True, exist_ok=True)\n",
    "\n",
    "    with open(output_path, 'w') as f:\n",
    "        # Optionally, write a header/comment showing the chosen multiset:\n",
    "        for perm in unique_perms:\n",
    "            f.write(\"+\".join(map(str, perm)) + \"=\\n\")"
   ]
  },
  {
   "cell_type": "code",
   "execution_count": null,
   "metadata": {
    "id": "MNHNVSQg8mX8"
   },
   "outputs": [],
   "source": [
    "write_perms_from_random_multiset(4, '/content/drive/MyDrive/addition/addition_5_operands/permutations.txt')"
   ]
  },
  {
   "cell_type": "code",
   "execution_count": null,
   "metadata": {
    "id": "SxG7rE7BZ-Ah"
   },
   "outputs": [],
   "source": [
    "from pathlib import Path\n",
    "import random\n",
    "\n",
    "# ------------------------------------------------------------\n",
    "# helpers\n",
    "# ------------------------------------------------------------\n",
    "def _format(nums):\n",
    "    \"\"\"Return 'a+b+c=SUM' string (ordered, permutation-sensitive).\"\"\"\n",
    "    return f\"{'+'.join(map(str, nums))}={sum(nums)}\"\n",
    "\n",
    "def _sample_valid_tuple(n_operands_plus_one):\n",
    "    \"\"\"Draw (n_operands+1) numbers in [1,9] whose sum is two-digit.\"\"\"\n",
    "    while True:\n",
    "        nums = [random.randint(1, 9) for _ in range(n_operands_plus_one)]\n",
    "        if 10 <= sum(nums) <= 99:\n",
    "            return nums\n",
    "\n",
    "# ------------------------------------------------------------\n",
    "# main API\n",
    "# ------------------------------------------------------------\n",
    "def build_train_and_test(\n",
    "    num_operands: int,\n",
    "    n_train: int,\n",
    "    train_path: str,\n",
    "    test_path: str,\n",
    "    n_test: int = 100,\n",
    "    seed: int | None = 42,\n",
    "):\n",
    "    \"\"\"\n",
    "    Train/test generator where *ordering matters* (3+4 ≠ 4+3).\n",
    "    - num_operands  : number of '+' signs (i.e. operands  = num_operands+1)\n",
    "    - n_train       : rows in train split\n",
    "    - n_test        : rows in test split (default 100)\n",
    "    \"\"\"\n",
    "    if seed is not None:\n",
    "        random.seed(seed)\n",
    "\n",
    "    train_seen = set()   # exact tuples already in train\n",
    "    test_seen  = set()   # exact tuples already in test\n",
    "\n",
    "    # --- build training set --------------------------------------------------\n",
    "    Path(train_path).parent.mkdir(parents=True, exist_ok=True)\n",
    "    with Path(train_path).open(\"w\") as f_train:\n",
    "        while len(train_seen) < n_train:\n",
    "            nums = _sample_valid_tuple(num_operands + 1)\n",
    "            key  = tuple(nums)           # ORDER-SENSITIVE key\n",
    "            if key in train_seen:\n",
    "                continue\n",
    "            train_seen.add(key)\n",
    "            f_train.write(_format(nums) + \"\\n\")\n",
    "\n",
    "    # --- build test set (no overlap with train) ------------------------------\n",
    "    Path(test_path).parent.mkdir(parents=True, exist_ok=True)\n",
    "    with Path(test_path).open(\"w\") as f_test:\n",
    "        while len(test_seen) < n_test:\n",
    "            nums = _sample_valid_tuple(num_operands + 1)\n",
    "            key  = tuple(nums)\n",
    "            if key in train_seen or key in test_seen:\n",
    "                continue\n",
    "            test_seen.add(key)\n",
    "            f_test.write(_format(nums) + \"\\n\")"
   ]
  },
  {
   "cell_type": "code",
   "execution_count": null,
   "metadata": {
    "id": "s4POkAOxaAB_"
   },
   "outputs": [],
   "source": [
    "build_train_and_test(\n",
    "        num_operands=4,         # → 5 addends per line\n",
    "        n_train=10000,           # 2 000-row training file\n",
    "        train_path=\"/content/drive/MyDrive/addition/addition_5_operands/5_addition_train_10000_2.txt\",\n",
    "        test_path=\"/content/drive/MyDrive/addition/addition_5_operands/5_addition_test_100_2.txt\",  # 100 brand-new ordered problems\n",
    "        n_test=100,\n",
    "    )\n"
   ]
  },
  {
   "cell_type": "code",
   "execution_count": null,
   "metadata": {
    "id": "1rXEzq-PfUkV"
   },
   "outputs": [],
   "source": [
    "import random\n",
    "import numpy as np\n",
    "from pathlib import Path\n",
    "def random_addition_quad():\n",
    "    \"\"\"Return (nums, total) where nums is a list of 4 random 3-digit ints\n",
    "       and total ≥ 1000.\"\"\"\n",
    "    while True:\n",
    "        nums = [random.randint(100, 999) for _ in range(4)]\n",
    "        s = sum(nums)\n",
    "        if s >= 1000:               # enforce four-digit total\n",
    "            return nums, s\n",
    "\n",
    "def line_from(nums, total):\n",
    "    \"\"\"Format: 350+540+750+100=1740\\n\"\"\"\n",
    "    return \"+\".join(map(str, nums)) + f\"={total}\\n\""
   ]
  },
  {
   "cell_type": "code",
   "execution_count": null,
   "metadata": {
    "id": "vpassu5hjD8i"
   },
   "outputs": [],
   "source": [
    "def build_fast(\n",
    "    n_train=800_000, n_test=200_000,\n",
    "    bucket=100, train_path=\"train.txt\", test_path=\"test.txt\",\n",
    "    seed=42, batch_size=200_000\n",
    "):\n",
    "    rng = np.random.default_rng(seed)\n",
    "    edges     = np.arange(1000, 4000+1, bucket)\n",
    "    n_buckets = len(edges) - 1\n",
    "\n",
    "    quota_train = np.full(n_buckets, n_train // n_buckets, dtype=int)\n",
    "    quota_test  = np.full(n_buckets, n_test  // n_buckets, dtype=int)\n",
    "    quota_train[: n_train % n_buckets] += 1\n",
    "    quota_test [: n_test  % n_buckets] += 1\n",
    "\n",
    "    train_lines, test_lines = [], []\n",
    "\n",
    "    while quota_train.sum() or quota_test.sum():\n",
    "        nums  = rng.integers(100, 1000, size=(batch_size, 4), dtype=np.int32)\n",
    "        sums  = nums.sum(axis=1)\n",
    "        keep  = sums >= 1000\n",
    "        nums, sums = nums[keep], sums[keep]\n",
    "\n",
    "        idxs = np.digitize(sums, edges) - 1           # bucket indices\n",
    "\n",
    "        for i in range(len(nums)):\n",
    "            b = idxs[i]\n",
    "            line = f\"{nums[i,0]}+{nums[i,1]}+{nums[i,2]}+{nums[i,3]}={sums[i]}\\n\"\n",
    "            if quota_train[b]:\n",
    "                train_lines.append(line); quota_train[b]-=1\n",
    "            elif quota_test[b]:\n",
    "                test_lines.append(line); quota_test[b]-=1\n",
    "            # else: bucket full → ignore\n",
    "\n",
    "    Path(train_path).write_text(\"\".join(train_lines))\n",
    "    Path(test_path ).write_text(\"\".join(test_lines))\n",
    "\n",
    "    print(f\"✅  Wrote {len(train_lines):,} → {train_path}\")\n",
    "    print(f\"✅  Wrote {len(test_lines):,} → {test_path}\")"
   ]
  },
  {
   "cell_type": "code",
   "execution_count": null,
   "metadata": {
    "id": "iMqKPo9JfE8F"
   },
   "outputs": [],
   "source": [
    "import numpy as np\n",
    "from pathlib import Path\n",
    "MIN_TOTAL = 1000\n",
    "MAX_TOTAL = 999 * 4          # 3996\n",
    "BUCKET_SIZE = 100            # 1000-1099, 1100-1199, …\n",
    "\n",
    "# ────────────────────────────────────────────────────────────────\n",
    "def _sample_bucket(rng: np.random.Generator, lo: int, hi: int, n: int) -> list[str]:\n",
    "    \"\"\"Vectorised sampling of *n* rows whose total ∈ [lo, hi].\"\"\"\n",
    "    rows = []\n",
    "    # oversample a bit so we rarely loop\n",
    "    need = n\n",
    "    while need:\n",
    "        k = need * 2                       # try twice the remaining quota\n",
    "        adds = rng.integers(100, 1000, size=(k, 3))\n",
    "        targets = rng.integers(lo, hi + 1, size=k)\n",
    "        d = targets - adds.sum(1)\n",
    "        ok = (d >= 100) & (d <= 999)\n",
    "        adds_ok = adds[ok][:need]\n",
    "        d_ok = d[ok][:need]\n",
    "        tgt_ok = targets[ok][:need]\n",
    "\n",
    "        rows.extend(\n",
    "            f\"{a}+{b}+{c}+{d}={t}\\n\"\n",
    "            for (a, b, c), d, t in zip(adds_ok, d_ok, tgt_ok, strict=False)\n",
    "        )\n",
    "        need = n - len(rows)\n",
    "    return rows\n",
    "\n",
    "# ────────────────────────────────────────────────────────────────\n",
    "def build_dataset(n_samples: int, out_path: Path, seed: int = 42,\n",
    "                  bucket: int = BUCKET_SIZE) -> None:\n",
    "    rng = np.random.default_rng(seed)\n",
    "\n",
    "    # lay out bucket boundaries\n",
    "    buckets = list(range(MIN_TOTAL, MAX_TOTAL + 1, bucket))\n",
    "    n_buckets = len(buckets)\n",
    "    per_bucket, extra = divmod(n_samples, n_buckets)\n",
    "\n",
    "    with out_path.open(\"w\") as f:\n",
    "        for i, lo in enumerate(buckets):\n",
    "            hi = min(lo + bucket - 1, MAX_TOTAL)\n",
    "            quota = per_bucket + (1 if i < extra else 0)\n",
    "            rows = _sample_bucket(rng, lo, hi, quota)\n",
    "            f.writelines(rows)"
   ]
  },
  {
   "cell_type": "code",
   "execution_count": null,
   "metadata": {
    "id": "JDSxag6yjJVK"
   },
   "outputs": [],
   "source": [
    "build_dataset(10_000,  Path(\"val.txt\"), 42,  100)"
   ]
  },
  {
   "cell_type": "code",
   "execution_count": null,
   "metadata": {
    "id": "MM50HWvR7Y5B"
   },
   "outputs": [],
   "source": [
    "# 1) load the train set\n",
    "train_seen = set(\n",
    "    Path(\"train.txt\")\n",
    "    .read_text()\n",
    "    .splitlines(keepends=True)\n",
    ")\n",
    "\n",
    "# 2) make an RNG for test\n",
    "rng = np.random.default_rng(43)\n",
    "\n",
    "# 3) sample until you have 10 000 *new* rows\n",
    "rows = []\n",
    "lo, hi = 1000, 999 * 4\n",
    "while len(rows) < 10_000:\n",
    "    # <-- correct signature: (rng, lo, hi, n)\n",
    "    batch = _sample_bucket(rng, lo, hi, 500)\n",
    "    for r in batch:\n",
    "        if r not in train_seen:\n",
    "            rows.append(r)\n",
    "            train_seen.add(r)          # also avoid dupes within test\n",
    "        if len(rows) >= 10_000:\n",
    "            break\n",
    "\n",
    "# 4) write out\n",
    "#Path(\"content\").mkdir(exist_ok=True, parents=True)\n",
    "with open(\"test.txt\", \"w\") as f:\n",
    "    f.writelines(rows)"
   ]
  },
  {
   "cell_type": "code",
   "execution_count": null,
   "metadata": {
    "id": "ill9QUM2sMVw"
   },
   "outputs": [],
   "source": [
    "def shuffle_file(input_path: str, output_path: str, seed: int = 42) -> None:\n",
    "    \"\"\"\n",
    "    Reads all lines from input_path, shuffles them (reproducibly by seed),\n",
    "    and writes the result to output_path.\n",
    "    \"\"\"\n",
    "    input_path = Path(input_path)\n",
    "    output_path = Path(output_path)\n",
    "    output_path.parent.mkdir(parents=True, exist_ok=True)\n",
    "\n",
    "    # 1) Read all lines\n",
    "    lines = input_path.read_text().splitlines(keepends=True)\n",
    "\n",
    "    # 2) Shuffle in-place\n",
    "    rng = random.Random(seed)\n",
    "    rng.shuffle(lines)\n",
    "\n",
    "    # 3) Write shuffled lines\n",
    "    output_path.write_text(\"\".join(lines))"
   ]
  },
  {
   "cell_type": "code",
   "execution_count": null,
   "metadata": {
    "id": "XpY18GX4sN0v"
   },
   "outputs": [],
   "source": [
    "shuffle_file('/content/drive/MyDrive/addition/addition_4_operands_3_digit/test/10000_test.txt', '/content/drive/MyDrive/addition/addition_4_operands_3_digit/test/10000_test.txt')"
   ]
  },
  {
   "cell_type": "code",
   "execution_count": null,
   "metadata": {
    "id": "DTli_Mrcflw0"
   },
   "outputs": [],
   "source": [
    "!cp /content/val.txt /content/drive/MyDrive/addition/addition_4_operands_3_digit/val.txt"
   ]
  }
 ],
 "metadata": {
  "colab": {
   "machine_shape": "hm",
   "provenance": []
  },
  "kernelspec": {
   "display_name": "base",
   "language": "python",
   "name": "python3"
  },
  "language_info": {
   "codemirror_mode": {
    "name": "ipython",
    "version": 3
   },
   "file_extension": ".py",
   "mimetype": "text/x-python",
   "name": "python",
   "nbconvert_exporter": "python",
   "pygments_lexer": "ipython3",
   "version": "3.9.13"
  }
 },
 "nbformat": 4,
 "nbformat_minor": 0
}
