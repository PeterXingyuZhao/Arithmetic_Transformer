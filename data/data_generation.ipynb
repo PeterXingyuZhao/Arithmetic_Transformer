{
  "nbformat": 4,
  "nbformat_minor": 0,
  "metadata": {
    "colab": {
      "provenance": [],
      "machine_shape": "hm"
    },
    "kernelspec": {
      "name": "python3",
      "display_name": "Python 3"
    },
    "language_info": {
      "name": "python"
    }
  },
  "cells": [
    {
      "cell_type": "markdown",
      "source": [],
      "metadata": {
        "id": "XiJlazZQgeT9"
      }
    },
    {
      "cell_type": "code",
      "source": [
        "import random\n",
        "from pathlib import Path\n",
        "import os"
      ],
      "metadata": {
        "id": "rU29aiKxgfN-"
      },
      "execution_count": null,
      "outputs": []
    },
    {
      "cell_type": "code",
      "source": [
        "from google.colab import drive\n",
        "drive.mount('/content/drive')"
      ],
      "metadata": {
        "colab": {
          "base_uri": "https://localhost:8080/"
        },
        "id": "Jet_qF0ygCo0",
        "outputId": "1e3b4520-4c65-4139-bff5-d635c19244e2"
      },
      "execution_count": null,
      "outputs": [
        {
          "output_type": "stream",
          "name": "stdout",
          "text": [
            "Drive already mounted at /content/drive; to attempt to forcibly remount, call drive.mount(\"/content/drive\", force_remount=True).\n"
          ]
        }
      ]
    },
    {
      "cell_type": "code",
      "source": [
        "def generate_train_test_data(input_file,out_file, num_samples = 100):\n",
        "  with open(input_file, 'r') as f:\n",
        "    lines = f.readlines()\n",
        "  train_lines = lines[:num_samples]\n",
        "  final_lines = []\n",
        "  for line in train_lines:\n",
        "      line = line.split('=')[0]\n",
        "      line = line + '=\\n'\n",
        "      final_lines.append(line)\n",
        "  with open(out_file, 'w+') as f:\n",
        "    f.writelines(final_lines)\n"
      ],
      "metadata": {
        "id": "8B0WBb51YIIx"
      },
      "execution_count": null,
      "outputs": []
    },
    {
      "cell_type": "code",
      "source": [
        "generate_train_test_data('/content/drive/MyDrive/addition/addition_5_operands/5_addition_train_10000_2.txt', '/content/drive/MyDrive/addition/addition_5_operands/5_addition_train_test_100_2.txt')"
      ],
      "metadata": {
        "id": "F9Wuh4y01esZ"
      },
      "execution_count": null,
      "outputs": []
    },
    {
      "cell_type": "code",
      "execution_count": null,
      "metadata": {
        "id": "je6dArXuf5V6"
      },
      "outputs": [],
      "source": [
        "\n",
        "def generate_3_digit_samples(num_samples=5000):\n",
        "    \"\"\"\n",
        "    Generate 3-digit samples\n",
        "    \"\"\"\n",
        "    samples = []\n",
        "    strata = [\n",
        "            (100, 399), # Lower range\n",
        "            (400, 699), # Middle range\n",
        "            (700, 999)  # Upper range (including numbers close to 999)\n",
        "        ]\n",
        "\n",
        "        # Allocate equal number of samples to each stratum combination\n",
        "    samples_per_combo = num_samples // 3  # 9 combinations of strata\n",
        "    for a_stratum in strata:\n",
        "        for _ in range(samples_per_combo):\n",
        "            a = random.randint(a_stratum[0], a_stratum[1])\n",
        "            samples.append(a)\n",
        "    # Add remaining samples randomly to reach exact num_samples\n",
        "    remaining = num_samples - len(samples)\n",
        "    for _ in range(remaining):\n",
        "        a = random.randint(100, 999)\n",
        "        samples.append(a)\n",
        "    random.shuffle(samples)\n",
        "    return samples\n",
        "\n",
        "def generate_3_digit_addition_multiple(\n",
        "        num_samples: int = 5_000,\n",
        "        output_file_path: str = '/content/drive/MyDrive/addition/add_examples.txt',\n",
        "        pad: bool = True,\n",
        "        reverse: bool = False,\n",
        "        num_addition: int = 4,\n",
        "        num_addition_sample: int = 4,\n",
        "        test_case: bool = False,\n",
        "    ):\n",
        "    \"\"\"\n",
        "    Build lines like 000+123+543+985=1651\\n and write them to *output_file_path*.\n",
        "\n",
        "    * num_addition ........... how many addends each line must contain\n",
        "    * num_addition_sample .... how many real samples to draw for each line\n",
        "                               (≤ num_addition; if smaller, front‑pad with 000)\n",
        "    * reverse ................ if True, write each addend (and the sum) with\n",
        "                               its digits reversed – handy for the rev‑addition\n",
        "                               curriculum you used earlier.\n",
        "    * pad .................... if True, force every addend to 3 digits\n",
        "\n",
        "                           (sum is left un‑padded ‑– matches your example)\n",
        "    \"\"\"\n",
        "    if test_case == False:\n",
        "      file_name = f'train_reverse_{reverse}_additionOperations_{num_addition}_numOfChars_{num_addition_sample}_numOfSamples_{num_samples}.txt'\n",
        "    else:\n",
        "      file_name = f'test_reverse_{reverse}_additionOperations_{num_addition}_numOfChars_{num_addition_sample}_numOfSamples_{num_samples}.txt'\n",
        "    output_file_path = os.path.join(output_file_path, file_name)\n",
        "    path = Path(output_file_path)\n",
        "    path.parent.mkdir(parents=True, exist_ok=True)\n",
        "    if num_addition_sample > num_addition:\n",
        "        raise ValueError(\"num_addition_sample must be ≤ num_addition\")\n",
        "\n",
        "    # 1.  Collect independent sample streams, one per ‘real’ addend.\n",
        "    samples_list = [generate_3_digit_samples(num_samples)            # your helper\n",
        "                    for _ in range(num_addition_sample)]\n",
        "\n",
        "    zeros_to_prepend = num_addition - num_addition_sample\n",
        "    lines: list[str] = []\n",
        "\n",
        "    for i in range(num_samples):\n",
        "        addends_int: list[int] = [0] * zeros_to_prepend \\\n",
        "                               + [samples_list[k][i] for k in range(num_addition_sample)]\n",
        "\n",
        "        line_sum = sum(addends_int)\n",
        "\n",
        "        # 2.  Convert to strings (with optional 0‑padding)\n",
        "        if pad:\n",
        "            addends_str = [f\"{a:03}\" for a in addends_int]\n",
        "        else:\n",
        "            addends_str = [str(a) for a in addends_int]\n",
        "\n",
        "        if reverse:\n",
        "            line_sum = str(line_sum)[::-1]\n",
        "        if test_case:\n",
        "            expr = \"+\".join(addends_str) + f\"=\\n\"\n",
        "        else:\n",
        "            expr = \"+\".join(addends_str) + f\"={line_sum}\\n\"\n",
        "        lines.append(expr)\n",
        "\n",
        "    with open(output_file_path, \"w\") as f:\n",
        "        f.writelines(lines)\n",
        "\n",
        "    return lines"
      ]
    },
    {
      "cell_type": "code",
      "source": [
        "lines: list[str] = generate_3_digit_addition_multiple(num_samples=500000,output_file_path='/content/drive/MyDrive/addition/data/',pad=True,reverse=True,num_addition=4,num_addition_sample=4,test_case=False)"
      ],
      "metadata": {
        "id": "p0SqrPlogCBR"
      },
      "execution_count": null,
      "outputs": []
    },
    {
      "cell_type": "code",
      "source": [
        "lines"
      ],
      "metadata": {
        "id": "C-ZIdKnUhUeo"
      },
      "execution_count": null,
      "outputs": []
    },
    {
      "cell_type": "code",
      "source": [
        "import random\n",
        "import itertools\n",
        "from pathlib import Path\n",
        "\n",
        "def generate_all_problems(num_operands):\n",
        "    \"\"\"\n",
        "    Generate all unique addition problems with (num_operands + 1) operands\n",
        "    where the result is a two-digit number.\n",
        "    \"\"\"\n",
        "    combos = itertools.product(range(1, 10), repeat=num_operands + 1)\n",
        "    return [\n",
        "        f\"{'+'.join(map(str, combo))}={sum(combo)}\"\n",
        "        for combo in combos\n",
        "        if 10 <= sum(combo) <= 99\n",
        "    ]\n",
        "\n",
        "def split_dataset(num_operands, train_frac=0.8, seed=42):\n",
        "    \"\"\"\n",
        "    Generate, shuffle, and split the dataset into train and test sets.\n",
        "\n",
        "    Args:\n",
        "        num_operands (int): Number of operands minus one (so total numbers = num_operands + 1).\n",
        "        train_frac (float): Fraction of data to use for training.\n",
        "        seed (int): Random seed for reproducibility.\n",
        "\n",
        "    Writes:\n",
        "        train.txt, test.txt in the current directory.\n",
        "    \"\"\"\n",
        "    problems = generate_all_problems(num_operands)\n",
        "    random.Random(seed).shuffle(problems)\n",
        "\n",
        "    split_idx = int(2000)\n",
        "    train = problems[:split_idx]\n",
        "    val = problems[split_idx:split_idx+401]\n",
        "    test = problems[split_idx+401:split_idx+801]\n",
        "\n",
        "    # Ensure no overlap\n",
        "    assert set(train).isdisjoint(test), \"Train/Test overlap detected!\"\n",
        "\n",
        "    # Write to files\n",
        "    Path(\"train.txt\").write_text(\"\\n\".join(train) + \"\\n\")\n",
        "    Path(\"test.txt\").write_text(\"\\n\".join(test) + \"\\n\")\n",
        "    Path(\"val.txt\").write_text(\"\\n\".join(val) + \"\\n\")\n",
        "\n",
        "    print(f\"Train size: {len(train)} (written to train.txt)\")\n",
        "    print(f\"Test size: {len(test)} (written to test.txt)\")\n",
        "\n",
        "# Example usage for 3 operands (4 numbers):\n",
        "split_dataset(num_operands=3, train_frac=0.8, seed=42)\n"
      ],
      "metadata": {
        "colab": {
          "base_uri": "https://localhost:8080/"
        },
        "id": "P49O6nbg4cdQ",
        "outputId": "940373e9-12d5-4494-ebcc-b34541ed080d"
      },
      "execution_count": null,
      "outputs": [
        {
          "output_type": "stream",
          "name": "stdout",
          "text": [
            "Train size: 2000 (written to train.txt)\n",
            "Test size: 400 (written to test.txt)\n"
          ]
        }
      ]
    },
    {
      "cell_type": "code",
      "source": [
        "def generate_addition_problem(num_operands):\n",
        "    \"\"\"Generate an addition problem with specified number of operands where result is 2 digits.\"\"\"\n",
        "    while True:\n",
        "        # Generate n+1 numbers (n operands plus one more to ensure we can get a 2-digit result)\n",
        "        numbers = [random.randint(1, 9) for _ in range(num_operands + 1)]\n",
        "        result = sum(numbers)\n",
        "        if 10 <= result <= 99:  # Ensure 2-digit result\n",
        "            # Format the numbers with + between them\n",
        "            problem = \"+\".join(map(str, numbers))\n",
        "            return f\"{problem}={result}\\n\""
      ],
      "metadata": {
        "id": "IEvLhuaFQQ1Y"
      },
      "execution_count": null,
      "outputs": []
    },
    {
      "cell_type": "code",
      "source": [
        "def generate_data(num_operands, num_samples, output_path):\n",
        "    \"\"\"Generate addition data and write to file.\"\"\"\n",
        "    output_path = Path(output_path)\n",
        "    output_path.parent.mkdir(parents=True, exist_ok=True)\n",
        "\n",
        "    with open(output_path, 'w') as f:\n",
        "        for _ in range(num_samples):\n",
        "            line = generate_addition_problem(num_operands)\n",
        "            f.write(line)"
      ],
      "metadata": {
        "id": "3CefaDk5QSBs"
      },
      "execution_count": null,
      "outputs": []
    },
    {
      "cell_type": "code",
      "source": [
        "def reverse_results(input_path, output_path):\n",
        "    \"\"\"Read the input file, reverse the results, and write to output file.\"\"\"\n",
        "    input_path = Path(input_path)\n",
        "    output_path = Path(output_path)\n",
        "    output_path.parent.mkdir(parents=True, exist_ok=True)\n",
        "\n",
        "    with open(input_path, 'r') as f_in, open(output_path, 'w') as f_out:\n",
        "        for line in f_in:\n",
        "            # Split the line into problem and result\n",
        "            problem, result = line.strip().split('=')\n",
        "            # Reverse the result\n",
        "            reversed_result = result[::-1]\n",
        "            # Write the new line with reversed result\n",
        "            f_out.write(f\"{problem}={reversed_result}\\n\")"
      ],
      "metadata": {
        "id": "IguICoY6QUQH"
      },
      "execution_count": null,
      "outputs": []
    },
    {
      "cell_type": "code",
      "source": [
        "reverse_results('/content/val.txt', '/content/drive/MyDrive/addition/addition_4_operands_1_digit/reverse_val.txt')"
      ],
      "metadata": {
        "id": "cFj9wGmniDfj"
      },
      "execution_count": null,
      "outputs": []
    },
    {
      "cell_type": "code",
      "source": [
        "generate_data(6, 200, '/content/drive/MyDrive/addition/addition_7_operands/7_addition_val_200.txt')"
      ],
      "metadata": {
        "id": "3bALxlEmQXPD"
      },
      "execution_count": null,
      "outputs": []
    },
    {
      "cell_type": "code",
      "source": [
        "generate_train_test_data('/content/test.txt', '/content/drive/MyDrive/addition/addition_4_operands_1_digit/reverse_test.txt', num_samples=400)"
      ],
      "metadata": {
        "id": "1-5exXMYSC8s"
      },
      "execution_count": null,
      "outputs": []
    },
    {
      "cell_type": "code",
      "source": [
        "from pathlib import Path\n",
        "\n",
        "def add_padding_at_the_end(input_file, output_file):\n",
        "    output_path = Path(output_file)\n",
        "    output_path.parent.mkdir(parents=True, exist_ok=True)\n",
        "\n",
        "    with open(input_file, 'r') as f:\n",
        "        lines = f.readlines()\n",
        "\n",
        "    with open(output_file, 'w') as f:\n",
        "        for line in lines:\n",
        "            f.write(line.strip() + '$' + '\\n')"
      ],
      "metadata": {
        "id": "bC-ShscnW5KS"
      },
      "execution_count": null,
      "outputs": []
    },
    {
      "cell_type": "code",
      "source": [
        "add_padding_at_the_end('/content/drive/MyDrive/addition/addition_4_operands_1_digit/reverse_val.txt','/content/drive/MyDrive/addition/addition_4_operands_1_digit/reverse_val.txt')"
      ],
      "metadata": {
        "id": "Ww-blsBYyIk6"
      },
      "execution_count": null,
      "outputs": []
    },
    {
      "cell_type": "code",
      "source": [
        "def generate_addition_perturbations_test(pos, num_operands):\n",
        "    \"\"\"Generate an addition problem with specified number of operands where result is 2 digits.\"\"\"\n",
        "    while True:\n",
        "        # Generate n+1 numbers (n operands plus one more to ensure we can get a 2-digit result)\n",
        "        numbers = [random.randint(1, 9) for _ in range(num_operands+1)]\n",
        "        lines = []\n",
        "        for i in range(1,10):\n",
        "          numbers[pos] = i\n",
        "          result = sum(numbers)\n",
        "          if 10 <= result <= 99:  # Ensure 2-digit result\n",
        "            problem = \"+\".join(map(str, numbers))\n",
        "            lines.append(f\"{problem}=\\n\")\n",
        "        return lines"
      ],
      "metadata": {
        "id": "m9NZSETPv-v2"
      },
      "execution_count": null,
      "outputs": []
    },
    {
      "cell_type": "code",
      "source": [
        "def generate_perturbations_test_data(pos, num_operands, num_samples, output_path):\n",
        "    \"\"\"Generate addition data and write to file.\"\"\"\n",
        "    output_path = Path(output_path)\n",
        "    output_path.parent.mkdir(parents=True, exist_ok=True)\n",
        "\n",
        "    with open(output_path, 'w') as f:\n",
        "        count = 0\n",
        "        while True:\n",
        "            lines = generate_addition_perturbations_test(pos, num_operands)  # assumed to return a list of strings\n",
        "            for line in lines:\n",
        "                f.write(line)\n",
        "            count += len(lines)\n",
        "            if count >= num_samples:\n",
        "                break"
      ],
      "metadata": {
        "id": "NzDAQzjwYFyb"
      },
      "execution_count": null,
      "outputs": []
    },
    {
      "cell_type": "code",
      "source": [
        "generate_perturbations_test_data(4, 4, 100, '/content/drive/MyDrive/addition/addition_5_operands/pos_4_perturbations_test.txt')"
      ],
      "metadata": {
        "id": "FFSZfEXH1izH"
      },
      "execution_count": null,
      "outputs": []
    },
    {
      "cell_type": "code",
      "source": [
        "def generate_test_data(input_file,out_file, num_samples = 100):\n",
        "  with open(input_file, 'r') as f:\n",
        "    lines = f.readlines()\n",
        "  final_lines = []\n",
        "  for line in lines:\n",
        "      line = line.split('=')[0]\n",
        "      line = line + '=\\n'\n",
        "      final_lines.append(line)\n",
        "  with open(out_file, 'w+') as f:\n",
        "    f.writelines(final_lines)"
      ],
      "metadata": {
        "id": "YYpdA63wzrgk"
      },
      "execution_count": null,
      "outputs": []
    },
    {
      "cell_type": "code",
      "source": [
        "def generate_addition_rotated_test(num_operands):\n",
        "    \"\"\"Generate an addition problem with specified number of operands where result is 2 digits.\"\"\"\n",
        "    while True:\n",
        "        # Generate n+1 numbers (n operands plus one more to ensure we can get a 2-digit result)\n",
        "        numbers = [random.randint(1, 9) for _ in range(num_operands+1)]\n",
        "        lines = []\n",
        "        for i in range(1,10):\n",
        "          result = sum(numbers)\n",
        "          if 10 <= result <= 99:  # Ensure 2-digit result\n",
        "            problem = \"+\".join(map(str, numbers))\n",
        "            lines.append(f\"{problem}=\\n\")\n",
        "        return lines"
      ],
      "metadata": {
        "id": "iaUUTiKJ7wzQ"
      },
      "execution_count": null,
      "outputs": []
    },
    {
      "cell_type": "code",
      "source": [
        "import random\n",
        "import itertools\n",
        "def select_digits_with_two_digit_sum(num_operands):\n",
        "    \"\"\"Keep sampling until the sum of digits is in [10,99].\"\"\"\n",
        "    while True:\n",
        "        digits = [random.randint(1, 9) for _ in range(num_operands+1)]\n",
        "        if 10 <= sum(digits) <= 99:\n",
        "            return digits\n",
        "\n",
        "def write_perms_from_random_multiset(num_operands, output_path):\n",
        "    \"\"\"\n",
        "    1. Pick a random list of `num_operands` digits (1–9) summing to two digits.\n",
        "    2. Generate all *unique* orderings of that list.\n",
        "    3. Write each as \"a+b+c+...=\" to `output_path`.\n",
        "    \"\"\"\n",
        "    digits = select_digits_with_two_digit_sum(num_operands)\n",
        "    unique_perms = set(itertools.permutations(digits))\n",
        "\n",
        "    output_path = Path(output_path)\n",
        "    output_path.parent.mkdir(parents=True, exist_ok=True)\n",
        "\n",
        "    with open(output_path, 'w') as f:\n",
        "        # Optionally, write a header/comment showing the chosen multiset:\n",
        "        for perm in unique_perms:\n",
        "            f.write(\"+\".join(map(str, perm)) + \"=\\n\")"
      ],
      "metadata": {
        "id": "kgv_2lI38Ixg"
      },
      "execution_count": null,
      "outputs": []
    },
    {
      "cell_type": "code",
      "source": [
        "write_perms_from_random_multiset(4, '/content/drive/MyDrive/addition/addition_5_operands/permutations.txt')"
      ],
      "metadata": {
        "id": "MNHNVSQg8mX8"
      },
      "execution_count": null,
      "outputs": []
    },
    {
      "cell_type": "code",
      "source": [
        "from pathlib import Path\n",
        "import random\n",
        "\n",
        "# ------------------------------------------------------------\n",
        "# helpers\n",
        "# ------------------------------------------------------------\n",
        "def _format(nums):\n",
        "    \"\"\"Return 'a+b+c=SUM' string (ordered, permutation-sensitive).\"\"\"\n",
        "    return f\"{'+'.join(map(str, nums))}={sum(nums)}\"\n",
        "\n",
        "def _sample_valid_tuple(n_operands_plus_one):\n",
        "    \"\"\"Draw (n_operands+1) numbers in [1,9] whose sum is two-digit.\"\"\"\n",
        "    while True:\n",
        "        nums = [random.randint(1, 9) for _ in range(n_operands_plus_one)]\n",
        "        if 10 <= sum(nums) <= 99:\n",
        "            return nums\n",
        "\n",
        "# ------------------------------------------------------------\n",
        "# main API\n",
        "# ------------------------------------------------------------\n",
        "def build_train_and_test(\n",
        "    num_operands: int,\n",
        "    n_train: int,\n",
        "    train_path: str,\n",
        "    test_path: str,\n",
        "    n_test: int = 100,\n",
        "    seed: int | None = 42,\n",
        "):\n",
        "    \"\"\"\n",
        "    Train/test generator where *ordering matters* (3+4 ≠ 4+3).\n",
        "    - num_operands  : number of '+' signs (i.e. operands  = num_operands+1)\n",
        "    - n_train       : rows in train split\n",
        "    - n_test        : rows in test split (default 100)\n",
        "    \"\"\"\n",
        "    if seed is not None:\n",
        "        random.seed(seed)\n",
        "\n",
        "    train_seen = set()   # exact tuples already in train\n",
        "    test_seen  = set()   # exact tuples already in test\n",
        "\n",
        "    # --- build training set --------------------------------------------------\n",
        "    Path(train_path).parent.mkdir(parents=True, exist_ok=True)\n",
        "    with Path(train_path).open(\"w\") as f_train:\n",
        "        while len(train_seen) < n_train:\n",
        "            nums = _sample_valid_tuple(num_operands + 1)\n",
        "            key  = tuple(nums)           # ORDER-SENSITIVE key\n",
        "            if key in train_seen:\n",
        "                continue\n",
        "            train_seen.add(key)\n",
        "            f_train.write(_format(nums) + \"\\n\")\n",
        "\n",
        "    # --- build test set (no overlap with train) ------------------------------\n",
        "    Path(test_path).parent.mkdir(parents=True, exist_ok=True)\n",
        "    with Path(test_path).open(\"w\") as f_test:\n",
        "        while len(test_seen) < n_test:\n",
        "            nums = _sample_valid_tuple(num_operands + 1)\n",
        "            key  = tuple(nums)\n",
        "            if key in train_seen or key in test_seen:\n",
        "                continue\n",
        "            test_seen.add(key)\n",
        "            f_test.write(_format(nums) + \"\\n\")"
      ],
      "metadata": {
        "id": "SxG7rE7BZ-Ah"
      },
      "execution_count": null,
      "outputs": []
    },
    {
      "cell_type": "code",
      "source": [
        "build_train_and_test(\n",
        "        num_operands=4,         # → 5 addends per line\n",
        "        n_train=10000,           # 2 000-row training file\n",
        "        train_path=\"/content/drive/MyDrive/addition/addition_5_operands/5_addition_train_10000_2.txt\",\n",
        "        test_path=\"/content/drive/MyDrive/addition/addition_5_operands/5_addition_test_100_2.txt\",  # 100 brand-new ordered problems\n",
        "        n_test=100,\n",
        "    )\n"
      ],
      "metadata": {
        "id": "s4POkAOxaAB_"
      },
      "execution_count": null,
      "outputs": []
    },
    {
      "cell_type": "code",
      "source": [
        "import random\n",
        "import numpy as np\n",
        "from pathlib import Path\n",
        "def random_addition_quad():\n",
        "    \"\"\"Return (nums, total) where nums is a list of 4 random 3-digit ints\n",
        "       and total ≥ 1000.\"\"\"\n",
        "    while True:\n",
        "        nums = [random.randint(100, 999) for _ in range(4)]\n",
        "        s = sum(nums)\n",
        "        if s >= 1000:               # enforce four-digit total\n",
        "            return nums, s\n",
        "\n",
        "def line_from(nums, total):\n",
        "    \"\"\"Format: 350+540+750+100=1740\\n\"\"\"\n",
        "    return \"+\".join(map(str, nums)) + f\"={total}\\n\""
      ],
      "metadata": {
        "id": "1rXEzq-PfUkV"
      },
      "execution_count": null,
      "outputs": []
    },
    {
      "cell_type": "code",
      "source": [
        "def build_fast(\n",
        "    n_train=800_000, n_test=200_000,\n",
        "    bucket=100, train_path=\"train.txt\", test_path=\"test.txt\",\n",
        "    seed=42, batch_size=200_000\n",
        "):\n",
        "    rng = np.random.default_rng(seed)\n",
        "    edges     = np.arange(1000, 4000+1, bucket)\n",
        "    n_buckets = len(edges) - 1\n",
        "\n",
        "    quota_train = np.full(n_buckets, n_train // n_buckets, dtype=int)\n",
        "    quota_test  = np.full(n_buckets, n_test  // n_buckets, dtype=int)\n",
        "    quota_train[: n_train % n_buckets] += 1\n",
        "    quota_test [: n_test  % n_buckets] += 1\n",
        "\n",
        "    train_lines, test_lines = [], []\n",
        "\n",
        "    while quota_train.sum() or quota_test.sum():\n",
        "        nums  = rng.integers(100, 1000, size=(batch_size, 4), dtype=np.int32)\n",
        "        sums  = nums.sum(axis=1)\n",
        "        keep  = sums >= 1000\n",
        "        nums, sums = nums[keep], sums[keep]\n",
        "\n",
        "        idxs = np.digitize(sums, edges) - 1           # bucket indices\n",
        "\n",
        "        for i in range(len(nums)):\n",
        "            b = idxs[i]\n",
        "            line = f\"{nums[i,0]}+{nums[i,1]}+{nums[i,2]}+{nums[i,3]}={sums[i]}\\n\"\n",
        "            if quota_train[b]:\n",
        "                train_lines.append(line); quota_train[b]-=1\n",
        "            elif quota_test[b]:\n",
        "                test_lines.append(line); quota_test[b]-=1\n",
        "            # else: bucket full → ignore\n",
        "\n",
        "    Path(train_path).write_text(\"\".join(train_lines))\n",
        "    Path(test_path ).write_text(\"\".join(test_lines))\n",
        "\n",
        "    print(f\"✅  Wrote {len(train_lines):,} → {train_path}\")\n",
        "    print(f\"✅  Wrote {len(test_lines):,} → {test_path}\")"
      ],
      "metadata": {
        "id": "vpassu5hjD8i"
      },
      "execution_count": null,
      "outputs": []
    },
    {
      "cell_type": "code",
      "source": [
        "import numpy as np\n",
        "from pathlib import Path\n",
        "MIN_TOTAL = 1000\n",
        "MAX_TOTAL = 999 * 4          # 3996\n",
        "BUCKET_SIZE = 100            # 1000-1099, 1100-1199, …\n",
        "\n",
        "# ────────────────────────────────────────────────────────────────\n",
        "def _sample_bucket(rng: np.random.Generator, lo: int, hi: int, n: int) -> list[str]:\n",
        "    \"\"\"Vectorised sampling of *n* rows whose total ∈ [lo, hi].\"\"\"\n",
        "    rows = []\n",
        "    # oversample a bit so we rarely loop\n",
        "    need = n\n",
        "    while need:\n",
        "        k = need * 2                       # try twice the remaining quota\n",
        "        adds = rng.integers(100, 1000, size=(k, 3))\n",
        "        targets = rng.integers(lo, hi + 1, size=k)\n",
        "        d = targets - adds.sum(1)\n",
        "        ok = (d >= 100) & (d <= 999)\n",
        "        adds_ok = adds[ok][:need]\n",
        "        d_ok = d[ok][:need]\n",
        "        tgt_ok = targets[ok][:need]\n",
        "\n",
        "        rows.extend(\n",
        "            f\"{a}+{b}+{c}+{d}={t}\\n\"\n",
        "            for (a, b, c), d, t in zip(adds_ok, d_ok, tgt_ok, strict=False)\n",
        "        )\n",
        "        need = n - len(rows)\n",
        "    return rows\n",
        "\n",
        "# ────────────────────────────────────────────────────────────────\n",
        "def build_dataset(n_samples: int, out_path: Path, seed: int = 42,\n",
        "                  bucket: int = BUCKET_SIZE) -> None:\n",
        "    rng = np.random.default_rng(seed)\n",
        "\n",
        "    # lay out bucket boundaries\n",
        "    buckets = list(range(MIN_TOTAL, MAX_TOTAL + 1, bucket))\n",
        "    n_buckets = len(buckets)\n",
        "    per_bucket, extra = divmod(n_samples, n_buckets)\n",
        "\n",
        "    with out_path.open(\"w\") as f:\n",
        "        for i, lo in enumerate(buckets):\n",
        "            hi = min(lo + bucket - 1, MAX_TOTAL)\n",
        "            quota = per_bucket + (1 if i < extra else 0)\n",
        "            rows = _sample_bucket(rng, lo, hi, quota)\n",
        "            f.writelines(rows)"
      ],
      "metadata": {
        "id": "iMqKPo9JfE8F"
      },
      "execution_count": null,
      "outputs": []
    },
    {
      "cell_type": "code",
      "source": [
        "build_dataset(10_000,  Path(\"val.txt\"), 42,  100)"
      ],
      "metadata": {
        "id": "JDSxag6yjJVK"
      },
      "execution_count": null,
      "outputs": []
    },
    {
      "cell_type": "code",
      "source": [
        "# 1) load the train set\n",
        "train_seen = set(\n",
        "    Path(\"train.txt\")\n",
        "    .read_text()\n",
        "    .splitlines(keepends=True)\n",
        ")\n",
        "\n",
        "# 2) make an RNG for test\n",
        "rng = np.random.default_rng(43)\n",
        "\n",
        "# 3) sample until you have 10 000 *new* rows\n",
        "rows = []\n",
        "lo, hi = 1000, 999 * 4\n",
        "while len(rows) < 10_000:\n",
        "    # <-- correct signature: (rng, lo, hi, n)\n",
        "    batch = _sample_bucket(rng, lo, hi, 500)\n",
        "    for r in batch:\n",
        "        if r not in train_seen:\n",
        "            rows.append(r)\n",
        "            train_seen.add(r)          # also avoid dupes within test\n",
        "        if len(rows) >= 10_000:\n",
        "            break\n",
        "\n",
        "# 4) write out\n",
        "#Path(\"content\").mkdir(exist_ok=True, parents=True)\n",
        "with open(\"test.txt\", \"w\") as f:\n",
        "    f.writelines(rows)"
      ],
      "metadata": {
        "id": "MM50HWvR7Y5B"
      },
      "execution_count": null,
      "outputs": []
    },
    {
      "cell_type": "code",
      "source": [
        "def shuffle_file(input_path: str, output_path: str, seed: int = 42) -> None:\n",
        "    \"\"\"\n",
        "    Reads all lines from input_path, shuffles them (reproducibly by seed),\n",
        "    and writes the result to output_path.\n",
        "    \"\"\"\n",
        "    input_path = Path(input_path)\n",
        "    output_path = Path(output_path)\n",
        "    output_path.parent.mkdir(parents=True, exist_ok=True)\n",
        "\n",
        "    # 1) Read all lines\n",
        "    lines = input_path.read_text().splitlines(keepends=True)\n",
        "\n",
        "    # 2) Shuffle in-place\n",
        "    rng = random.Random(seed)\n",
        "    rng.shuffle(lines)\n",
        "\n",
        "    # 3) Write shuffled lines\n",
        "    output_path.write_text(\"\".join(lines))"
      ],
      "metadata": {
        "id": "ill9QUM2sMVw"
      },
      "execution_count": null,
      "outputs": []
    },
    {
      "cell_type": "code",
      "source": [
        "shuffle_file('/content/drive/MyDrive/addition/addition_4_operands_3_digit/test/10000_test.txt', '/content/drive/MyDrive/addition/addition_4_operands_3_digit/test/10000_test.txt')"
      ],
      "metadata": {
        "id": "XpY18GX4sN0v"
      },
      "execution_count": null,
      "outputs": []
    },
    {
      "cell_type": "code",
      "source": [
        "!cp /content/val.txt /content/drive/MyDrive/addition/addition_4_operands_3_digit/val.txt"
      ],
      "metadata": {
        "id": "DTli_Mrcflw0"
      },
      "execution_count": null,
      "outputs": []
    }
  ]
}